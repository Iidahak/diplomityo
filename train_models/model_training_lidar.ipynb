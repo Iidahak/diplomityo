{
 "cells": [
  {
   "cell_type": "code",
   "execution_count": 63,
   "id": "79dc1b3b",
   "metadata": {},
   "outputs": [],
   "source": [
    "import os, time\n",
    "import numpy as np\n",
    "import pandas as pd\n",
    "import geopandas as gpd\n",
    "import matplotlib.pyplot as plt\n",
    "import seaborn as sns\n",
    "from copy import deepcopy\n",
    "import warnings\n",
    "\n",
    "from sklearn.pipeline import Pipeline, FeatureUnion\n",
    "from sklearn.compose import ColumnTransformer, make_column_selector\n",
    "\n",
    "from sklearn.impute import SimpleImputer\n",
    "from sklearn.preprocessing import RobustScaler, StandardScaler, PolynomialFeatures, FunctionTransformer\n",
    "from sklearn.feature_selection import f_classif, mutual_info_classif, RFE, RFECV, SelectKBest, SequentialFeatureSelector\n",
    "from sklearn.decomposition import PCA\n",
    "from sklearn.cluster import KMeans, DBSCAN, FeatureAgglomeration, SpectralClustering\n",
    "\n",
    "from sklearn.metrics import accuracy_score, balanced_accuracy_score, roc_auc_score, classification_report, ConfusionMatrixDisplay, silhouette_score, confusion_matrix\n",
    "from sklearn.model_selection import GridSearchCV, StratifiedKFold, RepeatedStratifiedKFold, train_test_split, ParameterGrid, ValidationCurveDisplay, StratifiedGroupKFold\n",
    "from sklearn.ensemble import RandomForestClassifier, GradientBoostingClassifier, AdaBoostClassifier\n",
    "from sklearn.tree import DecisionTreeClassifier\n",
    "from sklearn.linear_model import LogisticRegressionCV, RidgeClassifierCV, Perceptron\n",
    "from sklearn.svm import SVC, LinearSVC\n",
    "from sklearn.neighbors import KNeighborsClassifier, NeighborhoodComponentsAnalysis\n",
    "from sklearn.model_selection import train_test_split\n",
    "\n",
    "from tensorflow.keras import optimizers\n",
    "from tensorflow.keras import Sequential\n",
    "from keras.layers import Dense, Dropout, Normalization, Input\n",
    "from keras.callbacks import EarlyStopping, ReduceLROnPlateau\n",
    "from scikeras.wrappers import KerasClassifier\n",
    "\n",
    "from imblearn.over_sampling import SMOTE, ADASYN, BorderlineSMOTE\n",
    "\n",
    "from sklearn.model_selection import cross_val_score, cross_val_predict\n",
    "from imblearn.pipeline import Pipeline \n",
    "from sklearn.model_selection import StratifiedGroupKFold, GroupShuffleSplit\n",
    "from sklearn.neural_network import MLPClassifier\n",
    "from sklearn.metrics import precision_score, recall_score, f1_score, make_scorer"
   ]
  },
  {
   "cell_type": "code",
   "execution_count": 64,
   "id": "40cdf5a0",
   "metadata": {},
   "outputs": [
    {
     "data": {
      "text/html": [
       "<div>\n",
       "<style scoped>\n",
       "    .dataframe tbody tr th:only-of-type {\n",
       "        vertical-align: middle;\n",
       "    }\n",
       "\n",
       "    .dataframe tbody tr th {\n",
       "        vertical-align: top;\n",
       "    }\n",
       "\n",
       "    .dataframe thead th {\n",
       "        text-align: right;\n",
       "    }\n",
       "</style>\n",
       "<table border=\"1\" class=\"dataframe\">\n",
       "  <thead>\n",
       "    <tr style=\"text-align: right;\">\n",
       "      <th></th>\n",
       "      <th>fid_1</th>\n",
       "      <th>ID</th>\n",
       "      <th>XCOORD</th>\n",
       "      <th>YCOORD</th>\n",
       "      <th>HEIGHT</th>\n",
       "      <th>SPECIES</th>\n",
       "      <th>Shape_Length</th>\n",
       "      <th>Shape_Area</th>\n",
       "      <th>INV_UNIT</th>\n",
       "      <th>PAR_UNIT</th>\n",
       "      <th>...</th>\n",
       "      <th>NDBI_08-01_MEAN</th>\n",
       "      <th>NDBI_08-11_MEAN</th>\n",
       "      <th>NDBI_08-21_MEAN</th>\n",
       "      <th>NDBI_09-01_MEAN</th>\n",
       "      <th>NDBI_09-11_MEAN</th>\n",
       "      <th>NDBI_09-21_MEAN</th>\n",
       "      <th>NDBI_10-01_MEAN</th>\n",
       "      <th>NDBI_10-11_MEAN</th>\n",
       "      <th>NDBI_10-21_MEAN</th>\n",
       "      <th>geometry</th>\n",
       "    </tr>\n",
       "  </thead>\n",
       "  <tbody>\n",
       "    <tr>\n",
       "      <th>0</th>\n",
       "      <td>2322012.0</td>\n",
       "      <td>67330</td>\n",
       "      <td>604767.870</td>\n",
       "      <td>6913829.000</td>\n",
       "      <td>20.592600</td>\n",
       "      <td>2.0</td>\n",
       "      <td>16.0</td>\n",
       "      <td>9.875</td>\n",
       "      <td>22454000</td>\n",
       "      <td>NaN</td>\n",
       "      <td>...</td>\n",
       "      <td>-0.476858</td>\n",
       "      <td>-0.469180</td>\n",
       "      <td>-0.482851</td>\n",
       "      <td>-0.497415</td>\n",
       "      <td>-0.488341</td>\n",
       "      <td>-0.477839</td>\n",
       "      <td>-0.472446</td>\n",
       "      <td>-0.426320</td>\n",
       "      <td>-0.418108</td>\n",
       "      <td>MULTIPOLYGON (((604766.37 6913830.75, 604766.8...</td>\n",
       "    </tr>\n",
       "    <tr>\n",
       "      <th>1</th>\n",
       "      <td>2322222.0</td>\n",
       "      <td>8147</td>\n",
       "      <td>604771.495</td>\n",
       "      <td>6913828.125</td>\n",
       "      <td>25.119101</td>\n",
       "      <td>2.0</td>\n",
       "      <td>19.5</td>\n",
       "      <td>14.375</td>\n",
       "      <td>22454001</td>\n",
       "      <td>NaN</td>\n",
       "      <td>...</td>\n",
       "      <td>-0.476858</td>\n",
       "      <td>-0.469180</td>\n",
       "      <td>-0.482851</td>\n",
       "      <td>-0.497415</td>\n",
       "      <td>-0.488341</td>\n",
       "      <td>-0.477839</td>\n",
       "      <td>-0.472446</td>\n",
       "      <td>-0.426320</td>\n",
       "      <td>-0.418108</td>\n",
       "      <td>MULTIPOLYGON (((604771.37 6913830.5, 604771.87...</td>\n",
       "    </tr>\n",
       "    <tr>\n",
       "      <th>2</th>\n",
       "      <td>2322523.0</td>\n",
       "      <td>8184</td>\n",
       "      <td>604776.995</td>\n",
       "      <td>6913824.375</td>\n",
       "      <td>25.944401</td>\n",
       "      <td>2.0</td>\n",
       "      <td>29.0</td>\n",
       "      <td>25.000</td>\n",
       "      <td>22454002</td>\n",
       "      <td>NaN</td>\n",
       "      <td>...</td>\n",
       "      <td>-0.464200</td>\n",
       "      <td>-0.455254</td>\n",
       "      <td>-0.471066</td>\n",
       "      <td>-0.486093</td>\n",
       "      <td>-0.484010</td>\n",
       "      <td>-0.482644</td>\n",
       "      <td>-0.478856</td>\n",
       "      <td>-0.436272</td>\n",
       "      <td>-0.433940</td>\n",
       "      <td>MULTIPOLYGON (((604775.62 6913827.75, 604776.1...</td>\n",
       "    </tr>\n",
       "    <tr>\n",
       "      <th>3</th>\n",
       "      <td>2322537.0</td>\n",
       "      <td>67317</td>\n",
       "      <td>604767.870</td>\n",
       "      <td>6913823.625</td>\n",
       "      <td>20.515301</td>\n",
       "      <td>2.0</td>\n",
       "      <td>17.0</td>\n",
       "      <td>10.375</td>\n",
       "      <td>22454003</td>\n",
       "      <td>NaN</td>\n",
       "      <td>...</td>\n",
       "      <td>-0.476858</td>\n",
       "      <td>-0.469180</td>\n",
       "      <td>-0.482851</td>\n",
       "      <td>-0.497415</td>\n",
       "      <td>-0.488341</td>\n",
       "      <td>-0.477839</td>\n",
       "      <td>-0.472446</td>\n",
       "      <td>-0.426320</td>\n",
       "      <td>-0.418108</td>\n",
       "      <td>MULTIPOLYGON (((604769.12 6913825.75, 604769.3...</td>\n",
       "    </tr>\n",
       "    <tr>\n",
       "      <th>4</th>\n",
       "      <td>2322718.0</td>\n",
       "      <td>8200</td>\n",
       "      <td>604771.870</td>\n",
       "      <td>6913822.875</td>\n",
       "      <td>25.156799</td>\n",
       "      <td>2.0</td>\n",
       "      <td>26.5</td>\n",
       "      <td>21.875</td>\n",
       "      <td>22454004</td>\n",
       "      <td>NaN</td>\n",
       "      <td>...</td>\n",
       "      <td>-0.477387</td>\n",
       "      <td>-0.463910</td>\n",
       "      <td>-0.473634</td>\n",
       "      <td>-0.486976</td>\n",
       "      <td>-0.487947</td>\n",
       "      <td>-0.489706</td>\n",
       "      <td>-0.464757</td>\n",
       "      <td>-0.411976</td>\n",
       "      <td>-0.405982</td>\n",
       "      <td>MULTIPOLYGON (((604772.62 6913826.25, 604772.8...</td>\n",
       "    </tr>\n",
       "  </tbody>\n",
       "</table>\n",
       "<p>5 rows × 615 columns</p>\n",
       "</div>"
      ],
      "text/plain": [
       "       fid_1     ID      XCOORD       YCOORD     HEIGHT  SPECIES  \\\n",
       "0  2322012.0  67330  604767.870  6913829.000  20.592600      2.0   \n",
       "1  2322222.0   8147  604771.495  6913828.125  25.119101      2.0   \n",
       "2  2322523.0   8184  604776.995  6913824.375  25.944401      2.0   \n",
       "3  2322537.0  67317  604767.870  6913823.625  20.515301      2.0   \n",
       "4  2322718.0   8200  604771.870  6913822.875  25.156799      2.0   \n",
       "\n",
       "   Shape_Length  Shape_Area  INV_UNIT  PAR_UNIT  ...  NDBI_08-01_MEAN  \\\n",
       "0          16.0       9.875  22454000       NaN  ...        -0.476858   \n",
       "1          19.5      14.375  22454001       NaN  ...        -0.476858   \n",
       "2          29.0      25.000  22454002       NaN  ...        -0.464200   \n",
       "3          17.0      10.375  22454003       NaN  ...        -0.476858   \n",
       "4          26.5      21.875  22454004       NaN  ...        -0.477387   \n",
       "\n",
       "   NDBI_08-11_MEAN  NDBI_08-21_MEAN  NDBI_09-01_MEAN  NDBI_09-11_MEAN  \\\n",
       "0        -0.469180        -0.482851        -0.497415        -0.488341   \n",
       "1        -0.469180        -0.482851        -0.497415        -0.488341   \n",
       "2        -0.455254        -0.471066        -0.486093        -0.484010   \n",
       "3        -0.469180        -0.482851        -0.497415        -0.488341   \n",
       "4        -0.463910        -0.473634        -0.486976        -0.487947   \n",
       "\n",
       "   NDBI_09-21_MEAN  NDBI_10-01_MEAN  NDBI_10-11_MEAN  NDBI_10-21_MEAN  \\\n",
       "0        -0.477839        -0.472446        -0.426320        -0.418108   \n",
       "1        -0.477839        -0.472446        -0.426320        -0.418108   \n",
       "2        -0.482644        -0.478856        -0.436272        -0.433940   \n",
       "3        -0.477839        -0.472446        -0.426320        -0.418108   \n",
       "4        -0.489706        -0.464757        -0.411976        -0.405982   \n",
       "\n",
       "                                            geometry  \n",
       "0  MULTIPOLYGON (((604766.37 6913830.75, 604766.8...  \n",
       "1  MULTIPOLYGON (((604771.37 6913830.5, 604771.87...  \n",
       "2  MULTIPOLYGON (((604775.62 6913827.75, 604776.1...  \n",
       "3  MULTIPOLYGON (((604769.12 6913825.75, 604769.3...  \n",
       "4  MULTIPOLYGON (((604772.62 6913826.25, 604772.8...  \n",
       "\n",
       "[5 rows x 615 columns]"
      ]
     },
     "execution_count": 64,
     "metadata": {},
     "output_type": "execute_result"
    }
   ],
   "source": [
    "path_to_training_data = r\"training_data_dates_over_years.gpkg\"\n",
    "training_data_layer_name = \"stands_Training_data\"\n",
    "\n",
    "training_data = gpd.read_file(path_to_training_data, layer=training_data_layer_name)\n",
    "training_data.head()"
   ]
  },
  {
   "cell_type": "code",
   "execution_count": 65,
   "id": "4757d70c",
   "metadata": {},
   "outputs": [],
   "source": [
    "lidar_ch1_features = training_data.filter(regex=r\"^L_Ch1_.*\")\n",
    "lidar_ch2_features = training_data.filter(regex=r\"^L_Ch2_.*\")\n",
    "lidar_ch3_features = training_data.filter(regex=r\"^L_Ch3_.*\")\n",
    "\n",
    "lidar_features = pd.concat([lidar_ch1_features, lidar_ch2_features, lidar_ch3_features], axis=1)\n",
    "y = training_data[\"SPECIES\"]"
   ]
  },
  {
   "cell_type": "code",
   "execution_count": 47,
   "id": "46e7ed0c",
   "metadata": {},
   "outputs": [
    {
     "name": "stdout",
     "output_type": "stream",
     "text": [
      "L_Ch1_VEG_Z95       7\n",
      "L_Ch1_VEG_Z90       7\n",
      "L_Ch1_VEG_Z85       7\n",
      "L_Ch1_VEG_Z80       7\n",
      "L_Ch1_VEG13_Z95    32\n",
      "                   ..\n",
      "L_Ch3_LI5_IA3       7\n",
      "L_Ch3_D_RF          2\n",
      "L_Ch3_D_RL          2\n",
      "L_Ch3_D_RI          2\n",
      "L_Ch3_D_RO          2\n",
      "Length: 309, dtype: int64\n"
     ]
    }
   ],
   "source": [
    "print(np.isnan(lidar_features).sum())"
   ]
  },
  {
   "cell_type": "code",
   "execution_count": 66,
   "id": "cd3a035a",
   "metadata": {},
   "outputs": [],
   "source": [
    "X_lidar = pd.concat([lidar_features, training_data[\"HEIGHT\"]], axis=1)"
   ]
  },
  {
   "cell_type": "code",
   "execution_count": 67,
   "id": "b9ad66bb",
   "metadata": {},
   "outputs": [],
   "source": [
    "X_train_lidar, X_test_lidar, y_train_lidar, y_test_lidar = train_test_split(X_lidar, y, test_size=0.2, random_state=1, stratify=y)"
   ]
  },
  {
   "cell_type": "code",
   "execution_count": null,
   "id": "a1bd4c9b",
   "metadata": {},
   "outputs": [],
   "source": [
    "def train_model(model, X_train, X_test, y_train, y_test):\n",
    "    model_copy = deepcopy(model)\n",
    "    with warnings.catch_warnings():\n",
    "        warnings.filterwarnings(\"ignore\", message=\"UserWarning: Skipping features without any observed values\")\n",
    "        if type(model_copy) is GridSearchCV:\n",
    "            model_copy.fit(X_train, y_train)\n",
    "          \n",
    "            #print(f\"Best CV accuracy: {model_copy.best_score_:.3f} ± {model_copy.cv_results_['std_test_score'][model_copy.best_index_]:.3f}\")\n",
    "            \n",
    "            mean_f1 = np.mean(model_copy.cv_results_[\"mean_test_f1_macro\"])\n",
    "            std_f1 = np.std(model_copy.cv_results_[\"std_test_f1_macro\"])\n",
    "            mean_ba = np.mean(model_copy.cv_results_[\"mean_test_balanced_accuracy\"])\n",
    "            std_ba = np.std(model_copy.cv_results_[\"std_test_balanced_accuracy\"])\n",
    "            mean_oa = np.mean(model_copy.cv_results_[\"mean_test_accuracy\"])\n",
    "            std_oa = np.std(model_copy.cv_results_[\"std_test_accuracy\"])\n",
    "            print(f\"Mean CV accuracy: {mean_oa:.3f}, ± {std_oa:.3f}\")\n",
    "            print(f\"Mean CV BA: {mean_ba:.3f}, ± {std_ba:.3f}\")\n",
    "            print(f\"Mean CV f1: {mean_f1:.3f}, ± {std_f1:.3f}\")\n",
    "           \n",
    "            std_score_dof = np.std(model_copy.cv_results_[\"mean_test_accuracy\"], ddof=1)\n",
    "            print(f\"95% CI: ({1.96 * std_score_dof / np.sqrt(len(model_copy.cv_results_['mean_test_accuracy'])):.3f})\")\n",
    "\n",
    "            print(\"Best params:\", model_copy.best_params_)\n",
    "            best_model = model_copy.best_estimator_  \n",
    "\n",
    "            y_pred = best_model.predict(X_test)\n",
    "            print(f\"Test set accuracy: {best_model.score(X_test, y_test):.3f}\")  \n",
    "        else:\n",
    "            model_copy.fit(X_train, y_train)\n",
    "            y_pred = model_copy.predict(X_test) \n",
    "        \n",
    "    print(\"Classification report\\n\", classification_report(y_test, y_pred))\n",
    "    print(\"Balanced accuracy score:\", balanced_accuracy_score(y_test, y_pred))\n",
    "    ConfusionMatrixDisplay.from_predictions(y_test, y_pred, normalize='true')\n",
    "    return model_copy"
   ]
  },
  {
   "cell_type": "code",
   "execution_count": 69,
   "id": "a13b847e",
   "metadata": {},
   "outputs": [],
   "source": [
    "cv = StratifiedKFold(n_splits=5, shuffle=True, random_state=1)"
   ]
  },
  {
   "cell_type": "code",
   "execution_count": 70,
   "id": "cb42ad5b",
   "metadata": {},
   "outputs": [],
   "source": [
    "#get cv results\n",
    "scoring = {'accuracy' : make_scorer(accuracy_score), \n",
    "           'precision' : make_scorer(precision_score, average='macro'),\n",
    "           'recall' : make_scorer(recall_score, average='macro'),\n",
    "           'f1_macro' : make_scorer(f1_score, average='macro'),\n",
    "           'balanced_accuracy': make_scorer(balanced_accuracy_score)}"
   ]
  },
  {
   "cell_type": "code",
   "execution_count": 71,
   "id": "61e7deaf",
   "metadata": {},
   "outputs": [
    {
     "name": "stdout",
     "output_type": "stream",
     "text": [
      "Fitting 5 folds for each of 6 candidates, totalling 30 fits\n",
      "[CV 1/5; 1/6] START clf__max_depth=None, clf__n_estimators=50...................\n",
      "[CV 1/5; 1/6] END clf__max_depth=None, clf__n_estimators=50; accuracy: (train=1.000, test=0.786) balanced_accuracy: (train=0.999, test=0.594) f1_macro: (train=0.999, test=0.609) precision: (train=1.000, test=0.675) recall: (train=0.999, test=0.594) total time=   1.1s\n",
      "[CV 2/5; 1/6] START clf__max_depth=None, clf__n_estimators=50...................\n",
      "[CV 2/5; 1/6] END clf__max_depth=None, clf__n_estimators=50; accuracy: (train=1.000, test=0.758) balanced_accuracy: (train=1.000, test=0.562) f1_macro: (train=1.000, test=0.584) precision: (train=1.000, test=0.638) recall: (train=1.000, test=0.562) total time=   0.8s\n",
      "[CV 3/5; 1/6] START clf__max_depth=None, clf__n_estimators=50...................\n",
      "[CV 3/5; 1/6] END clf__max_depth=None, clf__n_estimators=50; accuracy: (train=0.999, test=0.789) balanced_accuracy: (train=0.998, test=0.591) f1_macro: (train=0.999, test=0.617) precision: (train=1.000, test=0.731) recall: (train=0.998, test=0.591) total time=   1.0s\n",
      "[CV 4/5; 1/6] START clf__max_depth=None, clf__n_estimators=50...................\n",
      "[CV 4/5; 1/6] END clf__max_depth=None, clf__n_estimators=50; accuracy: (train=1.000, test=0.794) balanced_accuracy: (train=0.999, test=0.607) f1_macro: (train=0.999, test=0.644) precision: (train=1.000, test=0.750) recall: (train=0.999, test=0.607) total time=   0.9s\n",
      "[CV 5/5; 1/6] START clf__max_depth=None, clf__n_estimators=50...................\n",
      "[CV 5/5; 1/6] END clf__max_depth=None, clf__n_estimators=50; accuracy: (train=1.000, test=0.807) balanced_accuracy: (train=1.000, test=0.582) f1_macro: (train=1.000, test=0.600) precision: (train=1.000, test=0.688) recall: (train=1.000, test=0.582) total time=   0.9s\n",
      "[CV 1/5; 2/6] START clf__max_depth=None, clf__n_estimators=100..................\n",
      "[CV 1/5; 2/6] END clf__max_depth=None, clf__n_estimators=100; accuracy: (train=1.000, test=0.796) balanced_accuracy: (train=0.999, test=0.612) f1_macro: (train=0.999, test=0.634) precision: (train=1.000, test=0.696) recall: (train=0.999, test=0.612) total time=   1.8s\n",
      "[CV 2/5; 2/6] START clf__max_depth=None, clf__n_estimators=100..................\n",
      "[CV 2/5; 2/6] END clf__max_depth=None, clf__n_estimators=100; accuracy: (train=1.000, test=0.769) balanced_accuracy: (train=1.000, test=0.594) f1_macro: (train=1.000, test=0.623) precision: (train=1.000, test=0.682) recall: (train=1.000, test=0.594) total time=   1.7s\n",
      "[CV 3/5; 2/6] START clf__max_depth=None, clf__n_estimators=100..................\n",
      "[CV 3/5; 2/6] END clf__max_depth=None, clf__n_estimators=100; accuracy: (train=1.000, test=0.801) balanced_accuracy: (train=0.999, test=0.608) f1_macro: (train=1.000, test=0.642) precision: (train=1.000, test=0.758) recall: (train=0.999, test=0.608) total time=   1.5s\n",
      "[CV 4/5; 2/6] START clf__max_depth=None, clf__n_estimators=100..................\n",
      "[CV 4/5; 2/6] END clf__max_depth=None, clf__n_estimators=100; accuracy: (train=1.000, test=0.794) balanced_accuracy: (train=1.000, test=0.594) f1_macro: (train=1.000, test=0.630) precision: (train=1.000, test=0.740) recall: (train=1.000, test=0.594) total time=   1.6s\n",
      "[CV 5/5; 2/6] START clf__max_depth=None, clf__n_estimators=100..................\n",
      "[CV 5/5; 2/6] END clf__max_depth=None, clf__n_estimators=100; accuracy: (train=1.000, test=0.810) balanced_accuracy: (train=0.999, test=0.595) f1_macro: (train=0.999, test=0.613) precision: (train=1.000, test=0.689) recall: (train=0.999, test=0.595) total time=   1.6s\n",
      "[CV 1/5; 3/6] START clf__max_depth=5, clf__n_estimators=50......................\n",
      "[CV 1/5; 3/6] END clf__max_depth=5, clf__n_estimators=50; accuracy: (train=0.799, test=0.775) balanced_accuracy: (train=0.562, test=0.516) f1_macro: (train=0.594, test=0.520) precision: (train=0.888, test=0.701) recall: (train=0.562, test=0.516) total time=   0.5s\n",
      "[CV 2/5; 3/6] START clf__max_depth=5, clf__n_estimators=50......................\n",
      "[CV 2/5; 3/6] END clf__max_depth=5, clf__n_estimators=50; accuracy: (train=0.817, test=0.754) balanced_accuracy: (train=0.603, test=0.502) f1_macro: (train=0.648, test=0.508) precision: (train=0.873, test=0.604) recall: (train=0.603, test=0.502) total time=   0.4s\n",
      "[CV 3/5; 3/6] START clf__max_depth=5, clf__n_estimators=50......................\n",
      "[CV 3/5; 3/6] END clf__max_depth=5, clf__n_estimators=50; accuracy: (train=0.804, test=0.772) balanced_accuracy: (train=0.564, test=0.518) f1_macro: (train=0.592, test=0.521) precision: (train=0.883, test=0.642) recall: (train=0.564, test=0.518) total time=   0.4s\n",
      "[CV 4/5; 3/6] START clf__max_depth=5, clf__n_estimators=50......................\n",
      "[CV 4/5; 3/6] END clf__max_depth=5, clf__n_estimators=50; accuracy: (train=0.806, test=0.756) balanced_accuracy: (train=0.573, test=0.486) f1_macro: (train=0.605, test=0.492) precision: (train=0.855, test=0.865) recall: (train=0.573, test=0.486) total time=   0.6s\n",
      "[CV 5/5; 3/6] START clf__max_depth=5, clf__n_estimators=50......................\n",
      "[CV 5/5; 3/6] END clf__max_depth=5, clf__n_estimators=50; accuracy: (train=0.807, test=0.781) balanced_accuracy: (train=0.591, test=0.527) f1_macro: (train=0.641, test=0.540) precision: (train=0.877, test=0.655) recall: (train=0.591, test=0.527) total time=   0.6s\n",
      "[CV 1/5; 4/6] START clf__max_depth=5, clf__n_estimators=100.....................\n"
     ]
    },
    {
     "name": "stderr",
     "output_type": "stream",
     "text": [
      "C:\\Users\\iidam\\AppData\\Local\\Packages\\PythonSoftwareFoundation.Python.3.11_qbz5n2kfra8p0\\LocalCache\\local-packages\\Python311\\site-packages\\sklearn\\metrics\\_classification.py:1531: UndefinedMetricWarning: Precision is ill-defined and being set to 0.0 in labels with no predicted samples. Use `zero_division` parameter to control this behavior.\n",
      "  _warn_prf(average, modifier, f\"{metric.capitalize()} is\", len(result))\n"
     ]
    },
    {
     "name": "stdout",
     "output_type": "stream",
     "text": [
      "[CV 1/5; 4/6] END clf__max_depth=5, clf__n_estimators=100; accuracy: (train=0.795, test=0.775) balanced_accuracy: (train=0.556, test=0.512) f1_macro: (train=0.590, test=0.510) precision: (train=0.889, test=0.537) recall: (train=0.556, test=0.512) total time=   0.8s\n",
      "[CV 2/5; 4/6] START clf__max_depth=5, clf__n_estimators=100.....................\n",
      "[CV 2/5; 4/6] END clf__max_depth=5, clf__n_estimators=100; accuracy: (train=0.815, test=0.759) balanced_accuracy: (train=0.598, test=0.506) f1_macro: (train=0.642, test=0.517) precision: (train=0.878, test=0.638) recall: (train=0.598, test=0.506) total time=   1.0s\n",
      "[CV 3/5; 4/6] START clf__max_depth=5, clf__n_estimators=100.....................\n",
      "[CV 3/5; 4/6] END clf__max_depth=5, clf__n_estimators=100; accuracy: (train=0.808, test=0.772) balanced_accuracy: (train=0.566, test=0.518) f1_macro: (train=0.595, test=0.520) precision: (train=0.900, test=0.695) recall: (train=0.566, test=0.518) total time=   0.9s\n",
      "[CV 4/5; 4/6] START clf__max_depth=5, clf__n_estimators=100.....................\n",
      "[CV 4/5; 4/6] END clf__max_depth=5, clf__n_estimators=100; accuracy: (train=0.803, test=0.748) balanced_accuracy: (train=0.565, test=0.475) f1_macro: (train=0.593, test=0.475) precision: (train=0.878, test=0.522) recall: (train=0.565, test=0.475) total time=   1.1s\n",
      "[CV 5/5; 4/6] START clf__max_depth=5, clf__n_estimators=100.....................\n",
      "[CV 5/5; 4/6] END clf__max_depth=5, clf__n_estimators=100; accuracy: (train=0.807, test=0.777) balanced_accuracy: (train=0.594, test=0.519) f1_macro: (train=0.645, test=0.526) precision: (train=0.874, test=0.608) recall: (train=0.594, test=0.519) total time=   0.9s\n",
      "[CV 1/5; 5/6] START clf__max_depth=10, clf__n_estimators=50.....................\n",
      "[CV 1/5; 5/6] END clf__max_depth=10, clf__n_estimators=50; accuracy: (train=0.945, test=0.786) balanced_accuracy: (train=0.867, test=0.583) f1_macro: (train=0.908, test=0.604) precision: (train=0.970, test=0.671) recall: (train=0.867, test=0.583) total time=   0.7s\n",
      "[CV 2/5; 5/6] START clf__max_depth=10, clf__n_estimators=50.....................\n",
      "[CV 2/5; 5/6] END clf__max_depth=10, clf__n_estimators=50; accuracy: (train=0.947, test=0.764) balanced_accuracy: (train=0.869, test=0.560) f1_macro: (train=0.911, test=0.587) precision: (train=0.972, test=0.654) recall: (train=0.869, test=0.560) total time=   0.6s\n",
      "[CV 3/5; 5/6] START clf__max_depth=10, clf__n_estimators=50.....................\n",
      "[CV 3/5; 5/6] END clf__max_depth=10, clf__n_estimators=50; accuracy: (train=0.941, test=0.796) balanced_accuracy: (train=0.864, test=0.600) f1_macro: (train=0.906, test=0.636) precision: (train=0.967, test=0.766) recall: (train=0.864, test=0.600) total time=   0.6s\n",
      "[CV 4/5; 5/6] START clf__max_depth=10, clf__n_estimators=50.....................\n",
      "[CV 4/5; 5/6] END clf__max_depth=10, clf__n_estimators=50; accuracy: (train=0.943, test=0.789) balanced_accuracy: (train=0.862, test=0.574) f1_macro: (train=0.905, test=0.610) precision: (train=0.970, test=0.768) recall: (train=0.862, test=0.574) total time=   0.7s\n",
      "[CV 5/5; 5/6] START clf__max_depth=10, clf__n_estimators=50.....................\n",
      "[CV 5/5; 5/6] END clf__max_depth=10, clf__n_estimators=50; accuracy: (train=0.949, test=0.799) balanced_accuracy: (train=0.883, test=0.578) f1_macro: (train=0.920, test=0.600) precision: (train=0.972, test=0.705) recall: (train=0.883, test=0.578) total time=   0.6s\n",
      "[CV 1/5; 6/6] START clf__max_depth=10, clf__n_estimators=100....................\n",
      "[CV 1/5; 6/6] END clf__max_depth=10, clf__n_estimators=100; accuracy: (train=0.947, test=0.789) balanced_accuracy: (train=0.872, test=0.586) f1_macro: (train=0.913, test=0.607) precision: (train=0.972, test=0.676) recall: (train=0.872, test=0.586) total time=   1.4s\n",
      "[CV 2/5; 6/6] START clf__max_depth=10, clf__n_estimators=100....................\n",
      "[CV 2/5; 6/6] END clf__max_depth=10, clf__n_estimators=100; accuracy: (train=0.951, test=0.764) balanced_accuracy: (train=0.877, test=0.566) f1_macro: (train=0.917, test=0.593) precision: (train=0.975, test=0.663) recall: (train=0.877, test=0.566) total time=   1.2s\n",
      "[CV 3/5; 6/6] START clf__max_depth=10, clf__n_estimators=100....................\n",
      "[CV 3/5; 6/6] END clf__max_depth=10, clf__n_estimators=100; accuracy: (train=0.947, test=0.797) balanced_accuracy: (train=0.876, test=0.598) f1_macro: (train=0.916, test=0.632) precision: (train=0.972, test=0.764) recall: (train=0.876, test=0.598) total time=   1.2s\n",
      "[CV 4/5; 6/6] START clf__max_depth=10, clf__n_estimators=100....................\n",
      "[CV 4/5; 6/6] END clf__max_depth=10, clf__n_estimators=100; accuracy: (train=0.945, test=0.788) balanced_accuracy: (train=0.866, test=0.576) f1_macro: (train=0.908, test=0.613) precision: (train=0.971, test=0.758) recall: (train=0.866, test=0.576) total time=   1.1s\n",
      "[CV 5/5; 6/6] START clf__max_depth=10, clf__n_estimators=100....................\n",
      "[CV 5/5; 6/6] END clf__max_depth=10, clf__n_estimators=100; accuracy: (train=0.950, test=0.804) balanced_accuracy: (train=0.885, test=0.579) f1_macro: (train=0.922, test=0.598) precision: (train=0.972, test=0.678) recall: (train=0.885, test=0.579) total time=   1.2s\n",
      "Mean CV accuracy: 0.782, ± 0.002\n",
      "Mean CV BA: 0.561, ± 0.003\n",
      "Mean CV f1: 0.580, ± 0.003\n",
      "95% CI: (0.009)\n",
      "Best params: {'clf__max_depth': None, 'clf__n_estimators': 100}\n",
      "Test set accuracy: 0.816\n",
      "Classification report\n",
      "               precision    recall  f1-score   support\n",
      "\n",
      "         1.0       0.80      0.71      0.75       187\n",
      "         2.0       0.82      0.95      0.88       517\n",
      "         3.0       0.73      0.24      0.36        80\n",
      "\n",
      "    accuracy                           0.82       784\n",
      "   macro avg       0.79      0.63      0.66       784\n",
      "weighted avg       0.81      0.82      0.80       784\n",
      "\n",
      "Balanced accuracy score: 0.62974124853036\n"
     ]
    },
    {
     "data": {
      "image/png": "[encoded data removed]",
      "text/plain": [
       "<Figure size 640x480 with 2 Axes>"
      ]
     },
     "metadata": {},
     "output_type": "display_data"
    }
   ],
   "source": [
    "try:\n",
    "    rf_cv = Pipeline(steps=[\n",
    "        (\"impute\", SimpleImputer(strategy=\"mean\")),\n",
    "        (\"scaler\", RobustScaler()),\n",
    "        (\"pca\", PCA(n_components=12)),\n",
    "        (\"clf\", RandomForestClassifier(random_state=1))\n",
    "    ])\n",
    "    \n",
    "    params = {\n",
    "        \"clf__n_estimators\": [50, 100], \n",
    "        \"clf__max_depth\": [None, 5, 10],\n",
    "    }\n",
    "    \n",
    "    gs = GridSearchCV(\n",
    "        rf_cv,\n",
    "        params,\n",
    "        n_jobs=1,\n",
    "        cv=cv,\n",
    "        scoring=scoring,\n",
    "        verbose=10, \n",
    "        refit=\"balanced_accuracy\", \n",
    "        return_train_score=True\n",
    "    )\n",
    "    \n",
    "    rf_cv = train_model(gs, X_train_lidar, X_test_lidar, y_train_lidar, y_test_lidar)\n",
    "    #plot_cv_results(cv_results=rf_cv.cv_results_, param_1=\"n_trees\")\n",
    "except Exception as e:\n",
    "    print(\"Something went wrong :(\\n\", e)"
   ]
  },
  {
   "cell_type": "code",
   "execution_count": 79,
   "id": "260e8ddd",
   "metadata": {},
   "outputs": [
    {
     "name": "stdout",
     "output_type": "stream",
     "text": [
      "Fitting 5 folds for each of 6 candidates, totalling 30 fits\n",
      "[CV 1/5; 1/6] START clf__max_depth=None, clf__n_estimators=50...................\n",
      "[CV 1/5; 1/6] END clf__max_depth=None, clf__n_estimators=50; accuracy: (train=1.000, test=0.802) balanced_accuracy: (train=0.999, test=0.605) f1_macro: (train=0.999, test=0.637) precision: (train=1.000, test=0.739) recall: (train=0.999, test=0.605) total time=   1.0s\n",
      "[CV 2/5; 1/6] START clf__max_depth=None, clf__n_estimators=50...................\n",
      "[CV 2/5; 1/6] END clf__max_depth=None, clf__n_estimators=50; accuracy: (train=1.000, test=0.764) balanced_accuracy: (train=1.000, test=0.567) f1_macro: (train=1.000, test=0.595) precision: (train=1.000, test=0.672) recall: (train=1.000, test=0.567) total time=   1.1s\n",
      "[CV 3/5; 1/6] START clf__max_depth=None, clf__n_estimators=50...................\n",
      "[CV 3/5; 1/6] END clf__max_depth=None, clf__n_estimators=50; accuracy: (train=1.000, test=0.801) balanced_accuracy: (train=0.999, test=0.589) f1_macro: (train=1.000, test=0.613) precision: (train=1.000, test=0.713) recall: (train=0.999, test=0.589) total time=   1.0s\n",
      "[CV 4/5; 1/6] START clf__max_depth=None, clf__n_estimators=50...................\n",
      "[CV 4/5; 1/6] END clf__max_depth=None, clf__n_estimators=50; accuracy: (train=1.000, test=0.791) balanced_accuracy: (train=0.999, test=0.592) f1_macro: (train=0.999, test=0.634) precision: (train=1.000, test=0.749) recall: (train=0.999, test=0.592) total time=   0.9s\n",
      "[CV 5/5; 1/6] START clf__max_depth=None, clf__n_estimators=50...................\n",
      "[CV 5/5; 1/6] END clf__max_depth=None, clf__n_estimators=50; accuracy: (train=1.000, test=0.812) balanced_accuracy: (train=1.000, test=0.601) f1_macro: (train=1.000, test=0.637) precision: (train=1.000, test=0.758) recall: (train=1.000, test=0.601) total time=   0.9s\n",
      "[CV 1/5; 2/6] START clf__max_depth=None, clf__n_estimators=100..................\n",
      "[CV 1/5; 2/6] END clf__max_depth=None, clf__n_estimators=100; accuracy: (train=1.000, test=0.794) balanced_accuracy: (train=1.000, test=0.590) f1_macro: (train=1.000, test=0.621) precision: (train=1.000, test=0.729) recall: (train=1.000, test=0.590) total time=   1.9s\n",
      "[CV 2/5; 2/6] START clf__max_depth=None, clf__n_estimators=100..................\n",
      "[CV 2/5; 2/6] END clf__max_depth=None, clf__n_estimators=100; accuracy: (train=1.000, test=0.764) balanced_accuracy: (train=1.000, test=0.564) f1_macro: (train=1.000, test=0.590) precision: (train=1.000, test=0.658) recall: (train=1.000, test=0.564) total time=   1.7s\n",
      "[CV 3/5; 2/6] START clf__max_depth=None, clf__n_estimators=100..................\n",
      "[CV 3/5; 2/6] END clf__max_depth=None, clf__n_estimators=100; accuracy: (train=1.000, test=0.794) balanced_accuracy: (train=0.999, test=0.580) f1_macro: (train=1.000, test=0.596) precision: (train=1.000, test=0.693) recall: (train=0.999, test=0.580) total time=   1.5s\n",
      "[CV 4/5; 2/6] START clf__max_depth=None, clf__n_estimators=100..................\n",
      "[CV 4/5; 2/6] END clf__max_depth=None, clf__n_estimators=100; accuracy: (train=1.000, test=0.794) balanced_accuracy: (train=1.000, test=0.601) f1_macro: (train=1.000, test=0.644) precision: (train=1.000, test=0.756) recall: (train=1.000, test=0.601) total time=   1.8s\n",
      "[CV 5/5; 2/6] START clf__max_depth=None, clf__n_estimators=100..................\n",
      "[CV 5/5; 2/6] END clf__max_depth=None, clf__n_estimators=100; accuracy: (train=1.000, test=0.805) balanced_accuracy: (train=1.000, test=0.575) f1_macro: (train=1.000, test=0.598) precision: (train=1.000, test=0.748) recall: (train=1.000, test=0.575) total time=   1.6s\n",
      "[CV 1/5; 3/6] START clf__max_depth=5, clf__n_estimators=50......................\n",
      "[CV 1/5; 3/6] END clf__max_depth=5, clf__n_estimators=50; accuracy: (train=0.785, test=0.740) balanced_accuracy: (train=0.764, test=0.706) f1_macro: (train=0.719, test=0.661) precision: (train=0.693, test=0.639) recall: (train=0.764, test=0.706) total time=   0.7s\n",
      "[CV 2/5; 3/6] START clf__max_depth=5, clf__n_estimators=50......................\n",
      "[CV 2/5; 3/6] END clf__max_depth=5, clf__n_estimators=50; accuracy: (train=0.802, test=0.718) balanced_accuracy: (train=0.770, test=0.659) f1_macro: (train=0.734, test=0.627) precision: (train=0.711, test=0.611) recall: (train=0.770, test=0.659) total time=   0.6s\n",
      "[CV 3/5; 3/6] START clf__max_depth=5, clf__n_estimators=50......................\n",
      "[CV 3/5; 3/6] END clf__max_depth=5, clf__n_estimators=50; accuracy: (train=0.770, test=0.742) balanced_accuracy: (train=0.760, test=0.693) f1_macro: (train=0.708, test=0.659) precision: (train=0.681, test=0.639) recall: (train=0.760, test=0.693) total time=   0.5s\n",
      "[CV 4/5; 3/6] START clf__max_depth=5, clf__n_estimators=50......................\n",
      "[CV 4/5; 3/6] END clf__max_depth=5, clf__n_estimators=50; accuracy: (train=0.796, test=0.762) balanced_accuracy: (train=0.751, test=0.686) f1_macro: (train=0.721, test=0.668) precision: (train=0.701, test=0.657) recall: (train=0.751, test=0.686) total time=   0.5s\n",
      "[CV 5/5; 3/6] START clf__max_depth=5, clf__n_estimators=50......................\n",
      "[CV 5/5; 3/6] END clf__max_depth=5, clf__n_estimators=50; accuracy: (train=0.782, test=0.759) balanced_accuracy: (train=0.754, test=0.687) f1_macro: (train=0.714, test=0.664) precision: (train=0.690, test=0.649) recall: (train=0.754, test=0.687) total time=   0.5s\n",
      "[CV 1/5; 4/6] START clf__max_depth=5, clf__n_estimators=100.....................\n",
      "[CV 1/5; 4/6] END clf__max_depth=5, clf__n_estimators=100; accuracy: (train=0.788, test=0.750) balanced_accuracy: (train=0.767, test=0.712) f1_macro: (train=0.722, test=0.669) precision: (train=0.697, test=0.647) recall: (train=0.767, test=0.712) total time=   0.9s\n",
      "[CV 2/5; 4/6] START clf__max_depth=5, clf__n_estimators=100.....................\n",
      "[CV 2/5; 4/6] END clf__max_depth=5, clf__n_estimators=100; accuracy: (train=0.801, test=0.715) balanced_accuracy: (train=0.770, test=0.663) f1_macro: (train=0.733, test=0.627) precision: (train=0.710, test=0.610) recall: (train=0.770, test=0.663) total time=   1.2s\n",
      "[CV 3/5; 4/6] START clf__max_depth=5, clf__n_estimators=100.....................\n",
      "[CV 3/5; 4/6] END clf__max_depth=5, clf__n_estimators=100; accuracy: (train=0.776, test=0.742) balanced_accuracy: (train=0.764, test=0.696) f1_macro: (train=0.712, test=0.659) precision: (train=0.686, test=0.638) recall: (train=0.764, test=0.696) total time=   0.9s\n",
      "[CV 4/5; 4/6] START clf__max_depth=5, clf__n_estimators=100.....................\n",
      "[CV 4/5; 4/6] END clf__max_depth=5, clf__n_estimators=100; accuracy: (train=0.796, test=0.769) balanced_accuracy: (train=0.754, test=0.702) f1_macro: (train=0.723, test=0.682) precision: (train=0.703, test=0.670) recall: (train=0.754, test=0.702) total time=   1.0s\n",
      "[CV 5/5; 4/6] START clf__max_depth=5, clf__n_estimators=100.....................\n",
      "[CV 5/5; 4/6] END clf__max_depth=5, clf__n_estimators=100; accuracy: (train=0.786, test=0.756) balanced_accuracy: (train=0.752, test=0.685) f1_macro: (train=0.716, test=0.661) precision: (train=0.694, test=0.646) recall: (train=0.752, test=0.685) total time=   1.0s\n",
      "[CV 1/5; 5/6] START clf__max_depth=10, clf__n_estimators=50.....................\n",
      "[CV 1/5; 5/6] END clf__max_depth=10, clf__n_estimators=50; accuracy: (train=0.965, test=0.813) balanced_accuracy: (train=0.953, test=0.696) f1_macro: (train=0.948, test=0.712) precision: (train=0.944, test=0.732) recall: (train=0.953, test=0.696) total time=   0.7s\n",
      "[CV 2/5; 5/6] START clf__max_depth=10, clf__n_estimators=50.....................\n",
      "[CV 2/5; 5/6] END clf__max_depth=10, clf__n_estimators=50; accuracy: (train=0.972, test=0.762) balanced_accuracy: (train=0.964, test=0.614) f1_macro: (train=0.961, test=0.636) precision: (train=0.958, test=0.668) recall: (train=0.964, test=0.614) total time=   0.9s\n",
      "[CV 3/5; 5/6] START clf__max_depth=10, clf__n_estimators=50.....................\n",
      "[CV 3/5; 5/6] END clf__max_depth=10, clf__n_estimators=50; accuracy: (train=0.965, test=0.801) balanced_accuracy: (train=0.952, test=0.645) f1_macro: (train=0.953, test=0.670) precision: (train=0.954, test=0.716) recall: (train=0.952, test=0.645) total time=   0.8s\n",
      "[CV 4/5; 5/6] START clf__max_depth=10, clf__n_estimators=50.....................\n",
      "[CV 4/5; 5/6] END clf__max_depth=10, clf__n_estimators=50; accuracy: (train=0.967, test=0.780) balanced_accuracy: (train=0.957, test=0.651) f1_macro: (train=0.952, test=0.672) precision: (train=0.947, test=0.702) recall: (train=0.957, test=0.651) total time=   0.7s\n",
      "[CV 5/5; 5/6] START clf__max_depth=10, clf__n_estimators=50.....................\n",
      "[CV 5/5; 5/6] END clf__max_depth=10, clf__n_estimators=50; accuracy: (train=0.961, test=0.801) balanced_accuracy: (train=0.950, test=0.629) f1_macro: (train=0.947, test=0.654) precision: (train=0.944, test=0.698) recall: (train=0.950, test=0.629) total time=   0.8s\n",
      "[CV 1/5; 6/6] START clf__max_depth=10, clf__n_estimators=100....................\n",
      "[CV 1/5; 6/6] END clf__max_depth=10, clf__n_estimators=100; accuracy: (train=0.964, test=0.813) balanced_accuracy: (train=0.953, test=0.686) f1_macro: (train=0.947, test=0.704) precision: (train=0.942, test=0.730) recall: (train=0.953, test=0.686) total time=   1.4s\n",
      "[CV 2/5; 6/6] START clf__max_depth=10, clf__n_estimators=100....................\n",
      "[CV 2/5; 6/6] END clf__max_depth=10, clf__n_estimators=100; accuracy: (train=0.973, test=0.775) balanced_accuracy: (train=0.965, test=0.629) f1_macro: (train=0.964, test=0.654) precision: (train=0.964, test=0.690) recall: (train=0.965, test=0.629) total time=   1.3s\n",
      "[CV 3/5; 6/6] START clf__max_depth=10, clf__n_estimators=100....................\n",
      "[CV 3/5; 6/6] END clf__max_depth=10, clf__n_estimators=100; accuracy: (train=0.972, test=0.817) balanced_accuracy: (train=0.966, test=0.664) f1_macro: (train=0.965, test=0.690) precision: (train=0.964, test=0.743) recall: (train=0.966, test=0.664) total time=   1.4s\n",
      "[CV 4/5; 6/6] START clf__max_depth=10, clf__n_estimators=100....................\n",
      "[CV 4/5; 6/6] END clf__max_depth=10, clf__n_estimators=100; accuracy: (train=0.970, test=0.783) balanced_accuracy: (train=0.962, test=0.648) f1_macro: (train=0.957, test=0.668) precision: (train=0.952, test=0.696) recall: (train=0.962, test=0.648) total time=   1.8s\n",
      "[CV 5/5; 6/6] START clf__max_depth=10, clf__n_estimators=100....................\n",
      "[CV 5/5; 6/6] END clf__max_depth=10, clf__n_estimators=100; accuracy: (train=0.965, test=0.807) balanced_accuracy: (train=0.955, test=0.633) f1_macro: (train=0.952, test=0.657) precision: (train=0.949, test=0.703) recall: (train=0.955, test=0.633) total time=   1.4s\n",
      "Mean CV accuracy: 0.778, ± 0.001\n",
      "Mean CV BA: 0.642, ± 0.005\n",
      "Mean CV f1: 0.649, ± 0.003\n",
      "95% CI: (0.020)\n",
      "Best params: {'clf__max_depth': 5, 'clf__n_estimators': 100}\n",
      "Test set accuracy: 0.749\n",
      "Classification report\n",
      "               precision    recall  f1-score   support\n",
      "\n",
      "         1.0       0.67      0.74      0.71       187\n",
      "         2.0       0.88      0.77      0.82       517\n",
      "         3.0       0.39      0.62      0.48        80\n",
      "\n",
      "    accuracy                           0.75       784\n",
      "   macro avg       0.65      0.71      0.67       784\n",
      "weighted avg       0.78      0.75      0.76       784\n",
      "\n",
      "Balanced accuracy score: 0.7127138089278264\n"
     ]
    },
    {
     "data": {
      "image/png": "[encoded data removed]",
      "text/plain": [
       "<Figure size 640x480 with 2 Axes>"
      ]
     },
     "metadata": {},
     "output_type": "display_data"
    }
   ],
   "source": [
    "try:\n",
    "    rf_cv = Pipeline(steps=[\n",
    "        (\"impute\", SimpleImputer(strategy=\"mean\")),\n",
    "        (\"scaler\", RobustScaler()),\n",
    "        (\"pca\", PCA(n_components=12)),\n",
    "        (\"clf\", RandomForestClassifier(random_state=1, class_weight=\"balanced\"))\n",
    "    ])\n",
    "    \n",
    "    params = {\n",
    "        \"clf__n_estimators\": [50, 100], \n",
    "        \"clf__max_depth\": [None, 5, 10],\n",
    "    }\n",
    "    \n",
    "    gs = GridSearchCV(\n",
    "        rf_cv,\n",
    "        params,\n",
    "        n_jobs=1,\n",
    "        cv=cv,\n",
    "        scoring=scoring,\n",
    "        verbose=10, \n",
    "        refit=\"balanced_accuracy\", \n",
    "        return_train_score=True\n",
    "    )\n",
    "    \n",
    "    rf_cv = train_model(gs, X_train_lidar, X_test_lidar, y_train_lidar, y_test_lidar)\n",
    "    #plot_cv_results(cv_results=rf_cv.cv_results_, param_1=\"n_trees\")\n",
    "except Exception as e:\n",
    "    print(\"Something went wrong :(\\n\", e)"
   ]
  },
  {
   "cell_type": "code",
   "execution_count": 72,
   "id": "cbb59e48",
   "metadata": {},
   "outputs": [
    {
     "name": "stdout",
     "output_type": "stream",
     "text": [
      "Fitting 5 folds for each of 6 candidates, totalling 30 fits\n",
      "[CV 1/5; 1/6] START clf__max_depth=None, clf__n_estimators=50...................\n",
      "[CV 1/5; 1/6] END clf__max_depth=None, clf__n_estimators=50; accuracy: (train=1.000, test=0.781) balanced_accuracy: (train=1.000, test=0.680) f1_macro: (train=1.000, test=0.680) precision: (train=1.000, test=0.688) recall: (train=1.000, test=0.680) total time=   1.2s\n",
      "[CV 2/5; 1/6] START clf__max_depth=None, clf__n_estimators=50...................\n",
      "[CV 2/5; 1/6] END clf__max_depth=None, clf__n_estimators=50; accuracy: (train=1.000, test=0.758) balanced_accuracy: (train=1.000, test=0.646) f1_macro: (train=1.000, test=0.644) precision: (train=1.000, test=0.658) recall: (train=1.000, test=0.646) total time=   1.2s\n",
      "[CV 3/5; 1/6] START clf__max_depth=None, clf__n_estimators=50...................\n",
      "[CV 3/5; 1/6] END clf__max_depth=None, clf__n_estimators=50; accuracy: (train=1.000, test=0.761) balanced_accuracy: (train=0.999, test=0.632) f1_macro: (train=1.000, test=0.641) precision: (train=1.000, test=0.656) recall: (train=0.999, test=0.632) total time=   1.4s\n",
      "[CV 4/5; 1/6] START clf__max_depth=None, clf__n_estimators=50...................\n",
      "[CV 4/5; 1/6] END clf__max_depth=None, clf__n_estimators=50; accuracy: (train=1.000, test=0.774) balanced_accuracy: (train=1.000, test=0.679) f1_macro: (train=1.000, test=0.676) precision: (train=1.000, test=0.700) recall: (train=1.000, test=0.679) total time=   1.0s\n",
      "[CV 5/5; 1/6] START clf__max_depth=None, clf__n_estimators=50...................\n",
      "[CV 5/5; 1/6] END clf__max_depth=None, clf__n_estimators=50; accuracy: (train=1.000, test=0.791) balanced_accuracy: (train=1.000, test=0.660) f1_macro: (train=1.000, test=0.672) precision: (train=1.000, test=0.700) recall: (train=1.000, test=0.660) total time=   1.5s\n",
      "[CV 1/5; 2/6] START clf__max_depth=None, clf__n_estimators=100..................\n",
      "[CV 1/5; 2/6] END clf__max_depth=None, clf__n_estimators=100; accuracy: (train=1.000, test=0.786) balanced_accuracy: (train=1.000, test=0.690) f1_macro: (train=1.000, test=0.687) precision: (train=1.000, test=0.697) recall: (train=1.000, test=0.690) total time=   2.5s\n",
      "[CV 2/5; 2/6] START clf__max_depth=None, clf__n_estimators=100..................\n",
      "[CV 2/5; 2/6] END clf__max_depth=None, clf__n_estimators=100; accuracy: (train=1.000, test=0.745) balanced_accuracy: (train=1.000, test=0.626) f1_macro: (train=1.000, test=0.627) precision: (train=1.000, test=0.645) recall: (train=1.000, test=0.626) total time=   1.9s\n",
      "[CV 3/5; 2/6] START clf__max_depth=None, clf__n_estimators=100..................\n",
      "[CV 3/5; 2/6] END clf__max_depth=None, clf__n_estimators=100; accuracy: (train=1.000, test=0.767) balanced_accuracy: (train=1.000, test=0.647) f1_macro: (train=1.000, test=0.652) precision: (train=1.000, test=0.665) recall: (train=1.000, test=0.647) total time=   2.6s\n",
      "[CV 4/5; 2/6] START clf__max_depth=None, clf__n_estimators=100..................\n",
      "[CV 4/5; 2/6] END clf__max_depth=None, clf__n_estimators=100; accuracy: (train=1.000, test=0.769) balanced_accuracy: (train=1.000, test=0.671) f1_macro: (train=1.000, test=0.670) precision: (train=1.000, test=0.694) recall: (train=1.000, test=0.671) total time=   2.3s\n",
      "[CV 5/5; 2/6] START clf__max_depth=None, clf__n_estimators=100..................\n",
      "[CV 5/5; 2/6] END clf__max_depth=None, clf__n_estimators=100; accuracy: (train=1.000, test=0.807) balanced_accuracy: (train=1.000, test=0.678) f1_macro: (train=1.000, test=0.694) precision: (train=1.000, test=0.721) recall: (train=1.000, test=0.678) total time=   2.5s\n",
      "[CV 1/5; 3/6] START clf__max_depth=5, clf__n_estimators=50......................\n",
      "[CV 1/5; 3/6] END clf__max_depth=5, clf__n_estimators=50; accuracy: (train=0.762, test=0.735) balanced_accuracy: (train=0.694, test=0.655) f1_macro: (train=0.667, test=0.635) precision: (train=0.720, test=0.686) recall: (train=0.694, test=0.655) total time=   0.8s\n",
      "[CV 2/5; 3/6] START clf__max_depth=5, clf__n_estimators=50......................\n",
      "[CV 2/5; 3/6] END clf__max_depth=5, clf__n_estimators=50; accuracy: (train=0.777, test=0.718) balanced_accuracy: (train=0.710, test=0.618) f1_macro: (train=0.687, test=0.604) precision: (train=0.726, test=0.652) recall: (train=0.710, test=0.618) total time=   0.6s\n",
      "[CV 3/5; 3/6] START clf__max_depth=5, clf__n_estimators=50......................\n",
      "[CV 3/5; 3/6] END clf__max_depth=5, clf__n_estimators=50; accuracy: (train=0.750, test=0.722) balanced_accuracy: (train=0.703, test=0.655) f1_macro: (train=0.659, test=0.622) precision: (train=0.710, test=0.673) recall: (train=0.703, test=0.655) total time=   0.6s\n",
      "[CV 4/5; 3/6] START clf__max_depth=5, clf__n_estimators=50......................\n",
      "[CV 4/5; 3/6] END clf__max_depth=5, clf__n_estimators=50; accuracy: (train=0.785, test=0.748) balanced_accuracy: (train=0.708, test=0.658) f1_macro: (train=0.694, test=0.641) precision: (train=0.728, test=0.695) recall: (train=0.708, test=0.658) total time=   0.6s\n",
      "[CV 5/5; 3/6] START clf__max_depth=5, clf__n_estimators=50......................\n",
      "[CV 5/5; 3/6] END clf__max_depth=5, clf__n_estimators=50; accuracy: (train=0.769, test=0.721) balanced_accuracy: (train=0.684, test=0.602) f1_macro: (train=0.669, test=0.601) precision: (train=0.721, test=0.671) recall: (train=0.684, test=0.602) total time=   0.7s\n",
      "[CV 1/5; 4/6] START clf__max_depth=5, clf__n_estimators=100.....................\n",
      "[CV 1/5; 4/6] END clf__max_depth=5, clf__n_estimators=100; accuracy: (train=0.768, test=0.742) balanced_accuracy: (train=0.703, test=0.659) f1_macro: (train=0.674, test=0.642) precision: (train=0.724, test=0.689) recall: (train=0.703, test=0.659) total time=   1.0s\n",
      "[CV 2/5; 4/6] START clf__max_depth=5, clf__n_estimators=100.....................\n",
      "[CV 2/5; 4/6] END clf__max_depth=5, clf__n_estimators=100; accuracy: (train=0.783, test=0.724) balanced_accuracy: (train=0.714, test=0.630) f1_macro: (train=0.694, test=0.614) precision: (train=0.731, test=0.652) recall: (train=0.714, test=0.630) total time=   1.0s\n",
      "[CV 3/5; 4/6] START clf__max_depth=5, clf__n_estimators=100.....................\n",
      "[CV 3/5; 4/6] END clf__max_depth=5, clf__n_estimators=100; accuracy: (train=0.758, test=0.724) balanced_accuracy: (train=0.706, test=0.658) f1_macro: (train=0.668, test=0.625) precision: (train=0.715, test=0.672) recall: (train=0.706, test=0.658) total time=   1.3s\n",
      "[CV 4/5; 4/6] START clf__max_depth=5, clf__n_estimators=100.....................\n",
      "[CV 4/5; 4/6] END clf__max_depth=5, clf__n_estimators=100; accuracy: (train=0.778, test=0.738) balanced_accuracy: (train=0.701, test=0.640) f1_macro: (train=0.685, test=0.626) precision: (train=0.720, test=0.683) recall: (train=0.701, test=0.640) total time=   1.0s\n",
      "[CV 5/5; 4/6] START clf__max_depth=5, clf__n_estimators=100.....................\n",
      "[CV 5/5; 4/6] END clf__max_depth=5, clf__n_estimators=100; accuracy: (train=0.766, test=0.713) balanced_accuracy: (train=0.689, test=0.595) f1_macro: (train=0.667, test=0.591) precision: (train=0.714, test=0.669) recall: (train=0.689, test=0.595) total time=   1.0s\n",
      "[CV 1/5; 5/6] START clf__max_depth=10, clf__n_estimators=50.....................\n",
      "[CV 1/5; 5/6] END clf__max_depth=10, clf__n_estimators=50; accuracy: (train=0.931, test=0.767) balanced_accuracy: (train=0.920, test=0.689) f1_macro: (train=0.899, test=0.674) precision: (train=0.891, test=0.684) recall: (train=0.920, test=0.689) total time=   1.0s\n",
      "[CV 2/5; 5/6] START clf__max_depth=10, clf__n_estimators=50.....................\n",
      "[CV 2/5; 5/6] END clf__max_depth=10, clf__n_estimators=50; accuracy: (train=0.940, test=0.727) balanced_accuracy: (train=0.934, test=0.616) f1_macro: (train=0.912, test=0.611) precision: (train=0.902, test=0.631) recall: (train=0.934, test=0.616) total time=   0.8s\n",
      "[CV 3/5; 5/6] START clf__max_depth=10, clf__n_estimators=50.....................\n",
      "[CV 3/5; 5/6] END clf__max_depth=10, clf__n_estimators=50; accuracy: (train=0.931, test=0.764) balanced_accuracy: (train=0.922, test=0.669) f1_macro: (train=0.898, test=0.662) precision: (train=0.889, test=0.673) recall: (train=0.922, test=0.669) total time=   0.9s\n",
      "[CV 4/5; 5/6] START clf__max_depth=10, clf__n_estimators=50.....................\n",
      "[CV 4/5; 5/6] END clf__max_depth=10, clf__n_estimators=50; accuracy: (train=0.930, test=0.754) balanced_accuracy: (train=0.924, test=0.677) f1_macro: (train=0.895, test=0.659) precision: (train=0.883, test=0.687) recall: (train=0.924, test=0.677) total time=   0.8s\n",
      "[CV 5/5; 5/6] START clf__max_depth=10, clf__n_estimators=50.....................\n",
      "[CV 5/5; 5/6] END clf__max_depth=10, clf__n_estimators=50; accuracy: (train=0.933, test=0.770) balanced_accuracy: (train=0.917, test=0.658) f1_macro: (train=0.906, test=0.662) precision: (train=0.905, test=0.691) recall: (train=0.917, test=0.658) total time=   0.8s\n",
      "[CV 1/5; 6/6] START clf__max_depth=10, clf__n_estimators=100....................\n",
      "[CV 1/5; 6/6] END clf__max_depth=10, clf__n_estimators=100; accuracy: (train=0.932, test=0.766) balanced_accuracy: (train=0.919, test=0.688) f1_macro: (train=0.900, test=0.673) precision: (train=0.893, test=0.683) recall: (train=0.919, test=0.688) total time=   1.6s\n",
      "[CV 2/5; 6/6] START clf__max_depth=10, clf__n_estimators=100....................\n",
      "[CV 2/5; 6/6] END clf__max_depth=10, clf__n_estimators=100; accuracy: (train=0.941, test=0.743) balanced_accuracy: (train=0.934, test=0.639) f1_macro: (train=0.913, test=0.633) precision: (train=0.903, test=0.652) recall: (train=0.934, test=0.639) total time=   1.6s\n",
      "[CV 3/5; 6/6] START clf__max_depth=10, clf__n_estimators=100....................\n",
      "[CV 3/5; 6/6] END clf__max_depth=10, clf__n_estimators=100; accuracy: (train=0.931, test=0.761) balanced_accuracy: (train=0.923, test=0.659) f1_macro: (train=0.897, test=0.655) precision: (train=0.887, test=0.667) recall: (train=0.923, test=0.659) total time=   1.9s\n",
      "[CV 4/5; 6/6] START clf__max_depth=10, clf__n_estimators=100....................\n",
      "[CV 4/5; 6/6] END clf__max_depth=10, clf__n_estimators=100; accuracy: (train=0.935, test=0.759) balanced_accuracy: (train=0.927, test=0.678) f1_macro: (train=0.901, test=0.662) precision: (train=0.890, test=0.690) recall: (train=0.927, test=0.678) total time=   1.5s\n",
      "[CV 5/5; 6/6] START clf__max_depth=10, clf__n_estimators=100....................\n",
      "[CV 5/5; 6/6] END clf__max_depth=10, clf__n_estimators=100; accuracy: (train=0.935, test=0.774) balanced_accuracy: (train=0.918, test=0.661) f1_macro: (train=0.906, test=0.666) precision: (train=0.903, test=0.696) recall: (train=0.918, test=0.661) total time=   1.5s\n",
      "Mean CV accuracy: 0.754, ± 0.004\n",
      "Mean CV BA: 0.654, ± 0.003\n",
      "Mean CV f1: 0.647, ± 0.004\n",
      "95% CI: (0.017)\n",
      "Best params: {'clf__max_depth': 10, 'clf__n_estimators': 100}\n",
      "Test set accuracy: 0.790\n",
      "Classification report\n",
      "               precision    recall  f1-score   support\n",
      "\n",
      "         1.0       0.86      0.64      0.73       187\n",
      "         2.0       0.87      0.85      0.86       517\n",
      "         3.0       0.43      0.75      0.55        80\n",
      "\n",
      "    accuracy                           0.79       784\n",
      "   macro avg       0.72      0.75      0.71       784\n",
      "weighted avg       0.82      0.79      0.80       784\n",
      "\n",
      "Balanced accuracy score: 0.7458091553836234\n"
     ]
    },
    {
     "data": {
      "image/png": "[encoded data removed]",
      "text/plain": [
       "<Figure size 640x480 with 2 Axes>"
      ]
     },
     "metadata": {},
     "output_type": "display_data"
    }
   ],
   "source": [
    "try:\n",
    "    rf_cv = Pipeline(steps=[\n",
    "        (\"impute\", SimpleImputer(strategy=\"mean\")),\n",
    "        (\"scaler\", RobustScaler()),\n",
    "        (\"pca\", PCA(n_components=12)),\n",
    "        (\"smote\", SMOTE(sampling_strategy='minority', random_state=1)),\n",
    "        (\"clf\", RandomForestClassifier(random_state=1))\n",
    "    ])\n",
    "    \n",
    "    params = {\n",
    "        \"clf__n_estimators\": [50, 100], \n",
    "        \"clf__max_depth\": [None, 5, 10],\n",
    "    }\n",
    "    \n",
    "    gs = GridSearchCV(\n",
    "        rf_cv,\n",
    "        params,\n",
    "        n_jobs=1,\n",
    "        cv=cv,\n",
    "        scoring=scoring,\n",
    "        verbose=10, \n",
    "        refit=\"balanced_accuracy\", \n",
    "        return_train_score=True\n",
    "    )\n",
    "    \n",
    "    rf_cv = train_model(gs, X_train_lidar, X_test_lidar, y_train_lidar, y_test_lidar)\n",
    "    #plot_cv_results(cv_results=rf_cv.cv_results_, param_1=\"n_trees\")\n",
    "except Exception as e:\n",
    "    print(\"Something went wrong :(\\n\", e)"
   ]
  },
  {
   "cell_type": "code",
   "execution_count": 73,
   "id": "02e7e898",
   "metadata": {},
   "outputs": [
    {
     "name": "stdout",
     "output_type": "stream",
     "text": [
      "Fitting 5 folds for each of 6 candidates, totalling 30 fits\n",
      "[CV 1/5; 1/6] START clf__max_depth=None, clf__n_estimators=50...................\n",
      "[CV 1/5; 1/6] END clf__max_depth=None, clf__n_estimators=50; accuracy: (train=1.000, test=0.785) balanced_accuracy: (train=1.000, test=0.680) f1_macro: (train=1.000, test=0.678) precision: (train=1.000, test=0.687) recall: (train=1.000, test=0.680) total time=   1.1s\n",
      "[CV 2/5; 1/6] START clf__max_depth=None, clf__n_estimators=50...................\n",
      "[CV 2/5; 1/6] END clf__max_depth=None, clf__n_estimators=50; accuracy: (train=1.000, test=0.743) balanced_accuracy: (train=1.000, test=0.615) f1_macro: (train=1.000, test=0.621) precision: (train=1.000, test=0.639) recall: (train=1.000, test=0.615) total time=   1.0s\n",
      "[CV 3/5; 1/6] START clf__max_depth=None, clf__n_estimators=50...................\n",
      "[CV 3/5; 1/6] END clf__max_depth=None, clf__n_estimators=50; accuracy: (train=1.000, test=0.767) balanced_accuracy: (train=0.999, test=0.656) f1_macro: (train=1.000, test=0.656) precision: (train=1.000, test=0.664) recall: (train=0.999, test=0.656) total time=   1.0s\n",
      "[CV 4/5; 1/6] START clf__max_depth=None, clf__n_estimators=50...................\n",
      "[CV 4/5; 1/6] END clf__max_depth=None, clf__n_estimators=50; accuracy: (train=1.000, test=0.761) balanced_accuracy: (train=1.000, test=0.636) f1_macro: (train=1.000, test=0.643) precision: (train=1.000, test=0.680) recall: (train=1.000, test=0.636) total time=   1.1s\n",
      "[CV 5/5; 1/6] START clf__max_depth=None, clf__n_estimators=50...................\n",
      "[CV 5/5; 1/6] END clf__max_depth=None, clf__n_estimators=50; accuracy: (train=1.000, test=0.783) balanced_accuracy: (train=1.000, test=0.673) f1_macro: (train=1.000, test=0.676) precision: (train=1.000, test=0.695) recall: (train=1.000, test=0.673) total time=   1.0s\n",
      "[CV 1/5; 2/6] START clf__max_depth=None, clf__n_estimators=100..................\n",
      "[CV 1/5; 2/6] END clf__max_depth=None, clf__n_estimators=100; accuracy: (train=1.000, test=0.783) balanced_accuracy: (train=1.000, test=0.682) f1_macro: (train=1.000, test=0.680) precision: (train=1.000, test=0.688) recall: (train=1.000, test=0.682) total time=   1.9s\n",
      "[CV 2/5; 2/6] START clf__max_depth=None, clf__n_estimators=100..................\n",
      "[CV 2/5; 2/6] END clf__max_depth=None, clf__n_estimators=100; accuracy: (train=1.000, test=0.759) balanced_accuracy: (train=1.000, test=0.641) f1_macro: (train=1.000, test=0.644) precision: (train=1.000, test=0.662) recall: (train=1.000, test=0.641) total time=   1.9s\n",
      "[CV 3/5; 2/6] START clf__max_depth=None, clf__n_estimators=100..................\n",
      "[CV 3/5; 2/6] END clf__max_depth=None, clf__n_estimators=100; accuracy: (train=1.000, test=0.769) balanced_accuracy: (train=1.000, test=0.655) f1_macro: (train=1.000, test=0.654) precision: (train=1.000, test=0.661) recall: (train=1.000, test=0.655) total time=   2.0s\n",
      "[CV 4/5; 2/6] START clf__max_depth=None, clf__n_estimators=100..................\n",
      "[CV 4/5; 2/6] END clf__max_depth=None, clf__n_estimators=100; accuracy: (train=1.000, test=0.772) balanced_accuracy: (train=1.000, test=0.661) f1_macro: (train=1.000, test=0.665) precision: (train=1.000, test=0.700) recall: (train=1.000, test=0.661) total time=   1.8s\n",
      "[CV 5/5; 2/6] START clf__max_depth=None, clf__n_estimators=100..................\n",
      "[CV 5/5; 2/6] END clf__max_depth=None, clf__n_estimators=100; accuracy: (train=1.000, test=0.797) balanced_accuracy: (train=1.000, test=0.689) f1_macro: (train=1.000, test=0.696) precision: (train=1.000, test=0.718) recall: (train=1.000, test=0.689) total time=   2.1s\n",
      "[CV 1/5; 3/6] START clf__max_depth=5, clf__n_estimators=50......................\n",
      "[CV 1/5; 3/6] END clf__max_depth=5, clf__n_estimators=50; accuracy: (train=0.755, test=0.724) balanced_accuracy: (train=0.701, test=0.659) f1_macro: (train=0.661, test=0.628) precision: (train=0.716, test=0.681) recall: (train=0.701, test=0.659) total time=   0.6s\n",
      "[CV 2/5; 3/6] START clf__max_depth=5, clf__n_estimators=50......................\n",
      "[CV 2/5; 3/6] END clf__max_depth=5, clf__n_estimators=50; accuracy: (train=0.770, test=0.713) balanced_accuracy: (train=0.716, test=0.627) f1_macro: (train=0.683, test=0.604) precision: (train=0.724, test=0.642) recall: (train=0.716, test=0.627) total time=   0.5s\n",
      "[CV 3/5; 3/6] START clf__max_depth=5, clf__n_estimators=50......................\n",
      "[CV 3/5; 3/6] END clf__max_depth=5, clf__n_estimators=50; accuracy: (train=0.746, test=0.691) balanced_accuracy: (train=0.708, test=0.637) f1_macro: (train=0.656, test=0.593) precision: (train=0.715, test=0.657) recall: (train=0.708, test=0.637) total time=   0.5s\n",
      "[CV 4/5; 3/6] START clf__max_depth=5, clf__n_estimators=50......................\n",
      "[CV 4/5; 3/6] END clf__max_depth=5, clf__n_estimators=50; accuracy: (train=0.774, test=0.740) balanced_accuracy: (train=0.707, test=0.646) f1_macro: (train=0.683, test=0.625) precision: (train=0.718, test=0.697) recall: (train=0.707, test=0.646) total time=   0.5s\n",
      "[CV 5/5; 3/6] START clf__max_depth=5, clf__n_estimators=50......................\n",
      "[CV 5/5; 3/6] END clf__max_depth=5, clf__n_estimators=50; accuracy: (train=0.758, test=0.707) balanced_accuracy: (train=0.700, test=0.619) f1_macro: (train=0.663, test=0.603) precision: (train=0.709, test=0.668) recall: (train=0.700, test=0.619) total time=   0.6s\n",
      "[CV 1/5; 4/6] START clf__max_depth=5, clf__n_estimators=100.....................\n",
      "[CV 1/5; 4/6] END clf__max_depth=5, clf__n_estimators=100; accuracy: (train=0.755, test=0.726) balanced_accuracy: (train=0.707, test=0.660) f1_macro: (train=0.663, test=0.630) precision: (train=0.719, test=0.682) recall: (train=0.707, test=0.660) total time=   1.0s\n",
      "[CV 2/5; 4/6] START clf__max_depth=5, clf__n_estimators=100.....................\n",
      "[CV 2/5; 4/6] END clf__max_depth=5, clf__n_estimators=100; accuracy: (train=0.772, test=0.711) balanced_accuracy: (train=0.720, test=0.631) f1_macro: (train=0.686, test=0.604) precision: (train=0.724, test=0.642) recall: (train=0.720, test=0.631) total time=   1.0s\n",
      "[CV 3/5; 4/6] START clf__max_depth=5, clf__n_estimators=100.....................\n",
      "[CV 3/5; 4/6] END clf__max_depth=5, clf__n_estimators=100; accuracy: (train=0.751, test=0.708) balanced_accuracy: (train=0.710, test=0.648) f1_macro: (train=0.660, test=0.610) precision: (train=0.718, test=0.669) recall: (train=0.710, test=0.648) total time=   0.9s\n",
      "[CV 4/5; 4/6] START clf__max_depth=5, clf__n_estimators=100.....................\n",
      "[CV 4/5; 4/6] END clf__max_depth=5, clf__n_estimators=100; accuracy: (train=0.775, test=0.729) balanced_accuracy: (train=0.714, test=0.645) f1_macro: (train=0.686, test=0.617) precision: (train=0.720, test=0.688) recall: (train=0.714, test=0.645) total time=   0.9s\n",
      "[CV 5/5; 4/6] START clf__max_depth=5, clf__n_estimators=100.....................\n",
      "[CV 5/5; 4/6] END clf__max_depth=5, clf__n_estimators=100; accuracy: (train=0.762, test=0.710) balanced_accuracy: (train=0.705, test=0.619) f1_macro: (train=0.667, test=0.604) precision: (train=0.713, test=0.666) recall: (train=0.705, test=0.619) total time=   1.0s\n",
      "[CV 1/5; 5/6] START clf__max_depth=10, clf__n_estimators=50.....................\n",
      "[CV 1/5; 5/6] END clf__max_depth=10, clf__n_estimators=50; accuracy: (train=0.931, test=0.762) balanced_accuracy: (train=0.923, test=0.691) f1_macro: (train=0.896, test=0.670) precision: (train=0.886, test=0.681) recall: (train=0.923, test=0.691) total time=   1.1s\n",
      "[CV 2/5; 5/6] START clf__max_depth=10, clf__n_estimators=50.....................\n",
      "[CV 2/5; 5/6] END clf__max_depth=10, clf__n_estimators=50; accuracy: (train=0.937, test=0.735) balanced_accuracy: (train=0.937, test=0.644) f1_macro: (train=0.906, test=0.630) precision: (train=0.891, test=0.644) recall: (train=0.937, test=0.644) total time=   1.0s\n",
      "[CV 3/5; 5/6] START clf__max_depth=10, clf__n_estimators=50.....................\n",
      "[CV 3/5; 5/6] END clf__max_depth=10, clf__n_estimators=50; accuracy: (train=0.932, test=0.754) balanced_accuracy: (train=0.929, test=0.669) f1_macro: (train=0.900, test=0.653) precision: (train=0.888, test=0.661) recall: (train=0.929, test=0.669) total time=   0.9s\n",
      "[CV 4/5; 5/6] START clf__max_depth=10, clf__n_estimators=50.....................\n",
      "[CV 4/5; 5/6] END clf__max_depth=10, clf__n_estimators=50; accuracy: (train=0.931, test=0.759) balanced_accuracy: (train=0.929, test=0.678) f1_macro: (train=0.894, test=0.660) precision: (train=0.881, test=0.699) recall: (train=0.929, test=0.678) total time=   1.0s\n",
      "[CV 5/5; 5/6] START clf__max_depth=10, clf__n_estimators=50.....................\n",
      "[CV 5/5; 5/6] END clf__max_depth=10, clf__n_estimators=50; accuracy: (train=0.929, test=0.759) balanced_accuracy: (train=0.923, test=0.648) f1_macro: (train=0.896, test=0.648) precision: (train=0.886, test=0.684) recall: (train=0.923, test=0.648) total time=   1.0s\n",
      "[CV 1/5; 6/6] START clf__max_depth=10, clf__n_estimators=100....................\n",
      "[CV 1/5; 6/6] END clf__max_depth=10, clf__n_estimators=100; accuracy: (train=0.931, test=0.761) balanced_accuracy: (train=0.924, test=0.690) f1_macro: (train=0.896, test=0.669) precision: (train=0.885, test=0.680) recall: (train=0.924, test=0.690) total time=   1.9s\n",
      "[CV 2/5; 6/6] START clf__max_depth=10, clf__n_estimators=100....................\n",
      "[CV 2/5; 6/6] END clf__max_depth=10, clf__n_estimators=100; accuracy: (train=0.939, test=0.727) balanced_accuracy: (train=0.937, test=0.634) f1_macro: (train=0.907, test=0.620) precision: (train=0.893, test=0.634) recall: (train=0.937, test=0.634) total time=   1.7s\n",
      "[CV 3/5; 6/6] START clf__max_depth=10, clf__n_estimators=100....................\n",
      "[CV 3/5; 6/6] END clf__max_depth=10, clf__n_estimators=100; accuracy: (train=0.933, test=0.758) balanced_accuracy: (train=0.929, test=0.678) f1_macro: (train=0.899, test=0.660) precision: (train=0.887, test=0.669) recall: (train=0.929, test=0.678) total time=   1.7s\n",
      "[CV 4/5; 6/6] START clf__max_depth=10, clf__n_estimators=100....................\n",
      "[CV 4/5; 6/6] END clf__max_depth=10, clf__n_estimators=100; accuracy: (train=0.937, test=0.756) balanced_accuracy: (train=0.937, test=0.681) f1_macro: (train=0.906, test=0.660) precision: (train=0.893, test=0.687) recall: (train=0.937, test=0.681) total time=   1.7s\n",
      "[CV 5/5; 6/6] START clf__max_depth=10, clf__n_estimators=100....................\n",
      "[CV 5/5; 6/6] END clf__max_depth=10, clf__n_estimators=100; accuracy: (train=0.937, test=0.772) balanced_accuracy: (train=0.930, test=0.660) f1_macro: (train=0.907, test=0.662) precision: (train=0.898, test=0.686) recall: (train=0.930, test=0.660) total time=   1.9s\n",
      "Mean CV accuracy: 0.747, ± 0.003\n",
      "Mean CV BA: 0.655, ± 0.003\n",
      "Mean CV f1: 0.642, ± 0.004\n",
      "95% CI: (0.021)\n",
      "Best params: {'clf__max_depth': 10, 'clf__n_estimators': 100}\n",
      "Test set accuracy: 0.773\n",
      "Classification report\n",
      "               precision    recall  f1-score   support\n",
      "\n",
      "         1.0       0.89      0.63      0.74       187\n",
      "         2.0       0.86      0.83      0.85       517\n",
      "         3.0       0.38      0.71      0.49        80\n",
      "\n",
      "    accuracy                           0.77       784\n",
      "   macro avg       0.71      0.73      0.69       784\n",
      "weighted avg       0.82      0.77      0.79       784\n",
      "\n",
      "Balanced accuracy score: 0.72572391625896\n"
     ]
    },
    {
     "data": {
      "image/png": "[encoded data removed]",
      "text/plain": [
       "<Figure size 640x480 with 2 Axes>"
      ]
     },
     "metadata": {},
     "output_type": "display_data"
    }
   ],
   "source": [
    "try:\n",
    "    rf_cv = Pipeline(steps=[\n",
    "        (\"impute\", SimpleImputer(strategy=\"mean\")),\n",
    "        (\"scaler\", RobustScaler()),\n",
    "        (\"pca\", PCA(n_components=12)),\n",
    "        (\"adasyn\", ADASYN(sampling_strategy='minority', random_state=1)),\n",
    "        (\"clf\", RandomForestClassifier(random_state=1))\n",
    "    ])\n",
    "    \n",
    "    params = {\n",
    "        \"clf__n_estimators\": [50, 100], \n",
    "        \"clf__max_depth\": [None, 5, 10],\n",
    "    }\n",
    "    \n",
    "    gs = GridSearchCV(\n",
    "        rf_cv,\n",
    "        params,\n",
    "        n_jobs=1,\n",
    "        cv=cv,\n",
    "        scoring=scoring,\n",
    "        verbose=10, \n",
    "        refit=\"balanced_accuracy\", \n",
    "        return_train_score=True\n",
    "    )\n",
    "    \n",
    "    rf_cv = train_model(gs, X_train_lidar, X_test_lidar, y_train_lidar, y_test_lidar)\n",
    "    #plot_cv_results(cv_results=rf_cv.cv_results_, param_1=\"n_trees\")\n",
    "except Exception as e:\n",
    "    print(\"Something went wrong :(\\n\", e)"
   ]
  },
  {
   "cell_type": "code",
   "execution_count": 74,
   "id": "88eec7e1",
   "metadata": {},
   "outputs": [
    {
     "name": "stdout",
     "output_type": "stream",
     "text": [
      "Fitting 5 folds for each of 6 candidates, totalling 30 fits\n",
      "[CV 1/5; 1/6] START clf__max_depth=None, clf__n_estimators=50...................\n",
      "[CV 1/5; 1/6] END clf__max_depth=None, clf__n_estimators=50; accuracy: (train=1.000, test=0.777) balanced_accuracy: (train=0.999, test=0.666) f1_macro: (train=0.999, test=0.668) precision: (train=1.000, test=0.677) recall: (train=0.999, test=0.666) total time=   1.4s\n",
      "[CV 2/5; 1/6] START clf__max_depth=None, clf__n_estimators=50...................\n",
      "[CV 2/5; 1/6] END clf__max_depth=None, clf__n_estimators=50; accuracy: (train=1.000, test=0.758) balanced_accuracy: (train=1.000, test=0.631) f1_macro: (train=1.000, test=0.640) precision: (train=1.000, test=0.659) recall: (train=1.000, test=0.631) total time=   1.0s\n",
      "[CV 3/5; 1/6] START clf__max_depth=None, clf__n_estimators=50...................\n",
      "[CV 3/5; 1/6] END clf__max_depth=None, clf__n_estimators=50; accuracy: (train=0.999, test=0.788) balanced_accuracy: (train=0.999, test=0.663) f1_macro: (train=0.999, test=0.671) precision: (train=0.999, test=0.682) recall: (train=0.999, test=0.663) total time=   1.1s\n",
      "[CV 4/5; 1/6] START clf__max_depth=None, clf__n_estimators=50...................\n",
      "[CV 4/5; 1/6] END clf__max_depth=None, clf__n_estimators=50; accuracy: (train=1.000, test=0.786) balanced_accuracy: (train=1.000, test=0.676) f1_macro: (train=0.999, test=0.683) precision: (train=0.999, test=0.712) recall: (train=1.000, test=0.676) total time=   1.4s\n",
      "[CV 5/5; 1/6] START clf__max_depth=None, clf__n_estimators=50...................\n",
      "[CV 5/5; 1/6] END clf__max_depth=None, clf__n_estimators=50; accuracy: (train=1.000, test=0.774) balanced_accuracy: (train=1.000, test=0.638) f1_macro: (train=1.000, test=0.652) precision: (train=1.000, test=0.680) recall: (train=1.000, test=0.638) total time=   1.3s\n",
      "[CV 1/5; 2/6] START clf__max_depth=None, clf__n_estimators=100..................\n",
      "[CV 1/5; 2/6] END clf__max_depth=None, clf__n_estimators=100; accuracy: (train=1.000, test=0.789) balanced_accuracy: (train=1.000, test=0.683) f1_macro: (train=1.000, test=0.685) precision: (train=1.000, test=0.694) recall: (train=1.000, test=0.683) total time=   2.6s\n",
      "[CV 2/5; 2/6] START clf__max_depth=None, clf__n_estimators=100..................\n",
      "[CV 2/5; 2/6] END clf__max_depth=None, clf__n_estimators=100; accuracy: (train=1.000, test=0.759) balanced_accuracy: (train=1.000, test=0.637) f1_macro: (train=1.000, test=0.644) precision: (train=1.000, test=0.662) recall: (train=1.000, test=0.637) total time=   2.5s\n",
      "[CV 3/5; 2/6] START clf__max_depth=None, clf__n_estimators=100..................\n",
      "[CV 3/5; 2/6] END clf__max_depth=None, clf__n_estimators=100; accuracy: (train=1.000, test=0.791) balanced_accuracy: (train=1.000, test=0.661) f1_macro: (train=1.000, test=0.670) precision: (train=1.000, test=0.686) recall: (train=1.000, test=0.661) total time=   2.6s\n",
      "[CV 4/5; 2/6] START clf__max_depth=None, clf__n_estimators=100..................\n",
      "[CV 4/5; 2/6] END clf__max_depth=None, clf__n_estimators=100; accuracy: (train=1.000, test=0.781) balanced_accuracy: (train=1.000, test=0.658) f1_macro: (train=1.000, test=0.670) precision: (train=1.000, test=0.702) recall: (train=1.000, test=0.658) total time=   2.3s\n",
      "[CV 5/5; 2/6] START clf__max_depth=None, clf__n_estimators=100..................\n",
      "[CV 5/5; 2/6] END clf__max_depth=None, clf__n_estimators=100; accuracy: (train=1.000, test=0.791) balanced_accuracy: (train=1.000, test=0.663) f1_macro: (train=1.000, test=0.675) precision: (train=1.000, test=0.704) recall: (train=1.000, test=0.663) total time=   2.4s\n",
      "[CV 1/5; 3/6] START clf__max_depth=5, clf__n_estimators=50......................\n",
      "[CV 1/5; 3/6] END clf__max_depth=5, clf__n_estimators=50; accuracy: (train=0.763, test=0.732) balanced_accuracy: (train=0.678, test=0.643) f1_macro: (train=0.661, test=0.626) precision: (train=0.716, test=0.677) recall: (train=0.678, test=0.643) total time=   0.6s\n",
      "[CV 2/5; 3/6] START clf__max_depth=5, clf__n_estimators=50......................\n",
      "[CV 2/5; 3/6] END clf__max_depth=5, clf__n_estimators=50; accuracy: (train=0.785, test=0.730) balanced_accuracy: (train=0.697, test=0.616) f1_macro: (train=0.692, test=0.612) precision: (train=0.736, test=0.658) recall: (train=0.697, test=0.616) total time=   0.6s\n",
      "[CV 3/5; 3/6] START clf__max_depth=5, clf__n_estimators=50......................\n",
      "[CV 3/5; 3/6] END clf__max_depth=5, clf__n_estimators=50; accuracy: (train=0.759, test=0.727) balanced_accuracy: (train=0.692, test=0.634) f1_macro: (train=0.662, test=0.618) precision: (train=0.715, test=0.672) recall: (train=0.692, test=0.634) total time=   0.6s\n",
      "[CV 4/5; 3/6] START clf__max_depth=5, clf__n_estimators=50......................\n",
      "[CV 4/5; 3/6] END clf__max_depth=5, clf__n_estimators=50; accuracy: (train=0.779, test=0.743) balanced_accuracy: (train=0.687, test=0.644) f1_macro: (train=0.681, test=0.630) precision: (train=0.717, test=0.687) recall: (train=0.687, test=0.644) total time=   0.6s\n",
      "[CV 5/5; 3/6] START clf__max_depth=5, clf__n_estimators=50......................\n",
      "[CV 5/5; 3/6] END clf__max_depth=5, clf__n_estimators=50; accuracy: (train=0.766, test=0.727) balanced_accuracy: (train=0.682, test=0.609) f1_macro: (train=0.667, test=0.609) precision: (train=0.711, test=0.672) recall: (train=0.682, test=0.609) total time=   0.6s\n",
      "[CV 1/5; 4/6] START clf__max_depth=5, clf__n_estimators=100.....................\n",
      "[CV 1/5; 4/6] END clf__max_depth=5, clf__n_estimators=100; accuracy: (train=0.762, test=0.738) balanced_accuracy: (train=0.681, test=0.652) f1_macro: (train=0.662, test=0.635) precision: (train=0.714, test=0.679) recall: (train=0.681, test=0.652) total time=   1.1s\n",
      "[CV 2/5; 4/6] START clf__max_depth=5, clf__n_estimators=100.....................\n",
      "[CV 2/5; 4/6] END clf__max_depth=5, clf__n_estimators=100; accuracy: (train=0.789, test=0.724) balanced_accuracy: (train=0.703, test=0.614) f1_macro: (train=0.697, test=0.608) precision: (train=0.737, test=0.649) recall: (train=0.703, test=0.614) total time=   1.3s\n",
      "[CV 3/5; 4/6] START clf__max_depth=5, clf__n_estimators=100.....................\n",
      "[CV 3/5; 4/6] END clf__max_depth=5, clf__n_estimators=100; accuracy: (train=0.764, test=0.743) balanced_accuracy: (train=0.699, test=0.657) f1_macro: (train=0.669, test=0.640) precision: (train=0.717, test=0.682) recall: (train=0.699, test=0.657) total time=   1.0s\n",
      "[CV 4/5; 4/6] START clf__max_depth=5, clf__n_estimators=100.....................\n",
      "[CV 4/5; 4/6] END clf__max_depth=5, clf__n_estimators=100; accuracy: (train=0.781, test=0.748) balanced_accuracy: (train=0.693, test=0.639) f1_macro: (train=0.685, test=0.632) precision: (train=0.720, test=0.693) recall: (train=0.693, test=0.639) total time=   1.1s\n",
      "[CV 5/5; 4/6] START clf__max_depth=5, clf__n_estimators=100.....................\n",
      "[CV 5/5; 4/6] END clf__max_depth=5, clf__n_estimators=100; accuracy: (train=0.770, test=0.730) balanced_accuracy: (train=0.689, test=0.615) f1_macro: (train=0.671, test=0.616) precision: (train=0.715, test=0.675) recall: (train=0.689, test=0.615) total time=   1.1s\n",
      "[CV 1/5; 5/6] START clf__max_depth=10, clf__n_estimators=50.....................\n",
      "[CV 1/5; 5/6] END clf__max_depth=10, clf__n_estimators=50; accuracy: (train=0.931, test=0.775) balanced_accuracy: (train=0.912, test=0.687) f1_macro: (train=0.896, test=0.679) precision: (train=0.890, test=0.691) recall: (train=0.912, test=0.687) total time=   0.9s\n",
      "[CV 2/5; 5/6] START clf__max_depth=10, clf__n_estimators=50.....................\n",
      "[CV 2/5; 5/6] END clf__max_depth=10, clf__n_estimators=50; accuracy: (train=0.932, test=0.738) balanced_accuracy: (train=0.913, test=0.629) f1_macro: (train=0.898, test=0.626) precision: (train=0.891, test=0.637) recall: (train=0.913, test=0.629) total time=   1.0s\n",
      "[CV 3/5; 5/6] START clf__max_depth=10, clf__n_estimators=50.....................\n",
      "[CV 3/5; 5/6] END clf__max_depth=10, clf__n_estimators=50; accuracy: (train=0.927, test=0.777) balanced_accuracy: (train=0.907, test=0.673) f1_macro: (train=0.894, test=0.673) precision: (train=0.889, test=0.689) recall: (train=0.907, test=0.673) total time=   0.9s\n",
      "[CV 4/5; 5/6] START clf__max_depth=10, clf__n_estimators=50.....................\n",
      "[CV 4/5; 5/6] END clf__max_depth=10, clf__n_estimators=50; accuracy: (train=0.928, test=0.778) balanced_accuracy: (train=0.908, test=0.689) f1_macro: (train=0.890, test=0.681) precision: (train=0.883, test=0.709) recall: (train=0.908, test=0.689) total time=   1.0s\n",
      "[CV 5/5; 5/6] START clf__max_depth=10, clf__n_estimators=50.....................\n",
      "[CV 5/5; 5/6] END clf__max_depth=10, clf__n_estimators=50; accuracy: (train=0.919, test=0.761) balanced_accuracy: (train=0.886, test=0.646) f1_macro: (train=0.884, test=0.649) precision: (train=0.890, test=0.680) recall: (train=0.886, test=0.646) total time=   1.0s\n",
      "[CV 1/5; 6/6] START clf__max_depth=10, clf__n_estimators=100....................\n",
      "[CV 1/5; 6/6] END clf__max_depth=10, clf__n_estimators=100; accuracy: (train=0.930, test=0.778) balanced_accuracy: (train=0.910, test=0.685) f1_macro: (train=0.893, test=0.679) precision: (train=0.887, test=0.695) recall: (train=0.910, test=0.685) total time=   2.2s\n",
      "[CV 2/5; 6/6] START clf__max_depth=10, clf__n_estimators=100....................\n",
      "[CV 2/5; 6/6] END clf__max_depth=10, clf__n_estimators=100; accuracy: (train=0.937, test=0.745) balanced_accuracy: (train=0.920, test=0.638) f1_macro: (train=0.903, test=0.634) precision: (train=0.896, test=0.647) recall: (train=0.920, test=0.638) total time=   1.8s\n",
      "[CV 3/5; 6/6] START clf__max_depth=10, clf__n_estimators=100....................\n",
      "[CV 3/5; 6/6] END clf__max_depth=10, clf__n_estimators=100; accuracy: (train=0.930, test=0.775) balanced_accuracy: (train=0.905, test=0.672) f1_macro: (train=0.897, test=0.671) precision: (train=0.896, test=0.689) recall: (train=0.905, test=0.672) total time=   1.6s\n",
      "[CV 4/5; 6/6] START clf__max_depth=10, clf__n_estimators=100....................\n",
      "[CV 4/5; 6/6] END clf__max_depth=10, clf__n_estimators=100; accuracy: (train=0.931, test=0.781) balanced_accuracy: (train=0.912, test=0.685) f1_macro: (train=0.894, test=0.682) precision: (train=0.886, test=0.710) recall: (train=0.912, test=0.685) total time=   1.7s\n",
      "[CV 5/5; 6/6] START clf__max_depth=10, clf__n_estimators=100....................\n",
      "[CV 5/5; 6/6] END clf__max_depth=10, clf__n_estimators=100; accuracy: (train=0.922, test=0.772) balanced_accuracy: (train=0.892, test=0.656) f1_macro: (train=0.888, test=0.660) precision: (train=0.892, test=0.685) recall: (train=0.892, test=0.656) total time=   1.9s\n",
      "Mean CV accuracy: 0.761, ± 0.003\n",
      "Mean CV BA: 0.652, ± 0.003\n",
      "Mean CV f1: 0.651, ± 0.004\n",
      "95% CI: (0.017)\n",
      "Best params: {'clf__max_depth': 10, 'clf__n_estimators': 100}\n",
      "Test set accuracy: 0.795\n",
      "Classification report\n",
      "               precision    recall  f1-score   support\n",
      "\n",
      "         1.0       0.88      0.66      0.75       187\n",
      "         2.0       0.87      0.86      0.86       517\n",
      "         3.0       0.42      0.69      0.52        80\n",
      "\n",
      "    accuracy                           0.79       784\n",
      "   macro avg       0.72      0.74      0.71       784\n",
      "weighted avg       0.82      0.79      0.80       784\n",
      "\n",
      "Balanced accuracy score: 0.7353296734554556\n"
     ]
    },
    {
     "data": {
      "image/png": "[encoded data removed]",
      "text/plain": [
       "<Figure size 640x480 with 2 Axes>"
      ]
     },
     "metadata": {},
     "output_type": "display_data"
    }
   ],
   "source": [
    "try:\n",
    "    rf_cv = Pipeline(steps=[\n",
    "        (\"impute\", SimpleImputer(strategy=\"mean\")),\n",
    "        (\"scaler\", RobustScaler()),\n",
    "        (\"pca\", PCA(n_components=12)),\n",
    "        (\"bsmote\", BorderlineSMOTE(sampling_strategy='minority', random_state=1)),\n",
    "        (\"clf\", RandomForestClassifier(random_state=1))\n",
    "    ])\n",
    "    \n",
    "    params = {\n",
    "        \"clf__n_estimators\": [50, 100], \n",
    "        \"clf__max_depth\": [None, 5, 10],\n",
    "    }\n",
    "    \n",
    "    gs = GridSearchCV(\n",
    "        rf_cv,\n",
    "        params,\n",
    "        n_jobs=1,\n",
    "        cv=cv,\n",
    "        scoring=scoring,\n",
    "        verbose=10, \n",
    "        refit=\"balanced_accuracy\", \n",
    "        return_train_score=True\n",
    "    )\n",
    "    \n",
    "    rf_cv = train_model(gs, X_train_lidar, X_test_lidar, y_train_lidar, y_test_lidar)\n",
    "    #plot_cv_results(cv_results=rf_cv.cv_results_, param_1=\"n_trees\")\n",
    "except Exception as e:\n",
    "    print(\"Something went wrong :(\\n\", e)"
   ]
  },
  {
   "cell_type": "code",
   "execution_count": 75,
   "id": "21e82b26",
   "metadata": {},
   "outputs": [],
   "source": [
    "def train_mlp(pipeline, X_train, X_test, y_train, y_test):\n",
    "    param_grid = {\n",
    "    \"clf__model__hidden_layers\": [(64,32,16), (128,64,32)],\n",
    "    \"clf__model__learning_rate\": [1e-4],\n",
    "    \"clf__epochs\":        [50,100],\n",
    "    \"clf__batch_size\":    [32, 64],\n",
    "    }\n",
    "\n",
    "    cv = StratifiedKFold(n_splits=5, shuffle=True, random_state=1)\n",
    "\n",
    "    gscv = GridSearchCV(\n",
    "        estimator=pipeline,\n",
    "        param_grid=param_grid,\n",
    "        cv=cv,\n",
    "        scoring=scoring,\n",
    "        n_jobs=1,\n",
    "        verbose=2,\n",
    "        refit=\"balanced_accuracy\",\n",
    "        return_train_score=True\n",
    "    )\n",
    "    gscv.fit(X_train, y_train)\n",
    "\n",
    "    std = gscv.cv_results_[\"std_test_accuracy\"][gscv.best_index_]\n",
    "    print(f\"Best CV BA: {gscv.best_score_:.3f}, ± {std:.3f}\")\n",
    "    print(\"train score\", gscv.cv_results_['mean_train_accuracy'], \"vs. cv test score\", gscv.cv_results_['mean_test_accuracy'])\n",
    "    print(\"Best params:\")\n",
    "    for k, v in gscv.best_params_.items():\n",
    "        print(f\"  {k}: {v}\")\n",
    "    \n",
    "    mean_f1 = np.mean(gscv.cv_results_[\"mean_test_f1_macro\"])\n",
    "    std_f1 = np.std(gscv.cv_results_[\"std_test_f1_macro\"])\n",
    "    mean_ba = np.mean(gscv.cv_results_[\"mean_test_balanced_accuracy\"])\n",
    "    std_ba = np.std(gscv.cv_results_[\"std_test_balanced_accuracy\"])\n",
    "    mean_oa = np.mean(gscv.cv_results_[\"mean_test_accuracy\"])\n",
    "    std_oa = np.std(gscv.cv_results_[\"std_test_accuracy\"])\n",
    "    print(f\"Mean CV accuracy: {mean_oa:.3f}, ± {std_oa:.3f}\")\n",
    "    print(f\"Mean CV BA: {mean_ba:.3f}, ± {std_ba:.3f}\")\n",
    "    print(f\"Mean CV f1: {mean_f1:.3f}, ± {std_f1:.3f}\")\n",
    "\n",
    "    test_acc = gscv.score(X_test, y_test)\n",
    "    print(f\"Test set accuracy: {test_acc:.3f}\")\n",
    "\n",
    "    best_model = gscv.best_estimator_        \n",
    "    y_pred     = best_model.predict(X_test)\n",
    "    print(\"Classification report\\n\", classification_report(y_test, y_pred))\n",
    "    print(\"Balanced accuracy score:\", balanced_accuracy_score(y_test, y_pred))\n",
    "\n",
    "    ConfusionMatrixDisplay.from_predictions(y_test, y_pred, normalize='true')\n",
    "\n",
    "def build_mlp(hidden_layers=(64,32,16), meta=None, **kwargs):\n",
    "    model = Sequential([\n",
    "        Input(shape=(meta[\"n_features_in_\"],)),])\n",
    "    for units in hidden_layers:\n",
    "        model.add(Dense(units, activation='relu'))\n",
    "        model.add(Dropout(0.3))\n",
    "    model.add(Dense(3, activation='softmax'))\n",
    "    model.compile(\n",
    "        optimizer=optimizers.Adam(1e-4),\n",
    "        loss='sparse_categorical_crossentropy',\n",
    "        metrics=['accuracy'])\n",
    "    return model"
   ]
  },
  {
   "cell_type": "code",
   "execution_count": 62,
   "id": "1285903c",
   "metadata": {},
   "outputs": [
    {
     "name": "stdout",
     "output_type": "stream",
     "text": [
      "Fitting 5 folds for each of 8 candidates, totalling 40 fits\n",
      "[CV] END clf__batch_size=32, clf__epochs=50, clf__model__hidden_layers=(64, 32, 16), clf__model__learning_rate=0.0001; total time=  29.7s\n"
     ]
    },
    {
     "name": "stderr",
     "output_type": "stream",
     "text": [
      "C:\\Users\\iidam\\AppData\\Local\\Packages\\PythonSoftwareFoundation.Python.3.11_qbz5n2kfra8p0\\LocalCache\\local-packages\\Python311\\site-packages\\sklearn\\metrics\\_classification.py:1531: UndefinedMetricWarning: Precision is ill-defined and being set to 0.0 in labels with no predicted samples. Use `zero_division` parameter to control this behavior.\n",
      "  _warn_prf(average, modifier, f\"{metric.capitalize()} is\", len(result))\n",
      "C:\\Users\\iidam\\AppData\\Local\\Packages\\PythonSoftwareFoundation.Python.3.11_qbz5n2kfra8p0\\LocalCache\\local-packages\\Python311\\site-packages\\sklearn\\metrics\\_classification.py:1531: UndefinedMetricWarning: Precision is ill-defined and being set to 0.0 in labels with no predicted samples. Use `zero_division` parameter to control this behavior.\n",
      "  _warn_prf(average, modifier, f\"{metric.capitalize()} is\", len(result))\n"
     ]
    },
    {
     "name": "stdout",
     "output_type": "stream",
     "text": [
      "[CV] END clf__batch_size=32, clf__epochs=50, clf__model__hidden_layers=(64, 32, 16), clf__model__learning_rate=0.0001; total time=  28.1s\n"
     ]
    },
    {
     "name": "stderr",
     "output_type": "stream",
     "text": [
      "C:\\Users\\iidam\\AppData\\Local\\Packages\\PythonSoftwareFoundation.Python.3.11_qbz5n2kfra8p0\\LocalCache\\local-packages\\Python311\\site-packages\\sklearn\\metrics\\_classification.py:1531: UndefinedMetricWarning: Precision is ill-defined and being set to 0.0 in labels with no predicted samples. Use `zero_division` parameter to control this behavior.\n",
      "  _warn_prf(average, modifier, f\"{metric.capitalize()} is\", len(result))\n",
      "C:\\Users\\iidam\\AppData\\Local\\Packages\\PythonSoftwareFoundation.Python.3.11_qbz5n2kfra8p0\\LocalCache\\local-packages\\Python311\\site-packages\\sklearn\\metrics\\_classification.py:1531: UndefinedMetricWarning: Precision is ill-defined and being set to 0.0 in labels with no predicted samples. Use `zero_division` parameter to control this behavior.\n",
      "  _warn_prf(average, modifier, f\"{metric.capitalize()} is\", len(result))\n"
     ]
    },
    {
     "name": "stdout",
     "output_type": "stream",
     "text": [
      "[CV] END clf__batch_size=32, clf__epochs=50, clf__model__hidden_layers=(64, 32, 16), clf__model__learning_rate=0.0001; total time=  24.8s\n"
     ]
    },
    {
     "name": "stderr",
     "output_type": "stream",
     "text": [
      "C:\\Users\\iidam\\AppData\\Local\\Packages\\PythonSoftwareFoundation.Python.3.11_qbz5n2kfra8p0\\LocalCache\\local-packages\\Python311\\site-packages\\sklearn\\metrics\\_classification.py:1531: UndefinedMetricWarning: Precision is ill-defined and being set to 0.0 in labels with no predicted samples. Use `zero_division` parameter to control this behavior.\n",
      "  _warn_prf(average, modifier, f\"{metric.capitalize()} is\", len(result))\n",
      "C:\\Users\\iidam\\AppData\\Local\\Packages\\PythonSoftwareFoundation.Python.3.11_qbz5n2kfra8p0\\LocalCache\\local-packages\\Python311\\site-packages\\sklearn\\metrics\\_classification.py:1531: UndefinedMetricWarning: Precision is ill-defined and being set to 0.0 in labels with no predicted samples. Use `zero_division` parameter to control this behavior.\n",
      "  _warn_prf(average, modifier, f\"{metric.capitalize()} is\", len(result))\n"
     ]
    },
    {
     "name": "stdout",
     "output_type": "stream",
     "text": [
      "[CV] END clf__batch_size=32, clf__epochs=50, clf__model__hidden_layers=(64, 32, 16), clf__model__learning_rate=0.0001; total time=  24.9s\n"
     ]
    },
    {
     "name": "stderr",
     "output_type": "stream",
     "text": [
      "C:\\Users\\iidam\\AppData\\Local\\Packages\\PythonSoftwareFoundation.Python.3.11_qbz5n2kfra8p0\\LocalCache\\local-packages\\Python311\\site-packages\\sklearn\\metrics\\_classification.py:1531: UndefinedMetricWarning: Precision is ill-defined and being set to 0.0 in labels with no predicted samples. Use `zero_division` parameter to control this behavior.\n",
      "  _warn_prf(average, modifier, f\"{metric.capitalize()} is\", len(result))\n"
     ]
    },
    {
     "name": "stdout",
     "output_type": "stream",
     "text": [
      "[CV] END clf__batch_size=32, clf__epochs=50, clf__model__hidden_layers=(64, 32, 16), clf__model__learning_rate=0.0001; total time=  29.9s\n",
      "[CV] END clf__batch_size=32, clf__epochs=50, clf__model__hidden_layers=(128, 64, 32), clf__model__learning_rate=0.0001; total time=  27.1s\n"
     ]
    },
    {
     "name": "stderr",
     "output_type": "stream",
     "text": [
      "C:\\Users\\iidam\\AppData\\Local\\Packages\\PythonSoftwareFoundation.Python.3.11_qbz5n2kfra8p0\\LocalCache\\local-packages\\Python311\\site-packages\\sklearn\\metrics\\_classification.py:1531: UndefinedMetricWarning: Precision is ill-defined and being set to 0.0 in labels with no predicted samples. Use `zero_division` parameter to control this behavior.\n",
      "  _warn_prf(average, modifier, f\"{metric.capitalize()} is\", len(result))\n",
      "C:\\Users\\iidam\\AppData\\Local\\Packages\\PythonSoftwareFoundation.Python.3.11_qbz5n2kfra8p0\\LocalCache\\local-packages\\Python311\\site-packages\\sklearn\\metrics\\_classification.py:1531: UndefinedMetricWarning: Precision is ill-defined and being set to 0.0 in labels with no predicted samples. Use `zero_division` parameter to control this behavior.\n",
      "  _warn_prf(average, modifier, f\"{metric.capitalize()} is\", len(result))\n"
     ]
    },
    {
     "name": "stdout",
     "output_type": "stream",
     "text": [
      "[CV] END clf__batch_size=32, clf__epochs=50, clf__model__hidden_layers=(128, 64, 32), clf__model__learning_rate=0.0001; total time=  26.5s\n"
     ]
    },
    {
     "name": "stderr",
     "output_type": "stream",
     "text": [
      "C:\\Users\\iidam\\AppData\\Local\\Packages\\PythonSoftwareFoundation.Python.3.11_qbz5n2kfra8p0\\LocalCache\\local-packages\\Python311\\site-packages\\sklearn\\metrics\\_classification.py:1531: UndefinedMetricWarning: Precision is ill-defined and being set to 0.0 in labels with no predicted samples. Use `zero_division` parameter to control this behavior.\n",
      "  _warn_prf(average, modifier, f\"{metric.capitalize()} is\", len(result))\n"
     ]
    },
    {
     "name": "stdout",
     "output_type": "stream",
     "text": [
      "[CV] END clf__batch_size=32, clf__epochs=50, clf__model__hidden_layers=(128, 64, 32), clf__model__learning_rate=0.0001; total time=  25.9s\n"
     ]
    },
    {
     "name": "stderr",
     "output_type": "stream",
     "text": [
      "C:\\Users\\iidam\\AppData\\Local\\Packages\\PythonSoftwareFoundation.Python.3.11_qbz5n2kfra8p0\\LocalCache\\local-packages\\Python311\\site-packages\\sklearn\\metrics\\_classification.py:1531: UndefinedMetricWarning: Precision is ill-defined and being set to 0.0 in labels with no predicted samples. Use `zero_division` parameter to control this behavior.\n",
      "  _warn_prf(average, modifier, f\"{metric.capitalize()} is\", len(result))\n",
      "C:\\Users\\iidam\\AppData\\Local\\Packages\\PythonSoftwareFoundation.Python.3.11_qbz5n2kfra8p0\\LocalCache\\local-packages\\Python311\\site-packages\\sklearn\\metrics\\_classification.py:1531: UndefinedMetricWarning: Precision is ill-defined and being set to 0.0 in labels with no predicted samples. Use `zero_division` parameter to control this behavior.\n",
      "  _warn_prf(average, modifier, f\"{metric.capitalize()} is\", len(result))\n"
     ]
    },
    {
     "name": "stdout",
     "output_type": "stream",
     "text": [
      "[CV] END clf__batch_size=32, clf__epochs=50, clf__model__hidden_layers=(128, 64, 32), clf__model__learning_rate=0.0001; total time=  25.8s\n",
      "[CV] END clf__batch_size=32, clf__epochs=50, clf__model__hidden_layers=(128, 64, 32), clf__model__learning_rate=0.0001; total time=  25.7s\n"
     ]
    },
    {
     "name": "stderr",
     "output_type": "stream",
     "text": [
      "C:\\Users\\iidam\\AppData\\Local\\Packages\\PythonSoftwareFoundation.Python.3.11_qbz5n2kfra8p0\\LocalCache\\local-packages\\Python311\\site-packages\\sklearn\\metrics\\_classification.py:1531: UndefinedMetricWarning: Precision is ill-defined and being set to 0.0 in labels with no predicted samples. Use `zero_division` parameter to control this behavior.\n",
      "  _warn_prf(average, modifier, f\"{metric.capitalize()} is\", len(result))\n",
      "C:\\Users\\iidam\\AppData\\Local\\Packages\\PythonSoftwareFoundation.Python.3.11_qbz5n2kfra8p0\\LocalCache\\local-packages\\Python311\\site-packages\\sklearn\\metrics\\_classification.py:1531: UndefinedMetricWarning: Precision is ill-defined and being set to 0.0 in labels with no predicted samples. Use `zero_division` parameter to control this behavior.\n",
      "  _warn_prf(average, modifier, f\"{metric.capitalize()} is\", len(result))\n"
     ]
    },
    {
     "name": "stdout",
     "output_type": "stream",
     "text": [
      "[CV] END clf__batch_size=32, clf__epochs=100, clf__model__hidden_layers=(64, 32, 16), clf__model__learning_rate=0.0001; total time=  43.6s\n",
      "[CV] END clf__batch_size=32, clf__epochs=100, clf__model__hidden_layers=(64, 32, 16), clf__model__learning_rate=0.0001; total time= 1.2min\n"
     ]
    },
    {
     "name": "stderr",
     "output_type": "stream",
     "text": [
      "C:\\Users\\iidam\\AppData\\Local\\Packages\\PythonSoftwareFoundation.Python.3.11_qbz5n2kfra8p0\\LocalCache\\local-packages\\Python311\\site-packages\\sklearn\\metrics\\_classification.py:1531: UndefinedMetricWarning: Precision is ill-defined and being set to 0.0 in labels with no predicted samples. Use `zero_division` parameter to control this behavior.\n",
      "  _warn_prf(average, modifier, f\"{metric.capitalize()} is\", len(result))\n",
      "C:\\Users\\iidam\\AppData\\Local\\Packages\\PythonSoftwareFoundation.Python.3.11_qbz5n2kfra8p0\\LocalCache\\local-packages\\Python311\\site-packages\\sklearn\\metrics\\_classification.py:1531: UndefinedMetricWarning: Precision is ill-defined and being set to 0.0 in labels with no predicted samples. Use `zero_division` parameter to control this behavior.\n",
      "  _warn_prf(average, modifier, f\"{metric.capitalize()} is\", len(result))\n"
     ]
    },
    {
     "name": "stdout",
     "output_type": "stream",
     "text": [
      "[CV] END clf__batch_size=32, clf__epochs=100, clf__model__hidden_layers=(64, 32, 16), clf__model__learning_rate=0.0001; total time=  46.1s\n"
     ]
    },
    {
     "name": "stderr",
     "output_type": "stream",
     "text": [
      "C:\\Users\\iidam\\AppData\\Local\\Packages\\PythonSoftwareFoundation.Python.3.11_qbz5n2kfra8p0\\LocalCache\\local-packages\\Python311\\site-packages\\sklearn\\metrics\\_classification.py:1531: UndefinedMetricWarning: Precision is ill-defined and being set to 0.0 in labels with no predicted samples. Use `zero_division` parameter to control this behavior.\n",
      "  _warn_prf(average, modifier, f\"{metric.capitalize()} is\", len(result))\n"
     ]
    },
    {
     "name": "stdout",
     "output_type": "stream",
     "text": [
      "[CV] END clf__batch_size=32, clf__epochs=100, clf__model__hidden_layers=(64, 32, 16), clf__model__learning_rate=0.0001; total time=  45.4s\n",
      "[CV] END clf__batch_size=32, clf__epochs=100, clf__model__hidden_layers=(64, 32, 16), clf__model__learning_rate=0.0001; total time=  47.3s\n",
      "[CV] END clf__batch_size=32, clf__epochs=100, clf__model__hidden_layers=(128, 64, 32), clf__model__learning_rate=0.0001; total time=  46.2s\n",
      "[CV] END clf__batch_size=32, clf__epochs=100, clf__model__hidden_layers=(128, 64, 32), clf__model__learning_rate=0.0001; total time=  48.2s\n",
      "[CV] END clf__batch_size=32, clf__epochs=100, clf__model__hidden_layers=(128, 64, 32), clf__model__learning_rate=0.0001; total time=  46.1s\n",
      "[CV] END clf__batch_size=32, clf__epochs=100, clf__model__hidden_layers=(128, 64, 32), clf__model__learning_rate=0.0001; total time=  45.8s\n",
      "[CV] END clf__batch_size=32, clf__epochs=100, clf__model__hidden_layers=(128, 64, 32), clf__model__learning_rate=0.0001; total time=  47.5s\n"
     ]
    },
    {
     "name": "stderr",
     "output_type": "stream",
     "text": [
      "C:\\Users\\iidam\\AppData\\Local\\Packages\\PythonSoftwareFoundation.Python.3.11_qbz5n2kfra8p0\\LocalCache\\local-packages\\Python311\\site-packages\\sklearn\\metrics\\_classification.py:1531: UndefinedMetricWarning: Precision is ill-defined and being set to 0.0 in labels with no predicted samples. Use `zero_division` parameter to control this behavior.\n",
      "  _warn_prf(average, modifier, f\"{metric.capitalize()} is\", len(result))\n",
      "C:\\Users\\iidam\\AppData\\Local\\Packages\\PythonSoftwareFoundation.Python.3.11_qbz5n2kfra8p0\\LocalCache\\local-packages\\Python311\\site-packages\\sklearn\\metrics\\_classification.py:1531: UndefinedMetricWarning: Precision is ill-defined and being set to 0.0 in labels with no predicted samples. Use `zero_division` parameter to control this behavior.\n",
      "  _warn_prf(average, modifier, f\"{metric.capitalize()} is\", len(result))\n"
     ]
    },
    {
     "name": "stdout",
     "output_type": "stream",
     "text": [
      "[CV] END clf__batch_size=64, clf__epochs=50, clf__model__hidden_layers=(64, 32, 16), clf__model__learning_rate=0.0001; total time=  17.1s\n",
      "[CV] END clf__batch_size=64, clf__epochs=50, clf__model__hidden_layers=(64, 32, 16), clf__model__learning_rate=0.0001; total time=  17.2s\n"
     ]
    },
    {
     "name": "stderr",
     "output_type": "stream",
     "text": [
      "C:\\Users\\iidam\\AppData\\Local\\Packages\\PythonSoftwareFoundation.Python.3.11_qbz5n2kfra8p0\\LocalCache\\local-packages\\Python311\\site-packages\\sklearn\\metrics\\_classification.py:1531: UndefinedMetricWarning: Precision is ill-defined and being set to 0.0 in labels with no predicted samples. Use `zero_division` parameter to control this behavior.\n",
      "  _warn_prf(average, modifier, f\"{metric.capitalize()} is\", len(result))\n",
      "C:\\Users\\iidam\\AppData\\Local\\Packages\\PythonSoftwareFoundation.Python.3.11_qbz5n2kfra8p0\\LocalCache\\local-packages\\Python311\\site-packages\\sklearn\\metrics\\_classification.py:1531: UndefinedMetricWarning: Precision is ill-defined and being set to 0.0 in labels with no predicted samples. Use `zero_division` parameter to control this behavior.\n",
      "  _warn_prf(average, modifier, f\"{metric.capitalize()} is\", len(result))\n"
     ]
    },
    {
     "name": "stdout",
     "output_type": "stream",
     "text": [
      "[CV] END clf__batch_size=64, clf__epochs=50, clf__model__hidden_layers=(64, 32, 16), clf__model__learning_rate=0.0001; total time=  16.9s\n"
     ]
    },
    {
     "name": "stderr",
     "output_type": "stream",
     "text": [
      "C:\\Users\\iidam\\AppData\\Local\\Packages\\PythonSoftwareFoundation.Python.3.11_qbz5n2kfra8p0\\LocalCache\\local-packages\\Python311\\site-packages\\sklearn\\metrics\\_classification.py:1531: UndefinedMetricWarning: Precision is ill-defined and being set to 0.0 in labels with no predicted samples. Use `zero_division` parameter to control this behavior.\n",
      "  _warn_prf(average, modifier, f\"{metric.capitalize()} is\", len(result))\n",
      "C:\\Users\\iidam\\AppData\\Local\\Packages\\PythonSoftwareFoundation.Python.3.11_qbz5n2kfra8p0\\LocalCache\\local-packages\\Python311\\site-packages\\sklearn\\metrics\\_classification.py:1531: UndefinedMetricWarning: Precision is ill-defined and being set to 0.0 in labels with no predicted samples. Use `zero_division` parameter to control this behavior.\n",
      "  _warn_prf(average, modifier, f\"{metric.capitalize()} is\", len(result))\n"
     ]
    },
    {
     "name": "stdout",
     "output_type": "stream",
     "text": [
      "[CV] END clf__batch_size=64, clf__epochs=50, clf__model__hidden_layers=(64, 32, 16), clf__model__learning_rate=0.0001; total time=  17.3s\n"
     ]
    },
    {
     "name": "stderr",
     "output_type": "stream",
     "text": [
      "C:\\Users\\iidam\\AppData\\Local\\Packages\\PythonSoftwareFoundation.Python.3.11_qbz5n2kfra8p0\\LocalCache\\local-packages\\Python311\\site-packages\\sklearn\\metrics\\_classification.py:1531: UndefinedMetricWarning: Precision is ill-defined and being set to 0.0 in labels with no predicted samples. Use `zero_division` parameter to control this behavior.\n",
      "  _warn_prf(average, modifier, f\"{metric.capitalize()} is\", len(result))\n",
      "C:\\Users\\iidam\\AppData\\Local\\Packages\\PythonSoftwareFoundation.Python.3.11_qbz5n2kfra8p0\\LocalCache\\local-packages\\Python311\\site-packages\\sklearn\\metrics\\_classification.py:1531: UndefinedMetricWarning: Precision is ill-defined and being set to 0.0 in labels with no predicted samples. Use `zero_division` parameter to control this behavior.\n",
      "  _warn_prf(average, modifier, f\"{metric.capitalize()} is\", len(result))\n"
     ]
    },
    {
     "name": "stdout",
     "output_type": "stream",
     "text": [
      "[CV] END clf__batch_size=64, clf__epochs=50, clf__model__hidden_layers=(64, 32, 16), clf__model__learning_rate=0.0001; total time=  17.4s\n"
     ]
    },
    {
     "name": "stderr",
     "output_type": "stream",
     "text": [
      "C:\\Users\\iidam\\AppData\\Local\\Packages\\PythonSoftwareFoundation.Python.3.11_qbz5n2kfra8p0\\LocalCache\\local-packages\\Python311\\site-packages\\sklearn\\metrics\\_classification.py:1531: UndefinedMetricWarning: Precision is ill-defined and being set to 0.0 in labels with no predicted samples. Use `zero_division` parameter to control this behavior.\n",
      "  _warn_prf(average, modifier, f\"{metric.capitalize()} is\", len(result))\n"
     ]
    },
    {
     "name": "stdout",
     "output_type": "stream",
     "text": [
      "[CV] END clf__batch_size=64, clf__epochs=50, clf__model__hidden_layers=(128, 64, 32), clf__model__learning_rate=0.0001; total time=  17.8s\n",
      "[CV] END clf__batch_size=64, clf__epochs=50, clf__model__hidden_layers=(128, 64, 32), clf__model__learning_rate=0.0001; total time=  18.4s\n"
     ]
    },
    {
     "name": "stderr",
     "output_type": "stream",
     "text": [
      "C:\\Users\\iidam\\AppData\\Local\\Packages\\PythonSoftwareFoundation.Python.3.11_qbz5n2kfra8p0\\LocalCache\\local-packages\\Python311\\site-packages\\sklearn\\metrics\\_classification.py:1531: UndefinedMetricWarning: Precision is ill-defined and being set to 0.0 in labels with no predicted samples. Use `zero_division` parameter to control this behavior.\n",
      "  _warn_prf(average, modifier, f\"{metric.capitalize()} is\", len(result))\n",
      "C:\\Users\\iidam\\AppData\\Local\\Packages\\PythonSoftwareFoundation.Python.3.11_qbz5n2kfra8p0\\LocalCache\\local-packages\\Python311\\site-packages\\sklearn\\metrics\\_classification.py:1531: UndefinedMetricWarning: Precision is ill-defined and being set to 0.0 in labels with no predicted samples. Use `zero_division` parameter to control this behavior.\n",
      "  _warn_prf(average, modifier, f\"{metric.capitalize()} is\", len(result))\n"
     ]
    },
    {
     "name": "stdout",
     "output_type": "stream",
     "text": [
      "[CV] END clf__batch_size=64, clf__epochs=50, clf__model__hidden_layers=(128, 64, 32), clf__model__learning_rate=0.0001; total time=  17.5s\n",
      "[CV] END clf__batch_size=64, clf__epochs=50, clf__model__hidden_layers=(128, 64, 32), clf__model__learning_rate=0.0001; total time=  17.4s\n",
      "[CV] END clf__batch_size=64, clf__epochs=50, clf__model__hidden_layers=(128, 64, 32), clf__model__learning_rate=0.0001; total time=  17.7s\n"
     ]
    },
    {
     "name": "stderr",
     "output_type": "stream",
     "text": [
      "C:\\Users\\iidam\\AppData\\Local\\Packages\\PythonSoftwareFoundation.Python.3.11_qbz5n2kfra8p0\\LocalCache\\local-packages\\Python311\\site-packages\\sklearn\\metrics\\_classification.py:1531: UndefinedMetricWarning: Precision is ill-defined and being set to 0.0 in labels with no predicted samples. Use `zero_division` parameter to control this behavior.\n",
      "  _warn_prf(average, modifier, f\"{metric.capitalize()} is\", len(result))\n",
      "C:\\Users\\iidam\\AppData\\Local\\Packages\\PythonSoftwareFoundation.Python.3.11_qbz5n2kfra8p0\\LocalCache\\local-packages\\Python311\\site-packages\\sklearn\\metrics\\_classification.py:1531: UndefinedMetricWarning: Precision is ill-defined and being set to 0.0 in labels with no predicted samples. Use `zero_division` parameter to control this behavior.\n",
      "  _warn_prf(average, modifier, f\"{metric.capitalize()} is\", len(result))\n"
     ]
    },
    {
     "name": "stdout",
     "output_type": "stream",
     "text": [
      "[CV] END clf__batch_size=64, clf__epochs=100, clf__model__hidden_layers=(64, 32, 16), clf__model__learning_rate=0.0001; total time=  31.0s\n"
     ]
    },
    {
     "name": "stderr",
     "output_type": "stream",
     "text": [
      "C:\\Users\\iidam\\AppData\\Local\\Packages\\PythonSoftwareFoundation.Python.3.11_qbz5n2kfra8p0\\LocalCache\\local-packages\\Python311\\site-packages\\sklearn\\metrics\\_classification.py:1531: UndefinedMetricWarning: Precision is ill-defined and being set to 0.0 in labels with no predicted samples. Use `zero_division` parameter to control this behavior.\n",
      "  _warn_prf(average, modifier, f\"{metric.capitalize()} is\", len(result))\n"
     ]
    },
    {
     "name": "stdout",
     "output_type": "stream",
     "text": [
      "[CV] END clf__batch_size=64, clf__epochs=100, clf__model__hidden_layers=(64, 32, 16), clf__model__learning_rate=0.0001; total time=  29.9s\n"
     ]
    },
    {
     "name": "stderr",
     "output_type": "stream",
     "text": [
      "C:\\Users\\iidam\\AppData\\Local\\Packages\\PythonSoftwareFoundation.Python.3.11_qbz5n2kfra8p0\\LocalCache\\local-packages\\Python311\\site-packages\\sklearn\\metrics\\_classification.py:1531: UndefinedMetricWarning: Precision is ill-defined and being set to 0.0 in labels with no predicted samples. Use `zero_division` parameter to control this behavior.\n",
      "  _warn_prf(average, modifier, f\"{metric.capitalize()} is\", len(result))\n",
      "C:\\Users\\iidam\\AppData\\Local\\Packages\\PythonSoftwareFoundation.Python.3.11_qbz5n2kfra8p0\\LocalCache\\local-packages\\Python311\\site-packages\\sklearn\\metrics\\_classification.py:1531: UndefinedMetricWarning: Precision is ill-defined and being set to 0.0 in labels with no predicted samples. Use `zero_division` parameter to control this behavior.\n",
      "  _warn_prf(average, modifier, f\"{metric.capitalize()} is\", len(result))\n"
     ]
    },
    {
     "name": "stdout",
     "output_type": "stream",
     "text": [
      "[CV] END clf__batch_size=64, clf__epochs=100, clf__model__hidden_layers=(64, 32, 16), clf__model__learning_rate=0.0001; total time=  30.0s\n"
     ]
    },
    {
     "name": "stderr",
     "output_type": "stream",
     "text": [
      "C:\\Users\\iidam\\AppData\\Local\\Packages\\PythonSoftwareFoundation.Python.3.11_qbz5n2kfra8p0\\LocalCache\\local-packages\\Python311\\site-packages\\sklearn\\metrics\\_classification.py:1531: UndefinedMetricWarning: Precision is ill-defined and being set to 0.0 in labels with no predicted samples. Use `zero_division` parameter to control this behavior.\n",
      "  _warn_prf(average, modifier, f\"{metric.capitalize()} is\", len(result))\n",
      "C:\\Users\\iidam\\AppData\\Local\\Packages\\PythonSoftwareFoundation.Python.3.11_qbz5n2kfra8p0\\LocalCache\\local-packages\\Python311\\site-packages\\sklearn\\metrics\\_classification.py:1531: UndefinedMetricWarning: Precision is ill-defined and being set to 0.0 in labels with no predicted samples. Use `zero_division` parameter to control this behavior.\n",
      "  _warn_prf(average, modifier, f\"{metric.capitalize()} is\", len(result))\n"
     ]
    },
    {
     "name": "stdout",
     "output_type": "stream",
     "text": [
      "[CV] END clf__batch_size=64, clf__epochs=100, clf__model__hidden_layers=(64, 32, 16), clf__model__learning_rate=0.0001; total time=  30.6s\n"
     ]
    },
    {
     "name": "stderr",
     "output_type": "stream",
     "text": [
      "C:\\Users\\iidam\\AppData\\Local\\Packages\\PythonSoftwareFoundation.Python.3.11_qbz5n2kfra8p0\\LocalCache\\local-packages\\Python311\\site-packages\\sklearn\\metrics\\_classification.py:1531: UndefinedMetricWarning: Precision is ill-defined and being set to 0.0 in labels with no predicted samples. Use `zero_division` parameter to control this behavior.\n",
      "  _warn_prf(average, modifier, f\"{metric.capitalize()} is\", len(result))\n",
      "C:\\Users\\iidam\\AppData\\Local\\Packages\\PythonSoftwareFoundation.Python.3.11_qbz5n2kfra8p0\\LocalCache\\local-packages\\Python311\\site-packages\\sklearn\\metrics\\_classification.py:1531: UndefinedMetricWarning: Precision is ill-defined and being set to 0.0 in labels with no predicted samples. Use `zero_division` parameter to control this behavior.\n",
      "  _warn_prf(average, modifier, f\"{metric.capitalize()} is\", len(result))\n"
     ]
    },
    {
     "name": "stdout",
     "output_type": "stream",
     "text": [
      "[CV] END clf__batch_size=64, clf__epochs=100, clf__model__hidden_layers=(64, 32, 16), clf__model__learning_rate=0.0001; total time=  31.1s\n",
      "[CV] END clf__batch_size=64, clf__epochs=100, clf__model__hidden_layers=(128, 64, 32), clf__model__learning_rate=0.0001; total time= 4.8min\n",
      "[CV] END clf__batch_size=64, clf__epochs=100, clf__model__hidden_layers=(128, 64, 32), clf__model__learning_rate=0.0001; total time=  32.5s\n",
      "[CV] END clf__batch_size=64, clf__epochs=100, clf__model__hidden_layers=(128, 64, 32), clf__model__learning_rate=0.0001; total time=  31.1s\n"
     ]
    },
    {
     "name": "stderr",
     "output_type": "stream",
     "text": [
      "C:\\Users\\iidam\\AppData\\Local\\Packages\\PythonSoftwareFoundation.Python.3.11_qbz5n2kfra8p0\\LocalCache\\local-packages\\Python311\\site-packages\\sklearn\\metrics\\_classification.py:1531: UndefinedMetricWarning: Precision is ill-defined and being set to 0.0 in labels with no predicted samples. Use `zero_division` parameter to control this behavior.\n",
      "  _warn_prf(average, modifier, f\"{metric.capitalize()} is\", len(result))\n",
      "C:\\Users\\iidam\\AppData\\Local\\Packages\\PythonSoftwareFoundation.Python.3.11_qbz5n2kfra8p0\\LocalCache\\local-packages\\Python311\\site-packages\\sklearn\\metrics\\_classification.py:1531: UndefinedMetricWarning: Precision is ill-defined and being set to 0.0 in labels with no predicted samples. Use `zero_division` parameter to control this behavior.\n",
      "  _warn_prf(average, modifier, f\"{metric.capitalize()} is\", len(result))\n"
     ]
    },
    {
     "name": "stdout",
     "output_type": "stream",
     "text": [
      "[CV] END clf__batch_size=64, clf__epochs=100, clf__model__hidden_layers=(128, 64, 32), clf__model__learning_rate=0.0001; total time=  30.3s\n",
      "[CV] END clf__batch_size=64, clf__epochs=100, clf__model__hidden_layers=(128, 64, 32), clf__model__learning_rate=0.0001; total time=  31.0s\n",
      "Best CV BA: 0.605, ± 0.015\n",
      "train score [0.77591707 0.79800638 0.79354067 0.81403509 0.76259968 0.79385965\n",
      " 0.78484848 0.80263158] vs. cv test score [0.77416268 0.79330144 0.79106858 0.80191388 0.75885167 0.79170654\n",
      " 0.77799043 0.79585327]\n",
      "Best params:\n",
      "  clf__batch_size: 32\n",
      "  clf__epochs: 100\n",
      "  clf__model__hidden_layers: (128, 64, 32)\n",
      "  clf__model__learning_rate: 0.0001\n",
      "Mean CV accuracy: 0.786, ± 0.004\n",
      "Mean CV BA: 0.548, ± 0.006\n",
      "Mean CV f1: 0.547, ± 0.007\n",
      "Test set accuracy: 0.610\n",
      "Classification report\n",
      "               precision    recall  f1-score   support\n",
      "\n",
      "         1.0       0.86      0.70      0.77       187\n",
      "         2.0       0.81      0.96      0.88       517\n",
      "         3.0       0.78      0.17      0.29        80\n",
      "\n",
      "    accuracy                           0.82       784\n",
      "   macro avg       0.81      0.61      0.64       784\n",
      "weighted avg       0.82      0.82      0.79       784\n",
      "\n",
      "Balanced accuracy score: 0.6098560700876096\n"
     ]
    },
    {
     "data": {
      "image/png": "[encoded data removed]",
      "text/plain": [
       "<Figure size 640x480 with 2 Axes>"
      ]
     },
     "metadata": {},
     "output_type": "display_data"
    }
   ],
   "source": [
    "clf = KerasClassifier(\n",
    "    model=build_mlp,\n",
    "    epochs=50,\n",
    "    batch_size=32,\n",
    "    verbose=0\n",
    ")\n",
    "\n",
    "mlp_cv = Pipeline([\n",
    "    (\"impute\", SimpleImputer()),\n",
    "    (\"scale\", StandardScaler()),\n",
    "    (\"pca\", PCA(n_components=12)),\n",
    "    (\"clf\", clf)\n",
    "])\n",
    "\n",
    "train_mlp(mlp_cv, X_train_lidar, X_test_lidar, y_train_lidar, y_test_lidar)"
   ]
  },
  {
   "cell_type": "code",
   "execution_count": 16,
   "id": "38933a06",
   "metadata": {},
   "outputs": [
    {
     "name": "stdout",
     "output_type": "stream",
     "text": [
      "Fitting 5 folds for each of 8 candidates, totalling 40 fits\n",
      "[CV] END clf__batch_size=32, clf__epochs=50, clf__model__hidden_layers=(64, 32, 16), clf__model__learning_rate=0.0001; total time=   7.9s\n"
     ]
    },
    {
     "name": "stderr",
     "output_type": "stream",
     "text": [
      "C:\\Users\\iidam\\AppData\\Local\\Packages\\PythonSoftwareFoundation.Python.3.11_qbz5n2kfra8p0\\LocalCache\\local-packages\\Python311\\site-packages\\sklearn\\metrics\\_classification.py:1531: UndefinedMetricWarning: Precision is ill-defined and being set to 0.0 in labels with no predicted samples. Use `zero_division` parameter to control this behavior.\n",
      "  _warn_prf(average, modifier, f\"{metric.capitalize()} is\", len(result))\n",
      "C:\\Users\\iidam\\AppData\\Local\\Packages\\PythonSoftwareFoundation.Python.3.11_qbz5n2kfra8p0\\LocalCache\\local-packages\\Python311\\site-packages\\sklearn\\metrics\\_classification.py:1531: UndefinedMetricWarning: Precision is ill-defined and being set to 0.0 in labels with no predicted samples. Use `zero_division` parameter to control this behavior.\n",
      "  _warn_prf(average, modifier, f\"{metric.capitalize()} is\", len(result))\n"
     ]
    },
    {
     "name": "stdout",
     "output_type": "stream",
     "text": [
      "[CV] END clf__batch_size=32, clf__epochs=50, clf__model__hidden_layers=(64, 32, 16), clf__model__learning_rate=0.0001; total time=   7.9s\n"
     ]
    },
    {
     "name": "stderr",
     "output_type": "stream",
     "text": [
      "C:\\Users\\iidam\\AppData\\Local\\Packages\\PythonSoftwareFoundation.Python.3.11_qbz5n2kfra8p0\\LocalCache\\local-packages\\Python311\\site-packages\\sklearn\\metrics\\_classification.py:1531: UndefinedMetricWarning: Precision is ill-defined and being set to 0.0 in labels with no predicted samples. Use `zero_division` parameter to control this behavior.\n",
      "  _warn_prf(average, modifier, f\"{metric.capitalize()} is\", len(result))\n",
      "C:\\Users\\iidam\\AppData\\Local\\Packages\\PythonSoftwareFoundation.Python.3.11_qbz5n2kfra8p0\\LocalCache\\local-packages\\Python311\\site-packages\\sklearn\\metrics\\_classification.py:1531: UndefinedMetricWarning: Precision is ill-defined and being set to 0.0 in labels with no predicted samples. Use `zero_division` parameter to control this behavior.\n",
      "  _warn_prf(average, modifier, f\"{metric.capitalize()} is\", len(result))\n"
     ]
    },
    {
     "name": "stdout",
     "output_type": "stream",
     "text": [
      "[CV] END clf__batch_size=32, clf__epochs=50, clf__model__hidden_layers=(64, 32, 16), clf__model__learning_rate=0.0001; total time=  12.2s\n"
     ]
    },
    {
     "name": "stderr",
     "output_type": "stream",
     "text": [
      "C:\\Users\\iidam\\AppData\\Local\\Packages\\PythonSoftwareFoundation.Python.3.11_qbz5n2kfra8p0\\LocalCache\\local-packages\\Python311\\site-packages\\sklearn\\metrics\\_classification.py:1531: UndefinedMetricWarning: Precision is ill-defined and being set to 0.0 in labels with no predicted samples. Use `zero_division` parameter to control this behavior.\n",
      "  _warn_prf(average, modifier, f\"{metric.capitalize()} is\", len(result))\n",
      "C:\\Users\\iidam\\AppData\\Local\\Packages\\PythonSoftwareFoundation.Python.3.11_qbz5n2kfra8p0\\LocalCache\\local-packages\\Python311\\site-packages\\sklearn\\metrics\\_classification.py:1531: UndefinedMetricWarning: Precision is ill-defined and being set to 0.0 in labels with no predicted samples. Use `zero_division` parameter to control this behavior.\n",
      "  _warn_prf(average, modifier, f\"{metric.capitalize()} is\", len(result))\n"
     ]
    },
    {
     "name": "stdout",
     "output_type": "stream",
     "text": [
      "[CV] END clf__batch_size=32, clf__epochs=50, clf__model__hidden_layers=(64, 32, 16), clf__model__learning_rate=0.0001; total time=   9.0s\n",
      "[CV] END clf__batch_size=32, clf__epochs=50, clf__model__hidden_layers=(64, 32, 16), clf__model__learning_rate=0.0001; total time=  10.0s\n",
      "[CV] END clf__batch_size=32, clf__epochs=50, clf__model__hidden_layers=(128, 64, 32), clf__model__learning_rate=0.0001; total time=  10.5s\n",
      "[CV] END clf__batch_size=32, clf__epochs=50, clf__model__hidden_layers=(128, 64, 32), clf__model__learning_rate=0.0001; total time=  10.7s\n",
      "[CV] END clf__batch_size=32, clf__epochs=50, clf__model__hidden_layers=(128, 64, 32), clf__model__learning_rate=0.0001; total time=   8.7s\n",
      "[CV] END clf__batch_size=32, clf__epochs=50, clf__model__hidden_layers=(128, 64, 32), clf__model__learning_rate=0.0001; total time=   9.5s\n",
      "[CV] END clf__batch_size=32, clf__epochs=50, clf__model__hidden_layers=(128, 64, 32), clf__model__learning_rate=0.0001; total time=   9.3s\n"
     ]
    },
    {
     "name": "stderr",
     "output_type": "stream",
     "text": [
      "C:\\Users\\iidam\\AppData\\Local\\Packages\\PythonSoftwareFoundation.Python.3.11_qbz5n2kfra8p0\\LocalCache\\local-packages\\Python311\\site-packages\\sklearn\\metrics\\_classification.py:1531: UndefinedMetricWarning: Precision is ill-defined and being set to 0.0 in labels with no predicted samples. Use `zero_division` parameter to control this behavior.\n",
      "  _warn_prf(average, modifier, f\"{metric.capitalize()} is\", len(result))\n",
      "C:\\Users\\iidam\\AppData\\Local\\Packages\\PythonSoftwareFoundation.Python.3.11_qbz5n2kfra8p0\\LocalCache\\local-packages\\Python311\\site-packages\\sklearn\\metrics\\_classification.py:1531: UndefinedMetricWarning: Precision is ill-defined and being set to 0.0 in labels with no predicted samples. Use `zero_division` parameter to control this behavior.\n",
      "  _warn_prf(average, modifier, f\"{metric.capitalize()} is\", len(result))\n"
     ]
    },
    {
     "name": "stdout",
     "output_type": "stream",
     "text": [
      "[CV] END clf__batch_size=32, clf__epochs=100, clf__model__hidden_layers=(64, 32, 16), clf__model__learning_rate=0.0001; total time=  17.4s\n"
     ]
    },
    {
     "name": "stderr",
     "output_type": "stream",
     "text": [
      "C:\\Users\\iidam\\AppData\\Local\\Packages\\PythonSoftwareFoundation.Python.3.11_qbz5n2kfra8p0\\LocalCache\\local-packages\\Python311\\site-packages\\sklearn\\metrics\\_classification.py:1531: UndefinedMetricWarning: Precision is ill-defined and being set to 0.0 in labels with no predicted samples. Use `zero_division` parameter to control this behavior.\n",
      "  _warn_prf(average, modifier, f\"{metric.capitalize()} is\", len(result))\n",
      "C:\\Users\\iidam\\AppData\\Local\\Packages\\PythonSoftwareFoundation.Python.3.11_qbz5n2kfra8p0\\LocalCache\\local-packages\\Python311\\site-packages\\sklearn\\metrics\\_classification.py:1531: UndefinedMetricWarning: Precision is ill-defined and being set to 0.0 in labels with no predicted samples. Use `zero_division` parameter to control this behavior.\n",
      "  _warn_prf(average, modifier, f\"{metric.capitalize()} is\", len(result))\n"
     ]
    },
    {
     "name": "stdout",
     "output_type": "stream",
     "text": [
      "[CV] END clf__batch_size=32, clf__epochs=100, clf__model__hidden_layers=(64, 32, 16), clf__model__learning_rate=0.0001; total time=  17.5s\n"
     ]
    },
    {
     "name": "stderr",
     "output_type": "stream",
     "text": [
      "C:\\Users\\iidam\\AppData\\Local\\Packages\\PythonSoftwareFoundation.Python.3.11_qbz5n2kfra8p0\\LocalCache\\local-packages\\Python311\\site-packages\\sklearn\\metrics\\_classification.py:1531: UndefinedMetricWarning: Precision is ill-defined and being set to 0.0 in labels with no predicted samples. Use `zero_division` parameter to control this behavior.\n",
      "  _warn_prf(average, modifier, f\"{metric.capitalize()} is\", len(result))\n",
      "C:\\Users\\iidam\\AppData\\Local\\Packages\\PythonSoftwareFoundation.Python.3.11_qbz5n2kfra8p0\\LocalCache\\local-packages\\Python311\\site-packages\\sklearn\\metrics\\_classification.py:1531: UndefinedMetricWarning: Precision is ill-defined and being set to 0.0 in labels with no predicted samples. Use `zero_division` parameter to control this behavior.\n",
      "  _warn_prf(average, modifier, f\"{metric.capitalize()} is\", len(result))\n"
     ]
    },
    {
     "name": "stdout",
     "output_type": "stream",
     "text": [
      "[CV] END clf__batch_size=32, clf__epochs=100, clf__model__hidden_layers=(64, 32, 16), clf__model__learning_rate=0.0001; total time=  16.6s\n",
      "[CV] END clf__batch_size=32, clf__epochs=100, clf__model__hidden_layers=(64, 32, 16), clf__model__learning_rate=0.0001; total time=  17.3s\n",
      "[CV] END clf__batch_size=32, clf__epochs=100, clf__model__hidden_layers=(64, 32, 16), clf__model__learning_rate=0.0001; total time=  23.2s\n",
      "[CV] END clf__batch_size=32, clf__epochs=100, clf__model__hidden_layers=(128, 64, 32), clf__model__learning_rate=0.0001; total time=  46.1s\n",
      "[CV] END clf__batch_size=32, clf__epochs=100, clf__model__hidden_layers=(128, 64, 32), clf__model__learning_rate=0.0001; total time=  14.7s\n",
      "[CV] END clf__batch_size=32, clf__epochs=100, clf__model__hidden_layers=(128, 64, 32), clf__model__learning_rate=0.0001; total time=  18.2s\n",
      "[CV] END clf__batch_size=32, clf__epochs=100, clf__model__hidden_layers=(128, 64, 32), clf__model__learning_rate=0.0001; total time=  15.1s\n",
      "[CV] END clf__batch_size=32, clf__epochs=100, clf__model__hidden_layers=(128, 64, 32), clf__model__learning_rate=0.0001; total time=  18.0s\n"
     ]
    },
    {
     "name": "stderr",
     "output_type": "stream",
     "text": [
      "C:\\Users\\iidam\\AppData\\Local\\Packages\\PythonSoftwareFoundation.Python.3.11_qbz5n2kfra8p0\\LocalCache\\local-packages\\Python311\\site-packages\\sklearn\\metrics\\_classification.py:1531: UndefinedMetricWarning: Precision is ill-defined and being set to 0.0 in labels with no predicted samples. Use `zero_division` parameter to control this behavior.\n",
      "  _warn_prf(average, modifier, f\"{metric.capitalize()} is\", len(result))\n",
      "C:\\Users\\iidam\\AppData\\Local\\Packages\\PythonSoftwareFoundation.Python.3.11_qbz5n2kfra8p0\\LocalCache\\local-packages\\Python311\\site-packages\\sklearn\\metrics\\_classification.py:1531: UndefinedMetricWarning: Precision is ill-defined and being set to 0.0 in labels with no predicted samples. Use `zero_division` parameter to control this behavior.\n",
      "  _warn_prf(average, modifier, f\"{metric.capitalize()} is\", len(result))\n"
     ]
    },
    {
     "name": "stdout",
     "output_type": "stream",
     "text": [
      "[CV] END clf__batch_size=64, clf__epochs=50, clf__model__hidden_layers=(64, 32, 16), clf__model__learning_rate=0.0001; total time=   6.4s\n"
     ]
    },
    {
     "name": "stderr",
     "output_type": "stream",
     "text": [
      "C:\\Users\\iidam\\AppData\\Local\\Packages\\PythonSoftwareFoundation.Python.3.11_qbz5n2kfra8p0\\LocalCache\\local-packages\\Python311\\site-packages\\sklearn\\metrics\\_classification.py:1531: UndefinedMetricWarning: Precision is ill-defined and being set to 0.0 in labels with no predicted samples. Use `zero_division` parameter to control this behavior.\n",
      "  _warn_prf(average, modifier, f\"{metric.capitalize()} is\", len(result))\n",
      "C:\\Users\\iidam\\AppData\\Local\\Packages\\PythonSoftwareFoundation.Python.3.11_qbz5n2kfra8p0\\LocalCache\\local-packages\\Python311\\site-packages\\sklearn\\metrics\\_classification.py:1531: UndefinedMetricWarning: Precision is ill-defined and being set to 0.0 in labels with no predicted samples. Use `zero_division` parameter to control this behavior.\n",
      "  _warn_prf(average, modifier, f\"{metric.capitalize()} is\", len(result))\n"
     ]
    },
    {
     "name": "stdout",
     "output_type": "stream",
     "text": [
      "[CV] END clf__batch_size=64, clf__epochs=50, clf__model__hidden_layers=(64, 32, 16), clf__model__learning_rate=0.0001; total time=   5.8s\n"
     ]
    },
    {
     "name": "stderr",
     "output_type": "stream",
     "text": [
      "C:\\Users\\iidam\\AppData\\Local\\Packages\\PythonSoftwareFoundation.Python.3.11_qbz5n2kfra8p0\\LocalCache\\local-packages\\Python311\\site-packages\\sklearn\\metrics\\_classification.py:1531: UndefinedMetricWarning: Precision is ill-defined and being set to 0.0 in labels with no predicted samples. Use `zero_division` parameter to control this behavior.\n",
      "  _warn_prf(average, modifier, f\"{metric.capitalize()} is\", len(result))\n"
     ]
    },
    {
     "name": "stdout",
     "output_type": "stream",
     "text": [
      "[CV] END clf__batch_size=64, clf__epochs=50, clf__model__hidden_layers=(64, 32, 16), clf__model__learning_rate=0.0001; total time=   5.8s\n",
      "[CV] END clf__batch_size=64, clf__epochs=50, clf__model__hidden_layers=(64, 32, 16), clf__model__learning_rate=0.0001; total time=   5.4s\n",
      "[CV] END clf__batch_size=64, clf__epochs=50, clf__model__hidden_layers=(64, 32, 16), clf__model__learning_rate=0.0001; total time=   9.5s\n",
      "[CV] END clf__batch_size=64, clf__epochs=50, clf__model__hidden_layers=(128, 64, 32), clf__model__learning_rate=0.0001; total time=   8.9s\n",
      "[CV] END clf__batch_size=64, clf__epochs=50, clf__model__hidden_layers=(128, 64, 32), clf__model__learning_rate=0.0001; total time=   8.3s\n",
      "[CV] END clf__batch_size=64, clf__epochs=50, clf__model__hidden_layers=(128, 64, 32), clf__model__learning_rate=0.0001; total time=   7.2s\n",
      "[CV] END clf__batch_size=64, clf__epochs=50, clf__model__hidden_layers=(128, 64, 32), clf__model__learning_rate=0.0001; total time=  10.7s\n",
      "[CV] END clf__batch_size=64, clf__epochs=50, clf__model__hidden_layers=(128, 64, 32), clf__model__learning_rate=0.0001; total time=  15.5s\n"
     ]
    },
    {
     "name": "stderr",
     "output_type": "stream",
     "text": [
      "C:\\Users\\iidam\\AppData\\Local\\Packages\\PythonSoftwareFoundation.Python.3.11_qbz5n2kfra8p0\\LocalCache\\local-packages\\Python311\\site-packages\\sklearn\\metrics\\_classification.py:1531: UndefinedMetricWarning: Precision is ill-defined and being set to 0.0 in labels with no predicted samples. Use `zero_division` parameter to control this behavior.\n",
      "  _warn_prf(average, modifier, f\"{metric.capitalize()} is\", len(result))\n"
     ]
    },
    {
     "name": "stdout",
     "output_type": "stream",
     "text": [
      "[CV] END clf__batch_size=64, clf__epochs=100, clf__model__hidden_layers=(64, 32, 16), clf__model__learning_rate=0.0001; total time=  21.1s\n"
     ]
    },
    {
     "name": "stderr",
     "output_type": "stream",
     "text": [
      "C:\\Users\\iidam\\AppData\\Local\\Packages\\PythonSoftwareFoundation.Python.3.11_qbz5n2kfra8p0\\LocalCache\\local-packages\\Python311\\site-packages\\sklearn\\metrics\\_classification.py:1531: UndefinedMetricWarning: Precision is ill-defined and being set to 0.0 in labels with no predicted samples. Use `zero_division` parameter to control this behavior.\n",
      "  _warn_prf(average, modifier, f\"{metric.capitalize()} is\", len(result))\n"
     ]
    },
    {
     "name": "stdout",
     "output_type": "stream",
     "text": [
      "[CV] END clf__batch_size=64, clf__epochs=100, clf__model__hidden_layers=(64, 32, 16), clf__model__learning_rate=0.0001; total time=  30.6s\n",
      "[CV] END clf__batch_size=64, clf__epochs=100, clf__model__hidden_layers=(64, 32, 16), clf__model__learning_rate=0.0001; total time=  18.5s\n"
     ]
    },
    {
     "name": "stderr",
     "output_type": "stream",
     "text": [
      "C:\\Users\\iidam\\AppData\\Local\\Packages\\PythonSoftwareFoundation.Python.3.11_qbz5n2kfra8p0\\LocalCache\\local-packages\\Python311\\site-packages\\sklearn\\metrics\\_classification.py:1531: UndefinedMetricWarning: Precision is ill-defined and being set to 0.0 in labels with no predicted samples. Use `zero_division` parameter to control this behavior.\n",
      "  _warn_prf(average, modifier, f\"{metric.capitalize()} is\", len(result))\n",
      "C:\\Users\\iidam\\AppData\\Local\\Packages\\PythonSoftwareFoundation.Python.3.11_qbz5n2kfra8p0\\LocalCache\\local-packages\\Python311\\site-packages\\sklearn\\metrics\\_classification.py:1531: UndefinedMetricWarning: Precision is ill-defined and being set to 0.0 in labels with no predicted samples. Use `zero_division` parameter to control this behavior.\n",
      "  _warn_prf(average, modifier, f\"{metric.capitalize()} is\", len(result))\n"
     ]
    },
    {
     "name": "stdout",
     "output_type": "stream",
     "text": [
      "[CV] END clf__batch_size=64, clf__epochs=100, clf__model__hidden_layers=(64, 32, 16), clf__model__learning_rate=0.0001; total time=  16.7s\n"
     ]
    },
    {
     "name": "stderr",
     "output_type": "stream",
     "text": [
      "C:\\Users\\iidam\\AppData\\Local\\Packages\\PythonSoftwareFoundation.Python.3.11_qbz5n2kfra8p0\\LocalCache\\local-packages\\Python311\\site-packages\\sklearn\\metrics\\_classification.py:1531: UndefinedMetricWarning: Precision is ill-defined and being set to 0.0 in labels with no predicted samples. Use `zero_division` parameter to control this behavior.\n",
      "  _warn_prf(average, modifier, f\"{metric.capitalize()} is\", len(result))\n",
      "C:\\Users\\iidam\\AppData\\Local\\Packages\\PythonSoftwareFoundation.Python.3.11_qbz5n2kfra8p0\\LocalCache\\local-packages\\Python311\\site-packages\\sklearn\\metrics\\_classification.py:1531: UndefinedMetricWarning: Precision is ill-defined and being set to 0.0 in labels with no predicted samples. Use `zero_division` parameter to control this behavior.\n",
      "  _warn_prf(average, modifier, f\"{metric.capitalize()} is\", len(result))\n"
     ]
    },
    {
     "name": "stdout",
     "output_type": "stream",
     "text": [
      "[CV] END clf__batch_size=64, clf__epochs=100, clf__model__hidden_layers=(64, 32, 16), clf__model__learning_rate=0.0001; total time=  11.1s\n",
      "[CV] END clf__batch_size=64, clf__epochs=100, clf__model__hidden_layers=(128, 64, 32), clf__model__learning_rate=0.0001; total time=  10.9s\n",
      "[CV] END clf__batch_size=64, clf__epochs=100, clf__model__hidden_layers=(128, 64, 32), clf__model__learning_rate=0.0001; total time=  25.1s\n",
      "[CV] END clf__batch_size=64, clf__epochs=100, clf__model__hidden_layers=(128, 64, 32), clf__model__learning_rate=0.0001; total time=  10.4s\n",
      "[CV] END clf__batch_size=64, clf__epochs=100, clf__model__hidden_layers=(128, 64, 32), clf__model__learning_rate=0.0001; total time=  10.5s\n",
      "[CV] END clf__batch_size=64, clf__epochs=100, clf__model__hidden_layers=(128, 64, 32), clf__model__learning_rate=0.0001; total time=   9.5s\n"
     ]
    },
    {
     "name": "stderr",
     "output_type": "stream",
     "text": [
      "C:\\Users\\iidam\\AppData\\Local\\Packages\\PythonSoftwareFoundation.Python.3.11_qbz5n2kfra8p0\\LocalCache\\local-packages\\Python311\\site-packages\\numpy\\ma\\core.py:2881: RuntimeWarning: invalid value encountered in cast\n",
      "  _data = np.array(data, dtype=dtype, copy=copy,\n"
     ]
    },
    {
     "name": "stdout",
     "output_type": "stream",
     "text": [
      "Best CV BA: 0.582, ± 0.012\n",
      "train score [0.77966507 0.79952153 0.79258373 0.81068581 0.76515152 0.79489633\n",
      " 0.78692185 0.80478469] vs. cv test score [0.77607656 0.79043062 0.78660287 0.79968102 0.76172249 0.79106858\n",
      " 0.7814992  0.79712919]\n",
      "Best params:\n",
      "  clf__batch_size: 32\n",
      "  clf__epochs: 100\n",
      "  clf__model__hidden_layers: (128, 64, 32)\n",
      "  clf__model__learning_rate: 0.0001\n",
      "Mean CV accuracy: 0.786, ± 0.002\n",
      "Mean CV BA: 0.550, ± 0.005\n",
      "Mean CV f1: 0.551, ± 0.008\n",
      "Test set accuracy: 0.588\n",
      "Classification report\n",
      "               precision    recall  f1-score   support\n",
      "\n",
      "         1.0       0.85      0.68      0.76       187\n",
      "         2.0       0.80      0.96      0.87       517\n",
      "         3.0       0.71      0.12      0.21        80\n",
      "\n",
      "    accuracy                           0.81       784\n",
      "   macro avg       0.79      0.59      0.61       784\n",
      "weighted avg       0.80      0.81      0.78       784\n",
      "\n",
      "Balanced accuracy score: 0.5883348503811582\n"
     ]
    },
    {
     "data": {
      "image/png": "[encoded data removed]",
      "text/plain": [
       "<Figure size 640x480 with 2 Axes>"
      ]
     },
     "metadata": {},
     "output_type": "display_data"
    }
   ],
   "source": [
    "clf = KerasClassifier(\n",
    "    model=build_mlp,\n",
    "    epochs=50,\n",
    "    batch_size=32,\n",
    "    verbose=0\n",
    ")\n",
    "\n",
    "mlp_cv = Pipeline([\n",
    "    (\"impute\", SimpleImputer()),\n",
    "    (\"scale\", StandardScaler()),\n",
    "    (\"pca\", PCA(n_components=0.85)),\n",
    "    (\"clf\", clf)\n",
    "])\n",
    "\n",
    "train_mlp(mlp_cv, X_train_lidar, X_test_lidar, y_train_lidar, y_test_lidar)"
   ]
  },
  {
   "cell_type": "code",
   "execution_count": 76,
   "id": "23cdd838",
   "metadata": {},
   "outputs": [
    {
     "name": "stdout",
     "output_type": "stream",
     "text": [
      "Fitting 5 folds for each of 8 candidates, totalling 40 fits\n",
      "[CV] END clf__batch_size=32, clf__epochs=50, clf__model__hidden_layers=(64, 32, 16), clf__model__learning_rate=0.0001; total time=  35.2s\n",
      "[CV] END clf__batch_size=32, clf__epochs=50, clf__model__hidden_layers=(64, 32, 16), clf__model__learning_rate=0.0001; total time=  39.1s\n",
      "[CV] END clf__batch_size=32, clf__epochs=50, clf__model__hidden_layers=(64, 32, 16), clf__model__learning_rate=0.0001; total time=  42.6s\n",
      "[CV] END clf__batch_size=32, clf__epochs=50, clf__model__hidden_layers=(64, 32, 16), clf__model__learning_rate=0.0001; total time=  32.5s\n",
      "[CV] END clf__batch_size=32, clf__epochs=50, clf__model__hidden_layers=(64, 32, 16), clf__model__learning_rate=0.0001; total time=  41.3s\n",
      "[CV] END clf__batch_size=32, clf__epochs=50, clf__model__hidden_layers=(128, 64, 32), clf__model__learning_rate=0.0001; total time=  31.2s\n",
      "[CV] END clf__batch_size=32, clf__epochs=50, clf__model__hidden_layers=(128, 64, 32), clf__model__learning_rate=0.0001; total time=  27.8s\n",
      "[CV] END clf__batch_size=32, clf__epochs=50, clf__model__hidden_layers=(128, 64, 32), clf__model__learning_rate=0.0001; total time=  29.8s\n",
      "[CV] END clf__batch_size=32, clf__epochs=50, clf__model__hidden_layers=(128, 64, 32), clf__model__learning_rate=0.0001; total time=  24.1s\n",
      "[CV] END clf__batch_size=32, clf__epochs=50, clf__model__hidden_layers=(128, 64, 32), clf__model__learning_rate=0.0001; total time=  23.6s\n",
      "[CV] END clf__batch_size=32, clf__epochs=100, clf__model__hidden_layers=(64, 32, 16), clf__model__learning_rate=0.0001; total time= 1.0min\n",
      "[CV] END clf__batch_size=32, clf__epochs=100, clf__model__hidden_layers=(64, 32, 16), clf__model__learning_rate=0.0001; total time= 1.1min\n",
      "[CV] END clf__batch_size=32, clf__epochs=100, clf__model__hidden_layers=(64, 32, 16), clf__model__learning_rate=0.0001; total time= 1.1min\n",
      "[CV] END clf__batch_size=32, clf__epochs=100, clf__model__hidden_layers=(64, 32, 16), clf__model__learning_rate=0.0001; total time= 1.3min\n",
      "[CV] END clf__batch_size=32, clf__epochs=100, clf__model__hidden_layers=(64, 32, 16), clf__model__learning_rate=0.0001; total time= 1.1min\n",
      "[CV] END clf__batch_size=32, clf__epochs=100, clf__model__hidden_layers=(128, 64, 32), clf__model__learning_rate=0.0001; total time= 1.3min\n",
      "[CV] END clf__batch_size=32, clf__epochs=100, clf__model__hidden_layers=(128, 64, 32), clf__model__learning_rate=0.0001; total time= 1.1min\n",
      "[CV] END clf__batch_size=32, clf__epochs=100, clf__model__hidden_layers=(128, 64, 32), clf__model__learning_rate=0.0001; total time= 1.1min\n",
      "[CV] END clf__batch_size=32, clf__epochs=100, clf__model__hidden_layers=(128, 64, 32), clf__model__learning_rate=0.0001; total time=  47.2s\n",
      "[CV] END clf__batch_size=32, clf__epochs=100, clf__model__hidden_layers=(128, 64, 32), clf__model__learning_rate=0.0001; total time= 1.1min\n",
      "[CV] END clf__batch_size=64, clf__epochs=50, clf__model__hidden_layers=(64, 32, 16), clf__model__learning_rate=0.0001; total time=  25.8s\n",
      "[CV] END clf__batch_size=64, clf__epochs=50, clf__model__hidden_layers=(64, 32, 16), clf__model__learning_rate=0.0001; total time=  22.0s\n"
     ]
    },
    {
     "name": "stderr",
     "output_type": "stream",
     "text": [
      "C:\\Users\\iidam\\AppData\\Local\\Packages\\PythonSoftwareFoundation.Python.3.11_qbz5n2kfra8p0\\LocalCache\\local-packages\\Python311\\site-packages\\sklearn\\metrics\\_classification.py:1531: UndefinedMetricWarning: Precision is ill-defined and being set to 0.0 in labels with no predicted samples. Use `zero_division` parameter to control this behavior.\n",
      "  _warn_prf(average, modifier, f\"{metric.capitalize()} is\", len(result))\n",
      "C:\\Users\\iidam\\AppData\\Local\\Packages\\PythonSoftwareFoundation.Python.3.11_qbz5n2kfra8p0\\LocalCache\\local-packages\\Python311\\site-packages\\sklearn\\metrics\\_classification.py:1531: UndefinedMetricWarning: Precision is ill-defined and being set to 0.0 in labels with no predicted samples. Use `zero_division` parameter to control this behavior.\n",
      "  _warn_prf(average, modifier, f\"{metric.capitalize()} is\", len(result))\n"
     ]
    },
    {
     "name": "stdout",
     "output_type": "stream",
     "text": [
      "[CV] END clf__batch_size=64, clf__epochs=50, clf__model__hidden_layers=(64, 32, 16), clf__model__learning_rate=0.0001; total time=  20.1s\n",
      "[CV] END clf__batch_size=64, clf__epochs=50, clf__model__hidden_layers=(64, 32, 16), clf__model__learning_rate=0.0001; total time=  23.3s\n",
      "[CV] END clf__batch_size=64, clf__epochs=50, clf__model__hidden_layers=(64, 32, 16), clf__model__learning_rate=0.0001; total time=  26.6s\n",
      "[CV] END clf__batch_size=64, clf__epochs=50, clf__model__hidden_layers=(128, 64, 32), clf__model__learning_rate=0.0001; total time=  23.7s\n",
      "[CV] END clf__batch_size=64, clf__epochs=50, clf__model__hidden_layers=(128, 64, 32), clf__model__learning_rate=0.0001; total time=  22.0s\n",
      "[CV] END clf__batch_size=64, clf__epochs=50, clf__model__hidden_layers=(128, 64, 32), clf__model__learning_rate=0.0001; total time=  28.2s\n",
      "[CV] END clf__batch_size=64, clf__epochs=50, clf__model__hidden_layers=(128, 64, 32), clf__model__learning_rate=0.0001; total time=  25.9s\n",
      "[CV] END clf__batch_size=64, clf__epochs=50, clf__model__hidden_layers=(128, 64, 32), clf__model__learning_rate=0.0001; total time=  25.4s\n",
      "[CV] END clf__batch_size=64, clf__epochs=100, clf__model__hidden_layers=(64, 32, 16), clf__model__learning_rate=0.0001; total time=  40.1s\n",
      "[CV] END clf__batch_size=64, clf__epochs=100, clf__model__hidden_layers=(64, 32, 16), clf__model__learning_rate=0.0001; total time=  32.0s\n",
      "[CV] END clf__batch_size=64, clf__epochs=100, clf__model__hidden_layers=(64, 32, 16), clf__model__learning_rate=0.0001; total time=  31.7s\n",
      "[CV] END clf__batch_size=64, clf__epochs=100, clf__model__hidden_layers=(64, 32, 16), clf__model__learning_rate=0.0001; total time=  27.2s\n",
      "[CV] END clf__batch_size=64, clf__epochs=100, clf__model__hidden_layers=(64, 32, 16), clf__model__learning_rate=0.0001; total time=  54.3s\n",
      "[CV] END clf__batch_size=64, clf__epochs=100, clf__model__hidden_layers=(128, 64, 32), clf__model__learning_rate=0.0001; total time=  32.3s\n",
      "[CV] END clf__batch_size=64, clf__epochs=100, clf__model__hidden_layers=(128, 64, 32), clf__model__learning_rate=0.0001; total time=  29.3s\n",
      "[CV] END clf__batch_size=64, clf__epochs=100, clf__model__hidden_layers=(128, 64, 32), clf__model__learning_rate=0.0001; total time=  30.5s\n",
      "[CV] END clf__batch_size=64, clf__epochs=100, clf__model__hidden_layers=(128, 64, 32), clf__model__learning_rate=0.0001; total time=  29.0s\n",
      "[CV] END clf__batch_size=64, clf__epochs=100, clf__model__hidden_layers=(128, 64, 32), clf__model__learning_rate=0.0001; total time=  28.4s\n",
      "Best CV BA: 0.708, ± 0.021\n",
      "train score [0.74992026 0.75901116 0.76307815 0.76610845 0.65334928 0.74641148\n",
      " 0.75877193 0.7515949 ] vs. cv test score [0.73652313 0.73748006 0.74800638 0.72854864 0.64338118 0.73046252\n",
      " 0.74545455 0.73205742]\n",
      "Best params:\n",
      "  clf__batch_size: 32\n",
      "  clf__epochs: 50\n",
      "  clf__model__hidden_layers: (128, 64, 32)\n",
      "  clf__model__learning_rate: 0.0001\n",
      "Mean CV accuracy: 0.725, ± 0.019\n",
      "Mean CV BA: 0.681, ± 0.018\n",
      "Mean CV f1: 0.639, ± 0.027\n",
      "Test set accuracy: 0.758\n",
      "Classification report\n",
      "               precision    recall  f1-score   support\n",
      "\n",
      "         1.0       0.89      0.67      0.76       187\n",
      "         2.0       0.90      0.82      0.86       517\n",
      "         3.0       0.37      0.79      0.50        80\n",
      "\n",
      "    accuracy                           0.78       784\n",
      "   macro avg       0.72      0.76      0.71       784\n",
      "weighted avg       0.84      0.78      0.80       784\n",
      "\n",
      "Balanced accuracy score: 0.7580436720142604\n"
     ]
    },
    {
     "data": {
      "image/png": "[encoded data removed]",
      "text/plain": [
       "<Figure size 640x480 with 2 Axes>"
      ]
     },
     "metadata": {},
     "output_type": "display_data"
    }
   ],
   "source": [
    "clf = KerasClassifier(\n",
    "    model=build_mlp,\n",
    "    epochs=50,\n",
    "    batch_size=32,\n",
    "    verbose=0\n",
    ")\n",
    "\n",
    "mlp_cv = Pipeline([\n",
    "    (\"impute\", SimpleImputer()),\n",
    "    (\"scale\", StandardScaler()),\n",
    "    (\"pca\", PCA(n_components=12)),\n",
    "    (\"smote\", SMOTE(sampling_strategy='minority')),\n",
    "    (\"clf\", clf)\n",
    "])\n",
    "\n",
    "train_mlp(mlp_cv, X_train_lidar, X_test_lidar, y_train_lidar, y_test_lidar)"
   ]
  },
  {
   "cell_type": "code",
   "execution_count": 77,
   "id": "95b365be",
   "metadata": {},
   "outputs": [
    {
     "name": "stdout",
     "output_type": "stream",
     "text": [
      "Fitting 5 folds for each of 8 candidates, totalling 40 fits\n",
      "[CV] END clf__batch_size=32, clf__epochs=50, clf__model__hidden_layers=(64, 32, 16), clf__model__learning_rate=0.0001; total time=  30.3s\n",
      "[CV] END clf__batch_size=32, clf__epochs=50, clf__model__hidden_layers=(64, 32, 16), clf__model__learning_rate=0.0001; total time=  27.5s\n",
      "[CV] END clf__batch_size=32, clf__epochs=50, clf__model__hidden_layers=(64, 32, 16), clf__model__learning_rate=0.0001; total time=  27.6s\n",
      "[CV] END clf__batch_size=32, clf__epochs=50, clf__model__hidden_layers=(64, 32, 16), clf__model__learning_rate=0.0001; total time=  27.4s\n",
      "[CV] END clf__batch_size=32, clf__epochs=50, clf__model__hidden_layers=(64, 32, 16), clf__model__learning_rate=0.0001; total time=  28.6s\n",
      "[CV] END clf__batch_size=32, clf__epochs=50, clf__model__hidden_layers=(128, 64, 32), clf__model__learning_rate=0.0001; total time=  32.9s\n",
      "[CV] END clf__batch_size=32, clf__epochs=50, clf__model__hidden_layers=(128, 64, 32), clf__model__learning_rate=0.0001; total time=  34.4s\n",
      "[CV] END clf__batch_size=32, clf__epochs=50, clf__model__hidden_layers=(128, 64, 32), clf__model__learning_rate=0.0001; total time=  30.6s\n",
      "[CV] END clf__batch_size=32, clf__epochs=50, clf__model__hidden_layers=(128, 64, 32), clf__model__learning_rate=0.0001; total time=  29.5s\n",
      "[CV] END clf__batch_size=32, clf__epochs=50, clf__model__hidden_layers=(128, 64, 32), clf__model__learning_rate=0.0001; total time=  28.6s\n",
      "[CV] END clf__batch_size=32, clf__epochs=100, clf__model__hidden_layers=(64, 32, 16), clf__model__learning_rate=0.0001; total time=  52.7s\n",
      "[CV] END clf__batch_size=32, clf__epochs=100, clf__model__hidden_layers=(64, 32, 16), clf__model__learning_rate=0.0001; total time=  51.2s\n",
      "[CV] END clf__batch_size=32, clf__epochs=100, clf__model__hidden_layers=(64, 32, 16), clf__model__learning_rate=0.0001; total time=  55.1s\n",
      "[CV] END clf__batch_size=32, clf__epochs=100, clf__model__hidden_layers=(64, 32, 16), clf__model__learning_rate=0.0001; total time=  48.8s\n",
      "[CV] END clf__batch_size=32, clf__epochs=100, clf__model__hidden_layers=(64, 32, 16), clf__model__learning_rate=0.0001; total time=  46.3s\n",
      "[CV] END clf__batch_size=32, clf__epochs=100, clf__model__hidden_layers=(128, 64, 32), clf__model__learning_rate=0.0001; total time=  52.7s\n",
      "[CV] END clf__batch_size=32, clf__epochs=100, clf__model__hidden_layers=(128, 64, 32), clf__model__learning_rate=0.0001; total time=  48.3s\n",
      "[CV] END clf__batch_size=32, clf__epochs=100, clf__model__hidden_layers=(128, 64, 32), clf__model__learning_rate=0.0001; total time=  52.0s\n",
      "[CV] END clf__batch_size=32, clf__epochs=100, clf__model__hidden_layers=(128, 64, 32), clf__model__learning_rate=0.0001; total time=  50.4s\n",
      "[CV] END clf__batch_size=32, clf__epochs=100, clf__model__hidden_layers=(128, 64, 32), clf__model__learning_rate=0.0001; total time= 1.1min\n",
      "[CV] END clf__batch_size=64, clf__epochs=50, clf__model__hidden_layers=(64, 32, 16), clf__model__learning_rate=0.0001; total time=  18.0s\n",
      "[CV] END clf__batch_size=64, clf__epochs=50, clf__model__hidden_layers=(64, 32, 16), clf__model__learning_rate=0.0001; total time=  23.1s\n",
      "[CV] END clf__batch_size=64, clf__epochs=50, clf__model__hidden_layers=(64, 32, 16), clf__model__learning_rate=0.0001; total time=  20.0s\n",
      "[CV] END clf__batch_size=64, clf__epochs=50, clf__model__hidden_layers=(64, 32, 16), clf__model__learning_rate=0.0001; total time=  16.2s\n",
      "[CV] END clf__batch_size=64, clf__epochs=50, clf__model__hidden_layers=(64, 32, 16), clf__model__learning_rate=0.0001; total time=  16.9s\n",
      "[CV] END clf__batch_size=64, clf__epochs=50, clf__model__hidden_layers=(128, 64, 32), clf__model__learning_rate=0.0001; total time=  15.5s\n",
      "[CV] END clf__batch_size=64, clf__epochs=50, clf__model__hidden_layers=(128, 64, 32), clf__model__learning_rate=0.0001; total time=  16.7s\n",
      "[CV] END clf__batch_size=64, clf__epochs=50, clf__model__hidden_layers=(128, 64, 32), clf__model__learning_rate=0.0001; total time=  20.1s\n",
      "[CV] END clf__batch_size=64, clf__epochs=50, clf__model__hidden_layers=(128, 64, 32), clf__model__learning_rate=0.0001; total time=  21.9s\n",
      "[CV] END clf__batch_size=64, clf__epochs=50, clf__model__hidden_layers=(128, 64, 32), clf__model__learning_rate=0.0001; total time=  20.1s\n",
      "[CV] END clf__batch_size=64, clf__epochs=100, clf__model__hidden_layers=(64, 32, 16), clf__model__learning_rate=0.0001; total time=  34.6s\n",
      "[CV] END clf__batch_size=64, clf__epochs=100, clf__model__hidden_layers=(64, 32, 16), clf__model__learning_rate=0.0001; total time=  34.6s\n",
      "[CV] END clf__batch_size=64, clf__epochs=100, clf__model__hidden_layers=(64, 32, 16), clf__model__learning_rate=0.0001; total time=  36.5s\n",
      "[CV] END clf__batch_size=64, clf__epochs=100, clf__model__hidden_layers=(64, 32, 16), clf__model__learning_rate=0.0001; total time=  33.5s\n",
      "[CV] END clf__batch_size=64, clf__epochs=100, clf__model__hidden_layers=(64, 32, 16), clf__model__learning_rate=0.0001; total time=  50.2s\n",
      "[CV] END clf__batch_size=64, clf__epochs=100, clf__model__hidden_layers=(128, 64, 32), clf__model__learning_rate=0.0001; total time=  55.5s\n",
      "[CV] END clf__batch_size=64, clf__epochs=100, clf__model__hidden_layers=(128, 64, 32), clf__model__learning_rate=0.0001; total time=  40.4s\n",
      "[CV] END clf__batch_size=64, clf__epochs=100, clf__model__hidden_layers=(128, 64, 32), clf__model__learning_rate=0.0001; total time=  45.4s\n",
      "[CV] END clf__batch_size=64, clf__epochs=100, clf__model__hidden_layers=(128, 64, 32), clf__model__learning_rate=0.0001; total time=  44.6s\n",
      "[CV] END clf__batch_size=64, clf__epochs=100, clf__model__hidden_layers=(128, 64, 32), clf__model__learning_rate=0.0001; total time=  42.1s\n",
      "Best CV BA: 0.706, ± 0.017\n",
      "train score [0.72065391 0.74098884 0.73413078 0.7354067  0.68835726 0.73341308\n",
      " 0.75821372 0.73732057] vs. cv test score [0.70877193 0.72599681 0.71610845 0.70239234 0.67496013 0.72376396\n",
      " 0.74673046 0.71259968]\n",
      "Best params:\n",
      "  clf__batch_size: 32\n",
      "  clf__epochs: 100\n",
      "  clf__model__hidden_layers: (128, 64, 32)\n",
      "  clf__model__learning_rate: 0.0001\n",
      "Mean CV accuracy: 0.714, ± 0.015\n",
      "Mean CV BA: 0.679, ± 0.013\n",
      "Mean CV f1: 0.633, ± 0.018\n",
      "Test set accuracy: 0.757\n",
      "Classification report\n",
      "               precision    recall  f1-score   support\n",
      "\n",
      "         1.0       0.87      0.68      0.76       187\n",
      "         2.0       0.90      0.73      0.81       517\n",
      "         3.0       0.31      0.86      0.46        80\n",
      "\n",
      "    accuracy                           0.73       784\n",
      "   macro avg       0.70      0.76      0.68       784\n",
      "weighted avg       0.83      0.73      0.76       784\n",
      "\n",
      "Balanced accuracy score: 0.7569504494254181\n"
     ]
    },
    {
     "data": {
      "image/png": "[encoded data removed]",
      "text/plain": [
       "<Figure size 640x480 with 2 Axes>"
      ]
     },
     "metadata": {},
     "output_type": "display_data"
    }
   ],
   "source": [
    "clf = KerasClassifier(\n",
    "    model=build_mlp,\n",
    "    epochs=50,\n",
    "    batch_size=32,\n",
    "    verbose=0\n",
    ")\n",
    "\n",
    "mlp_cv = Pipeline([\n",
    "    (\"impute\", SimpleImputer()),\n",
    "    (\"scale\", StandardScaler()),\n",
    "    (\"pca\", PCA(n_components=12)),\n",
    "    (\"adasyn\", ADASYN(sampling_strategy='minority')),\n",
    "    (\"clf\", clf)\n",
    "])\n",
    "\n",
    "train_mlp(mlp_cv, X_train_lidar, X_test_lidar, y_train_lidar, y_test_lidar)"
   ]
  },
  {
   "cell_type": "code",
   "execution_count": 78,
   "id": "67c730fe",
   "metadata": {},
   "outputs": [
    {
     "name": "stdout",
     "output_type": "stream",
     "text": [
      "Fitting 5 folds for each of 8 candidates, totalling 40 fits\n",
      "[CV] END clf__batch_size=32, clf__epochs=50, clf__model__hidden_layers=(64, 32, 16), clf__model__learning_rate=0.0001; total time=  26.7s\n",
      "[CV] END clf__batch_size=32, clf__epochs=50, clf__model__hidden_layers=(64, 32, 16), clf__model__learning_rate=0.0001; total time=  27.6s\n",
      "[CV] END clf__batch_size=32, clf__epochs=50, clf__model__hidden_layers=(64, 32, 16), clf__model__learning_rate=0.0001; total time=  30.6s\n",
      "[CV] END clf__batch_size=32, clf__epochs=50, clf__model__hidden_layers=(64, 32, 16), clf__model__learning_rate=0.0001; total time=  35.0s\n",
      "[CV] END clf__batch_size=32, clf__epochs=50, clf__model__hidden_layers=(64, 32, 16), clf__model__learning_rate=0.0001; total time=  42.3s\n",
      "[CV] END clf__batch_size=32, clf__epochs=50, clf__model__hidden_layers=(128, 64, 32), clf__model__learning_rate=0.0001; total time=  34.2s\n",
      "[CV] END clf__batch_size=32, clf__epochs=50, clf__model__hidden_layers=(128, 64, 32), clf__model__learning_rate=0.0001; total time=  46.8s\n",
      "[CV] END clf__batch_size=32, clf__epochs=50, clf__model__hidden_layers=(128, 64, 32), clf__model__learning_rate=0.0001; total time=  39.7s\n",
      "[CV] END clf__batch_size=32, clf__epochs=50, clf__model__hidden_layers=(128, 64, 32), clf__model__learning_rate=0.0001; total time=  25.1s\n",
      "[CV] END clf__batch_size=32, clf__epochs=50, clf__model__hidden_layers=(128, 64, 32), clf__model__learning_rate=0.0001; total time=  25.4s\n",
      "[CV] END clf__batch_size=32, clf__epochs=100, clf__model__hidden_layers=(64, 32, 16), clf__model__learning_rate=0.0001; total time= 1.5min\n",
      "[CV] END clf__batch_size=32, clf__epochs=100, clf__model__hidden_layers=(64, 32, 16), clf__model__learning_rate=0.0001; total time= 1.2min\n",
      "[CV] END clf__batch_size=32, clf__epochs=100, clf__model__hidden_layers=(64, 32, 16), clf__model__learning_rate=0.0001; total time= 1.2min\n",
      "[CV] END clf__batch_size=32, clf__epochs=100, clf__model__hidden_layers=(64, 32, 16), clf__model__learning_rate=0.0001; total time= 1.2min\n",
      "[CV] END clf__batch_size=32, clf__epochs=100, clf__model__hidden_layers=(64, 32, 16), clf__model__learning_rate=0.0001; total time= 1.2min\n",
      "[CV] END clf__batch_size=32, clf__epochs=100, clf__model__hidden_layers=(128, 64, 32), clf__model__learning_rate=0.0001; total time= 1.2min\n",
      "[CV] END clf__batch_size=32, clf__epochs=100, clf__model__hidden_layers=(128, 64, 32), clf__model__learning_rate=0.0001; total time= 1.3min\n",
      "[CV] END clf__batch_size=32, clf__epochs=100, clf__model__hidden_layers=(128, 64, 32), clf__model__learning_rate=0.0001; total time= 1.0min\n",
      "[CV] END clf__batch_size=32, clf__epochs=100, clf__model__hidden_layers=(128, 64, 32), clf__model__learning_rate=0.0001; total time= 1.1min\n",
      "[CV] END clf__batch_size=32, clf__epochs=100, clf__model__hidden_layers=(128, 64, 32), clf__model__learning_rate=0.0001; total time=  53.3s\n",
      "[CV] END clf__batch_size=64, clf__epochs=50, clf__model__hidden_layers=(64, 32, 16), clf__model__learning_rate=0.0001; total time=  16.2s\n",
      "[CV] END clf__batch_size=64, clf__epochs=50, clf__model__hidden_layers=(64, 32, 16), clf__model__learning_rate=0.0001; total time=  16.9s\n"
     ]
    },
    {
     "name": "stderr",
     "output_type": "stream",
     "text": [
      "C:\\Users\\iidam\\AppData\\Local\\Packages\\PythonSoftwareFoundation.Python.3.11_qbz5n2kfra8p0\\LocalCache\\local-packages\\Python311\\site-packages\\sklearn\\metrics\\_classification.py:1531: UndefinedMetricWarning: Precision is ill-defined and being set to 0.0 in labels with no predicted samples. Use `zero_division` parameter to control this behavior.\n",
      "  _warn_prf(average, modifier, f\"{metric.capitalize()} is\", len(result))\n"
     ]
    },
    {
     "name": "stdout",
     "output_type": "stream",
     "text": [
      "[CV] END clf__batch_size=64, clf__epochs=50, clf__model__hidden_layers=(64, 32, 16), clf__model__learning_rate=0.0001; total time=  17.4s\n",
      "[CV] END clf__batch_size=64, clf__epochs=50, clf__model__hidden_layers=(64, 32, 16), clf__model__learning_rate=0.0001; total time=  17.5s\n",
      "[CV] END clf__batch_size=64, clf__epochs=50, clf__model__hidden_layers=(64, 32, 16), clf__model__learning_rate=0.0001; total time=  19.5s\n",
      "[CV] END clf__batch_size=64, clf__epochs=50, clf__model__hidden_layers=(128, 64, 32), clf__model__learning_rate=0.0001; total time=  17.3s\n",
      "[CV] END clf__batch_size=64, clf__epochs=50, clf__model__hidden_layers=(128, 64, 32), clf__model__learning_rate=0.0001; total time=  18.3s\n",
      "[CV] END clf__batch_size=64, clf__epochs=50, clf__model__hidden_layers=(128, 64, 32), clf__model__learning_rate=0.0001; total time=  19.1s\n",
      "[CV] END clf__batch_size=64, clf__epochs=50, clf__model__hidden_layers=(128, 64, 32), clf__model__learning_rate=0.0001; total time=  31.5s\n",
      "[CV] END clf__batch_size=64, clf__epochs=50, clf__model__hidden_layers=(128, 64, 32), clf__model__learning_rate=0.0001; total time=  20.5s\n",
      "[CV] END clf__batch_size=64, clf__epochs=100, clf__model__hidden_layers=(64, 32, 16), clf__model__learning_rate=0.0001; total time=  32.4s\n",
      "[CV] END clf__batch_size=64, clf__epochs=100, clf__model__hidden_layers=(64, 32, 16), clf__model__learning_rate=0.0001; total time=  32.2s\n",
      "[CV] END clf__batch_size=64, clf__epochs=100, clf__model__hidden_layers=(64, 32, 16), clf__model__learning_rate=0.0001; total time=  31.2s\n",
      "[CV] END clf__batch_size=64, clf__epochs=100, clf__model__hidden_layers=(64, 32, 16), clf__model__learning_rate=0.0001; total time=  28.9s\n",
      "[CV] END clf__batch_size=64, clf__epochs=100, clf__model__hidden_layers=(64, 32, 16), clf__model__learning_rate=0.0001; total time=  34.2s\n",
      "[CV] END clf__batch_size=64, clf__epochs=100, clf__model__hidden_layers=(128, 64, 32), clf__model__learning_rate=0.0001; total time=  34.6s\n",
      "[CV] END clf__batch_size=64, clf__epochs=100, clf__model__hidden_layers=(128, 64, 32), clf__model__learning_rate=0.0001; total time=  33.8s\n",
      "[CV] END clf__batch_size=64, clf__epochs=100, clf__model__hidden_layers=(128, 64, 32), clf__model__learning_rate=0.0001; total time=  37.1s\n",
      "[CV] END clf__batch_size=64, clf__epochs=100, clf__model__hidden_layers=(128, 64, 32), clf__model__learning_rate=0.0001; total time=  32.8s\n",
      "[CV] END clf__batch_size=64, clf__epochs=100, clf__model__hidden_layers=(128, 64, 32), clf__model__learning_rate=0.0001; total time=  34.4s\n",
      "Best CV BA: 0.710, ± 0.015\n",
      "train score [0.74665072 0.7638756  0.76802233 0.77958533 0.63708134 0.74649123\n",
      " 0.76132376 0.7685008 ] vs. cv test score [0.73971292 0.74896332 0.75598086 0.75279107 0.63349282 0.74322169\n",
      " 0.75566188 0.74704944]\n",
      "Best params:\n",
      "  clf__batch_size: 64\n",
      "  clf__epochs: 100\n",
      "  clf__model__hidden_layers: (128, 64, 32)\n",
      "  clf__model__learning_rate: 0.0001\n",
      "Mean CV accuracy: 0.735, ± 0.011\n",
      "Mean CV BA: 0.678, ± 0.010\n",
      "Mean CV f1: 0.637, ± 0.023\n",
      "Test set accuracy: 0.745\n",
      "Classification report\n",
      "               precision    recall  f1-score   support\n",
      "\n",
      "         1.0       0.87      0.69      0.77       187\n",
      "         2.0       0.89      0.78      0.84       517\n",
      "         3.0       0.34      0.76      0.47        80\n",
      "\n",
      "    accuracy                           0.76       784\n",
      "   macro avg       0.70      0.75      0.69       784\n",
      "weighted avg       0.83      0.76      0.78       784\n",
      "\n",
      "Balanced accuracy score: 0.7452350475973756\n"
     ]
    },
    {
     "data": {
      "image/png": "[encoded data removed]",
      "text/plain": [
       "<Figure size 640x480 with 2 Axes>"
      ]
     },
     "metadata": {},
     "output_type": "display_data"
    }
   ],
   "source": [
    "clf = KerasClassifier(\n",
    "    model=build_mlp,\n",
    "    epochs=50,\n",
    "    batch_size=32,\n",
    "    verbose=0\n",
    ")\n",
    "\n",
    "mlp_cv = Pipeline([\n",
    "    (\"impute\", SimpleImputer()),\n",
    "    (\"scale\", StandardScaler()),\n",
    "    (\"pca\", PCA(n_components=12)),\n",
    "    (\"bsmote\", BorderlineSMOTE(sampling_strategy='minority')),\n",
    "    (\"clf\", clf)\n",
    "])\n",
    "\n",
    "train_mlp(mlp_cv, X_train_lidar, X_test_lidar, y_train_lidar, y_test_lidar)"
   ]
  },
  {
   "cell_type": "markdown",
   "id": "8bed3d4e",
   "metadata": {},
   "source": [
    "all lidar"
   ]
  },
  {
   "cell_type": "code",
   "execution_count": 20,
   "id": "2fca8e87",
   "metadata": {},
   "outputs": [
    {
     "name": "stdout",
     "output_type": "stream",
     "text": [
      "Fitting 5 folds for each of 8 candidates, totalling 40 fits\n",
      "[CV] END clf__batch_size=32, clf__epochs=50, clf__model__hidden_layers=(64, 32, 16), clf__model__learning_rate=0.0001; total time=  26.1s\n",
      "[CV] END clf__batch_size=32, clf__epochs=50, clf__model__hidden_layers=(64, 32, 16), clf__model__learning_rate=0.0001; total time=  28.2s\n"
     ]
    },
    {
     "name": "stderr",
     "output_type": "stream",
     "text": [
      "C:\\Users\\iidam\\AppData\\Local\\Packages\\PythonSoftwareFoundation.Python.3.11_qbz5n2kfra8p0\\LocalCache\\local-packages\\Python311\\site-packages\\sklearn\\metrics\\_classification.py:1531: UndefinedMetricWarning: Precision is ill-defined and being set to 0.0 in labels with no predicted samples. Use `zero_division` parameter to control this behavior.\n",
      "  _warn_prf(average, modifier, f\"{metric.capitalize()} is\", len(result))\n"
     ]
    },
    {
     "name": "stdout",
     "output_type": "stream",
     "text": [
      "[CV] END clf__batch_size=32, clf__epochs=50, clf__model__hidden_layers=(64, 32, 16), clf__model__learning_rate=0.0001; total time=  31.2s\n",
      "[CV] END clf__batch_size=32, clf__epochs=50, clf__model__hidden_layers=(64, 32, 16), clf__model__learning_rate=0.0001; total time=  47.5s\n",
      "[CV] END clf__batch_size=32, clf__epochs=50, clf__model__hidden_layers=(64, 32, 16), clf__model__learning_rate=0.0001; total time=  34.2s\n",
      "[CV] END clf__batch_size=32, clf__epochs=50, clf__model__hidden_layers=(128, 64, 32), clf__model__learning_rate=0.0001; total time=  29.8s\n",
      "[CV] END clf__batch_size=32, clf__epochs=50, clf__model__hidden_layers=(128, 64, 32), clf__model__learning_rate=0.0001; total time=  33.8s\n",
      "[CV] END clf__batch_size=32, clf__epochs=50, clf__model__hidden_layers=(128, 64, 32), clf__model__learning_rate=0.0001; total time=  33.8s\n",
      "[CV] END clf__batch_size=32, clf__epochs=50, clf__model__hidden_layers=(128, 64, 32), clf__model__learning_rate=0.0001; total time=  31.9s\n",
      "[CV] END clf__batch_size=32, clf__epochs=50, clf__model__hidden_layers=(128, 64, 32), clf__model__learning_rate=0.0001; total time=  47.1s\n",
      "[CV] END clf__batch_size=32, clf__epochs=100, clf__model__hidden_layers=(64, 32, 16), clf__model__learning_rate=0.0001; total time=  54.5s\n",
      "[CV] END clf__batch_size=32, clf__epochs=100, clf__model__hidden_layers=(64, 32, 16), clf__model__learning_rate=0.0001; total time=  51.7s\n",
      "[CV] END clf__batch_size=32, clf__epochs=100, clf__model__hidden_layers=(64, 32, 16), clf__model__learning_rate=0.0001; total time=  56.6s\n",
      "[CV] END clf__batch_size=32, clf__epochs=100, clf__model__hidden_layers=(64, 32, 16), clf__model__learning_rate=0.0001; total time=  52.4s\n",
      "[CV] END clf__batch_size=32, clf__epochs=100, clf__model__hidden_layers=(64, 32, 16), clf__model__learning_rate=0.0001; total time=  44.3s\n",
      "[CV] END clf__batch_size=32, clf__epochs=100, clf__model__hidden_layers=(128, 64, 32), clf__model__learning_rate=0.0001; total time= 6.4min\n",
      "[CV] END clf__batch_size=32, clf__epochs=100, clf__model__hidden_layers=(128, 64, 32), clf__model__learning_rate=0.0001; total time= 1.4min\n",
      "[CV] END clf__batch_size=32, clf__epochs=100, clf__model__hidden_layers=(128, 64, 32), clf__model__learning_rate=0.0001; total time= 1.7min\n",
      "[CV] END clf__batch_size=32, clf__epochs=100, clf__model__hidden_layers=(128, 64, 32), clf__model__learning_rate=0.0001; total time= 1.2min\n",
      "[CV] END clf__batch_size=32, clf__epochs=100, clf__model__hidden_layers=(128, 64, 32), clf__model__learning_rate=0.0001; total time=  46.2s\n",
      "[CV] END clf__batch_size=64, clf__epochs=50, clf__model__hidden_layers=(64, 32, 16), clf__model__learning_rate=0.0001; total time=  16.9s\n",
      "[CV] END clf__batch_size=64, clf__epochs=50, clf__model__hidden_layers=(64, 32, 16), clf__model__learning_rate=0.0001; total time=  17.2s\n",
      "[CV] END clf__batch_size=64, clf__epochs=50, clf__model__hidden_layers=(64, 32, 16), clf__model__learning_rate=0.0001; total time=  16.7s\n",
      "[CV] END clf__batch_size=64, clf__epochs=50, clf__model__hidden_layers=(64, 32, 16), clf__model__learning_rate=0.0001; total time=  16.8s\n",
      "[CV] END clf__batch_size=64, clf__epochs=50, clf__model__hidden_layers=(64, 32, 16), clf__model__learning_rate=0.0001; total time=  16.2s\n",
      "[CV] END clf__batch_size=64, clf__epochs=50, clf__model__hidden_layers=(128, 64, 32), clf__model__learning_rate=0.0001; total time=  17.8s\n",
      "[CV] END clf__batch_size=64, clf__epochs=50, clf__model__hidden_layers=(128, 64, 32), clf__model__learning_rate=0.0001; total time=  17.7s\n",
      "[CV] END clf__batch_size=64, clf__epochs=50, clf__model__hidden_layers=(128, 64, 32), clf__model__learning_rate=0.0001; total time=  17.1s\n",
      "[CV] END clf__batch_size=64, clf__epochs=50, clf__model__hidden_layers=(128, 64, 32), clf__model__learning_rate=0.0001; total time=  17.3s\n",
      "[CV] END clf__batch_size=64, clf__epochs=50, clf__model__hidden_layers=(128, 64, 32), clf__model__learning_rate=0.0001; total time=  18.0s\n",
      "[CV] END clf__batch_size=64, clf__epochs=100, clf__model__hidden_layers=(64, 32, 16), clf__model__learning_rate=0.0001; total time=  33.9s\n",
      "[CV] END clf__batch_size=64, clf__epochs=100, clf__model__hidden_layers=(64, 32, 16), clf__model__learning_rate=0.0001; total time=  29.4s\n",
      "[CV] END clf__batch_size=64, clf__epochs=100, clf__model__hidden_layers=(64, 32, 16), clf__model__learning_rate=0.0001; total time=  29.4s\n",
      "[CV] END clf__batch_size=64, clf__epochs=100, clf__model__hidden_layers=(64, 32, 16), clf__model__learning_rate=0.0001; total time=  30.3s\n",
      "[CV] END clf__batch_size=64, clf__epochs=100, clf__model__hidden_layers=(64, 32, 16), clf__model__learning_rate=0.0001; total time=  29.0s\n",
      "[CV] END clf__batch_size=64, clf__epochs=100, clf__model__hidden_layers=(128, 64, 32), clf__model__learning_rate=0.0001; total time=  31.8s\n",
      "[CV] END clf__batch_size=64, clf__epochs=100, clf__model__hidden_layers=(128, 64, 32), clf__model__learning_rate=0.0001; total time=11.2min\n",
      "[CV] END clf__batch_size=64, clf__epochs=100, clf__model__hidden_layers=(128, 64, 32), clf__model__learning_rate=0.0001; total time= 1.1min\n",
      "[CV] END clf__batch_size=64, clf__epochs=100, clf__model__hidden_layers=(128, 64, 32), clf__model__learning_rate=0.0001; total time=  43.7s\n",
      "[CV] END clf__batch_size=64, clf__epochs=100, clf__model__hidden_layers=(128, 64, 32), clf__model__learning_rate=0.0001; total time=  32.9s\n",
      "Best CV BA: 0.679, ± 0.016\n",
      "train score [0.82719298 0.85701754 0.85645933 0.88476874 0.81913876 0.84425837\n",
      " 0.84473684 0.86969697] vs. cv test score [0.80542265 0.81754386 0.81626794 0.82200957 0.80510367 0.81339713\n",
      " 0.81435407 0.81562998]\n",
      "Best params:\n",
      "  clf__batch_size: 32\n",
      "  clf__epochs: 100\n",
      "  clf__model__hidden_layers: (128, 64, 32)\n",
      "  clf__model__learning_rate: 0.0001\n",
      "Mean CV accuracy: 0.814, ± 0.002\n",
      "Mean CV BA: 0.635, ± 0.008\n",
      "Mean CV f1: 0.649, ± 0.010\n",
      "Test set accuracy: 0.696\n",
      "Classification report\n",
      "               precision    recall  f1-score   support\n",
      "\n",
      "         1.0       0.82      0.79      0.80       187\n",
      "         2.0       0.86      0.92      0.89       517\n",
      "         3.0       0.62      0.38      0.47        80\n",
      "\n",
      "    accuracy                           0.84       784\n",
      "   macro avg       0.77      0.70      0.72       784\n",
      "weighted avg       0.83      0.84      0.83       784\n",
      "\n",
      "Balanced accuracy score: 0.696358137065271\n"
     ]
    },
    {
     "data": {
      "image/png": "[encoded data removed]",
      "text/plain": [
       "<Figure size 640x480 with 2 Axes>"
      ]
     },
     "metadata": {},
     "output_type": "display_data"
    }
   ],
   "source": [
    "clf = KerasClassifier(\n",
    "    model=build_mlp,\n",
    "    epochs=50,\n",
    "    batch_size=32,\n",
    "    verbose=0\n",
    ")\n",
    "\n",
    "mlp_cv = Pipeline([\n",
    "    (\"impute\", SimpleImputer()),\n",
    "    (\"scale\", StandardScaler()),\n",
    "    (\"clf\", clf)\n",
    "])\n",
    "\n",
    "train_mlp(mlp_cv, X_train_lidar, X_test_lidar, y_train_lidar, y_test_lidar)"
   ]
  },
  {
   "cell_type": "code",
   "execution_count": 21,
   "id": "803ff158",
   "metadata": {},
   "outputs": [
    {
     "name": "stdout",
     "output_type": "stream",
     "text": [
      "Fitting 5 folds for each of 8 candidates, totalling 40 fits\n",
      "[CV] END clf__batch_size=32, clf__epochs=50, clf__model__hidden_layers=(64, 32, 16), clf__model__learning_rate=0.0001; total time=  25.3s\n",
      "[CV] END clf__batch_size=32, clf__epochs=50, clf__model__hidden_layers=(64, 32, 16), clf__model__learning_rate=0.0001; total time=  23.5s\n",
      "[CV] END clf__batch_size=32, clf__epochs=50, clf__model__hidden_layers=(64, 32, 16), clf__model__learning_rate=0.0001; total time=  22.5s\n",
      "[CV] END clf__batch_size=32, clf__epochs=50, clf__model__hidden_layers=(64, 32, 16), clf__model__learning_rate=0.0001; total time=  26.6s\n",
      "[CV] END clf__batch_size=32, clf__epochs=50, clf__model__hidden_layers=(64, 32, 16), clf__model__learning_rate=0.0001; total time=  29.4s\n",
      "[CV] END clf__batch_size=32, clf__epochs=50, clf__model__hidden_layers=(128, 64, 32), clf__model__learning_rate=0.0001; total time=  31.2s\n",
      "[CV] END clf__batch_size=32, clf__epochs=50, clf__model__hidden_layers=(128, 64, 32), clf__model__learning_rate=0.0001; total time=  29.8s\n",
      "[CV] END clf__batch_size=32, clf__epochs=50, clf__model__hidden_layers=(128, 64, 32), clf__model__learning_rate=0.0001; total time=  26.8s\n",
      "[CV] END clf__batch_size=32, clf__epochs=50, clf__model__hidden_layers=(128, 64, 32), clf__model__learning_rate=0.0001; total time=  23.8s\n",
      "[CV] END clf__batch_size=32, clf__epochs=50, clf__model__hidden_layers=(128, 64, 32), clf__model__learning_rate=0.0001; total time=  26.1s\n",
      "[CV] END clf__batch_size=32, clf__epochs=100, clf__model__hidden_layers=(64, 32, 16), clf__model__learning_rate=0.0001; total time=  45.8s\n",
      "[CV] END clf__batch_size=32, clf__epochs=100, clf__model__hidden_layers=(64, 32, 16), clf__model__learning_rate=0.0001; total time=  49.3s\n",
      "[CV] END clf__batch_size=32, clf__epochs=100, clf__model__hidden_layers=(64, 32, 16), clf__model__learning_rate=0.0001; total time=  47.6s\n",
      "[CV] END clf__batch_size=32, clf__epochs=100, clf__model__hidden_layers=(64, 32, 16), clf__model__learning_rate=0.0001; total time=  53.1s\n",
      "[CV] END clf__batch_size=32, clf__epochs=100, clf__model__hidden_layers=(64, 32, 16), clf__model__learning_rate=0.0001; total time=  48.4s\n",
      "[CV] END clf__batch_size=32, clf__epochs=100, clf__model__hidden_layers=(128, 64, 32), clf__model__learning_rate=0.0001; total time=  54.0s\n",
      "[CV] END clf__batch_size=32, clf__epochs=100, clf__model__hidden_layers=(128, 64, 32), clf__model__learning_rate=0.0001; total time=  52.3s\n",
      "[CV] END clf__batch_size=32, clf__epochs=100, clf__model__hidden_layers=(128, 64, 32), clf__model__learning_rate=0.0001; total time=  45.5s\n",
      "[CV] END clf__batch_size=32, clf__epochs=100, clf__model__hidden_layers=(128, 64, 32), clf__model__learning_rate=0.0001; total time=  45.0s\n",
      "[CV] END clf__batch_size=32, clf__epochs=100, clf__model__hidden_layers=(128, 64, 32), clf__model__learning_rate=0.0001; total time=  45.1s\n",
      "[CV] END clf__batch_size=64, clf__epochs=50, clf__model__hidden_layers=(64, 32, 16), clf__model__learning_rate=0.0001; total time=  14.8s\n",
      "[CV] END clf__batch_size=64, clf__epochs=50, clf__model__hidden_layers=(64, 32, 16), clf__model__learning_rate=0.0001; total time=  14.2s\n",
      "[CV] END clf__batch_size=64, clf__epochs=50, clf__model__hidden_layers=(64, 32, 16), clf__model__learning_rate=0.0001; total time=  14.9s\n",
      "[CV] END clf__batch_size=64, clf__epochs=50, clf__model__hidden_layers=(64, 32, 16), clf__model__learning_rate=0.0001; total time=  14.0s\n",
      "[CV] END clf__batch_size=64, clf__epochs=50, clf__model__hidden_layers=(64, 32, 16), clf__model__learning_rate=0.0001; total time=  14.6s\n",
      "[CV] END clf__batch_size=64, clf__epochs=50, clf__model__hidden_layers=(128, 64, 32), clf__model__learning_rate=0.0001; total time=  15.7s\n",
      "[CV] END clf__batch_size=64, clf__epochs=50, clf__model__hidden_layers=(128, 64, 32), clf__model__learning_rate=0.0001; total time=  14.9s\n",
      "[CV] END clf__batch_size=64, clf__epochs=50, clf__model__hidden_layers=(128, 64, 32), clf__model__learning_rate=0.0001; total time=  14.5s\n",
      "[CV] END clf__batch_size=64, clf__epochs=50, clf__model__hidden_layers=(128, 64, 32), clf__model__learning_rate=0.0001; total time=  15.3s\n",
      "[CV] END clf__batch_size=64, clf__epochs=50, clf__model__hidden_layers=(128, 64, 32), clf__model__learning_rate=0.0001; total time=  16.7s\n",
      "[CV] END clf__batch_size=64, clf__epochs=100, clf__model__hidden_layers=(64, 32, 16), clf__model__learning_rate=0.0001; total time=  30.5s\n",
      "[CV] END clf__batch_size=64, clf__epochs=100, clf__model__hidden_layers=(64, 32, 16), clf__model__learning_rate=0.0001; total time=  32.7s\n",
      "[CV] END clf__batch_size=64, clf__epochs=100, clf__model__hidden_layers=(64, 32, 16), clf__model__learning_rate=0.0001; total time=  34.2s\n",
      "[CV] END clf__batch_size=64, clf__epochs=100, clf__model__hidden_layers=(64, 32, 16), clf__model__learning_rate=0.0001; total time=  34.0s\n",
      "[CV] END clf__batch_size=64, clf__epochs=100, clf__model__hidden_layers=(64, 32, 16), clf__model__learning_rate=0.0001; total time=  33.5s\n",
      "[CV] END clf__batch_size=64, clf__epochs=100, clf__model__hidden_layers=(128, 64, 32), clf__model__learning_rate=0.0001; total time=  38.3s\n",
      "[CV] END clf__batch_size=64, clf__epochs=100, clf__model__hidden_layers=(128, 64, 32), clf__model__learning_rate=0.0001; total time=  33.4s\n",
      "[CV] END clf__batch_size=64, clf__epochs=100, clf__model__hidden_layers=(128, 64, 32), clf__model__learning_rate=0.0001; total time=  33.3s\n",
      "[CV] END clf__batch_size=64, clf__epochs=100, clf__model__hidden_layers=(128, 64, 32), clf__model__learning_rate=0.0001; total time=  34.9s\n",
      "[CV] END clf__batch_size=64, clf__epochs=100, clf__model__hidden_layers=(128, 64, 32), clf__model__learning_rate=0.0001; total time=  32.0s\n",
      "Best CV BA: 0.726, ± 0.012\n",
      "train score [0.80358852 0.85119617 0.86714514 0.92177033 0.79210526 0.82424242\n",
      " 0.83588517 0.89162679] vs. cv test score [0.76108453 0.7722488  0.77894737 0.80063796 0.7476874  0.76905901\n",
      " 0.77065391 0.7923445 ]\n",
      "Best params:\n",
      "  clf__batch_size: 64\n",
      "  clf__epochs: 50\n",
      "  clf__model__hidden_layers: (128, 64, 32)\n",
      "  clf__model__learning_rate: 0.0001\n",
      "Mean CV accuracy: 0.774, ± 0.003\n",
      "Mean CV BA: 0.715, ± 0.006\n",
      "Mean CV f1: 0.686, ± 0.004\n",
      "Test set accuracy: 0.743\n",
      "Classification report\n",
      "               precision    recall  f1-score   support\n",
      "\n",
      "         1.0       0.86      0.71      0.77       187\n",
      "         2.0       0.88      0.81      0.84       517\n",
      "         3.0       0.37      0.71      0.49        80\n",
      "\n",
      "    accuracy                           0.78       784\n",
      "   macro avg       0.70      0.74      0.70       784\n",
      "weighted avg       0.82      0.78      0.79       784\n",
      "\n",
      "Balanced accuracy score: 0.742942409071946\n"
     ]
    },
    {
     "data": {
      "image/png": "[encoded data removed]",
      "text/plain": [
       "<Figure size 640x480 with 2 Axes>"
      ]
     },
     "metadata": {},
     "output_type": "display_data"
    }
   ],
   "source": [
    "clf = KerasClassifier(\n",
    "    model=build_mlp,\n",
    "    epochs=50,\n",
    "    batch_size=32,\n",
    "    verbose=0\n",
    ")\n",
    "\n",
    "mlp_cv = Pipeline([\n",
    "    (\"impute\", SimpleImputer()),\n",
    "    (\"scale\", StandardScaler()),\n",
    "    (\"smote\", SMOTE(sampling_strategy='minority')),\n",
    "    (\"clf\", clf)\n",
    "])\n",
    "\n",
    "train_mlp(mlp_cv, X_train_lidar, X_test_lidar, y_train_lidar, y_test_lidar)"
   ]
  },
  {
   "cell_type": "code",
   "execution_count": 22,
   "id": "cba39bdd",
   "metadata": {},
   "outputs": [
    {
     "name": "stdout",
     "output_type": "stream",
     "text": [
      "Fitting 5 folds for each of 8 candidates, totalling 40 fits\n",
      "[CV] END clf__batch_size=32, clf__epochs=50, clf__model__hidden_layers=(64, 32, 16), clf__model__learning_rate=0.0001; total time=  24.3s\n",
      "[CV] END clf__batch_size=32, clf__epochs=50, clf__model__hidden_layers=(64, 32, 16), clf__model__learning_rate=0.0001; total time=  24.2s\n",
      "[CV] END clf__batch_size=32, clf__epochs=50, clf__model__hidden_layers=(64, 32, 16), clf__model__learning_rate=0.0001; total time=  25.1s\n",
      "[CV] END clf__batch_size=32, clf__epochs=50, clf__model__hidden_layers=(64, 32, 16), clf__model__learning_rate=0.0001; total time=  27.2s\n",
      "[CV] END clf__batch_size=32, clf__epochs=50, clf__model__hidden_layers=(64, 32, 16), clf__model__learning_rate=0.0001; total time=  27.7s\n",
      "[CV] END clf__batch_size=32, clf__epochs=50, clf__model__hidden_layers=(128, 64, 32), clf__model__learning_rate=0.0001; total time=  27.0s\n",
      "[CV] END clf__batch_size=32, clf__epochs=50, clf__model__hidden_layers=(128, 64, 32), clf__model__learning_rate=0.0001; total time=  31.8s\n",
      "[CV] END clf__batch_size=32, clf__epochs=50, clf__model__hidden_layers=(128, 64, 32), clf__model__learning_rate=0.0001; total time=  25.0s\n",
      "[CV] END clf__batch_size=32, clf__epochs=50, clf__model__hidden_layers=(128, 64, 32), clf__model__learning_rate=0.0001; total time=  29.8s\n",
      "[CV] END clf__batch_size=32, clf__epochs=50, clf__model__hidden_layers=(128, 64, 32), clf__model__learning_rate=0.0001; total time=  30.6s\n",
      "[CV] END clf__batch_size=32, clf__epochs=100, clf__model__hidden_layers=(64, 32, 16), clf__model__learning_rate=0.0001; total time= 1.0min\n",
      "[CV] END clf__batch_size=32, clf__epochs=100, clf__model__hidden_layers=(64, 32, 16), clf__model__learning_rate=0.0001; total time=  59.3s\n",
      "[CV] END clf__batch_size=32, clf__epochs=100, clf__model__hidden_layers=(64, 32, 16), clf__model__learning_rate=0.0001; total time= 1.1min\n",
      "[CV] END clf__batch_size=32, clf__epochs=100, clf__model__hidden_layers=(64, 32, 16), clf__model__learning_rate=0.0001; total time= 1.0min\n",
      "[CV] END clf__batch_size=32, clf__epochs=100, clf__model__hidden_layers=(64, 32, 16), clf__model__learning_rate=0.0001; total time=  59.5s\n",
      "[CV] END clf__batch_size=32, clf__epochs=100, clf__model__hidden_layers=(128, 64, 32), clf__model__learning_rate=0.0001; total time= 1.0min\n",
      "[CV] END clf__batch_size=32, clf__epochs=100, clf__model__hidden_layers=(128, 64, 32), clf__model__learning_rate=0.0001; total time=  59.2s\n",
      "[CV] END clf__batch_size=32, clf__epochs=100, clf__model__hidden_layers=(128, 64, 32), clf__model__learning_rate=0.0001; total time=  57.0s\n",
      "[CV] END clf__batch_size=32, clf__epochs=100, clf__model__hidden_layers=(128, 64, 32), clf__model__learning_rate=0.0001; total time= 1.0min\n",
      "[CV] END clf__batch_size=32, clf__epochs=100, clf__model__hidden_layers=(128, 64, 32), clf__model__learning_rate=0.0001; total time= 1.0min\n",
      "[CV] END clf__batch_size=64, clf__epochs=50, clf__model__hidden_layers=(64, 32, 16), clf__model__learning_rate=0.0001; total time=  18.4s\n",
      "[CV] END clf__batch_size=64, clf__epochs=50, clf__model__hidden_layers=(64, 32, 16), clf__model__learning_rate=0.0001; total time=  19.1s\n",
      "[CV] END clf__batch_size=64, clf__epochs=50, clf__model__hidden_layers=(64, 32, 16), clf__model__learning_rate=0.0001; total time=  19.1s\n",
      "[CV] END clf__batch_size=64, clf__epochs=50, clf__model__hidden_layers=(64, 32, 16), clf__model__learning_rate=0.0001; total time=  18.1s\n",
      "[CV] END clf__batch_size=64, clf__epochs=50, clf__model__hidden_layers=(64, 32, 16), clf__model__learning_rate=0.0001; total time=  19.7s\n",
      "[CV] END clf__batch_size=64, clf__epochs=50, clf__model__hidden_layers=(128, 64, 32), clf__model__learning_rate=0.0001; total time=  19.4s\n",
      "[CV] END clf__batch_size=64, clf__epochs=50, clf__model__hidden_layers=(128, 64, 32), clf__model__learning_rate=0.0001; total time=  21.0s\n",
      "[CV] END clf__batch_size=64, clf__epochs=50, clf__model__hidden_layers=(128, 64, 32), clf__model__learning_rate=0.0001; total time=  21.4s\n",
      "[CV] END clf__batch_size=64, clf__epochs=50, clf__model__hidden_layers=(128, 64, 32), clf__model__learning_rate=0.0001; total time=  17.5s\n",
      "[CV] END clf__batch_size=64, clf__epochs=50, clf__model__hidden_layers=(128, 64, 32), clf__model__learning_rate=0.0001; total time=  16.9s\n",
      "[CV] END clf__batch_size=64, clf__epochs=100, clf__model__hidden_layers=(64, 32, 16), clf__model__learning_rate=0.0001; total time=  28.6s\n",
      "[CV] END clf__batch_size=64, clf__epochs=100, clf__model__hidden_layers=(64, 32, 16), clf__model__learning_rate=0.0001; total time=  28.3s\n",
      "[CV] END clf__batch_size=64, clf__epochs=100, clf__model__hidden_layers=(64, 32, 16), clf__model__learning_rate=0.0001; total time=  29.3s\n",
      "[CV] END clf__batch_size=64, clf__epochs=100, clf__model__hidden_layers=(64, 32, 16), clf__model__learning_rate=0.0001; total time=  28.3s\n",
      "[CV] END clf__batch_size=64, clf__epochs=100, clf__model__hidden_layers=(64, 32, 16), clf__model__learning_rate=0.0001; total time=  29.4s\n",
      "[CV] END clf__batch_size=64, clf__epochs=100, clf__model__hidden_layers=(128, 64, 32), clf__model__learning_rate=0.0001; total time=  32.5s\n",
      "[CV] END clf__batch_size=64, clf__epochs=100, clf__model__hidden_layers=(128, 64, 32), clf__model__learning_rate=0.0001; total time=  38.5s\n",
      "[CV] END clf__batch_size=64, clf__epochs=100, clf__model__hidden_layers=(128, 64, 32), clf__model__learning_rate=0.0001; total time=  39.6s\n",
      "[CV] END clf__batch_size=64, clf__epochs=100, clf__model__hidden_layers=(128, 64, 32), clf__model__learning_rate=0.0001; total time=  50.6s\n",
      "[CV] END clf__batch_size=64, clf__epochs=100, clf__model__hidden_layers=(128, 64, 32), clf__model__learning_rate=0.0001; total time=  42.5s\n",
      "Best CV BA: 0.728, ± 0.009\n",
      "train score [0.79473684 0.84904306 0.86826156 0.91937799 0.7823764  0.81913876\n",
      " 0.82671451 0.89114833] vs. cv test score [0.73397129 0.77448166 0.77320574 0.79617225 0.74545455 0.75342903\n",
      " 0.7645933  0.78755981]\n",
      "Best params:\n",
      "  clf__batch_size: 32\n",
      "  clf__epochs: 50\n",
      "  clf__model__hidden_layers: (128, 64, 32)\n",
      "  clf__model__learning_rate: 0.0001\n",
      "Mean CV accuracy: 0.766, ± 0.003\n",
      "Mean CV BA: 0.712, ± 0.004\n",
      "Mean CV f1: 0.680, ± 0.003\n",
      "Test set accuracy: 0.739\n",
      "Classification report\n",
      "               precision    recall  f1-score   support\n",
      "\n",
      "         1.0       0.85      0.72      0.78       187\n",
      "         2.0       0.88      0.81      0.84       517\n",
      "         3.0       0.37      0.69      0.48        80\n",
      "\n",
      "    accuracy                           0.78       784\n",
      "   macro avg       0.70      0.74      0.70       784\n",
      "weighted avg       0.82      0.78      0.79       784\n",
      "\n",
      "Balanced accuracy score: 0.739311923995904\n"
     ]
    },
    {
     "data": {
      "image/png": "[encoded data removed]",
      "text/plain": [
       "<Figure size 640x480 with 2 Axes>"
      ]
     },
     "metadata": {},
     "output_type": "display_data"
    }
   ],
   "source": [
    "clf = KerasClassifier(\n",
    "    model=build_mlp,\n",
    "    epochs=50,\n",
    "    batch_size=32,\n",
    "    verbose=0\n",
    ")\n",
    "\n",
    "mlp_cv = Pipeline([\n",
    "    (\"impute\", SimpleImputer()),\n",
    "    (\"scale\", StandardScaler()),\n",
    "    (\"adasyn\", ADASYN(sampling_strategy='minority')),\n",
    "    (\"clf\", clf)\n",
    "])\n",
    "\n",
    "train_mlp(mlp_cv, X_train_lidar, X_test_lidar, y_train_lidar, y_test_lidar)"
   ]
  },
  {
   "cell_type": "code",
   "execution_count": 23,
   "id": "deebc58c",
   "metadata": {},
   "outputs": [
    {
     "name": "stdout",
     "output_type": "stream",
     "text": [
      "Fitting 5 folds for each of 8 candidates, totalling 40 fits\n",
      "[CV] END clf__batch_size=32, clf__epochs=50, clf__model__hidden_layers=(64, 32, 16), clf__model__learning_rate=0.0001; total time=  26.9s\n",
      "[CV] END clf__batch_size=32, clf__epochs=50, clf__model__hidden_layers=(64, 32, 16), clf__model__learning_rate=0.0001; total time=  27.5s\n",
      "[CV] END clf__batch_size=32, clf__epochs=50, clf__model__hidden_layers=(64, 32, 16), clf__model__learning_rate=0.0001; total time=  29.6s\n",
      "[CV] END clf__batch_size=32, clf__epochs=50, clf__model__hidden_layers=(64, 32, 16), clf__model__learning_rate=0.0001; total time=  28.2s\n",
      "[CV] END clf__batch_size=32, clf__epochs=50, clf__model__hidden_layers=(64, 32, 16), clf__model__learning_rate=0.0001; total time=  28.7s\n",
      "[CV] END clf__batch_size=32, clf__epochs=50, clf__model__hidden_layers=(128, 64, 32), clf__model__learning_rate=0.0001; total time=  27.2s\n",
      "[CV] END clf__batch_size=32, clf__epochs=50, clf__model__hidden_layers=(128, 64, 32), clf__model__learning_rate=0.0001; total time=  29.1s\n",
      "[CV] END clf__batch_size=32, clf__epochs=50, clf__model__hidden_layers=(128, 64, 32), clf__model__learning_rate=0.0001; total time=  29.5s\n",
      "[CV] END clf__batch_size=32, clf__epochs=50, clf__model__hidden_layers=(128, 64, 32), clf__model__learning_rate=0.0001; total time=  29.1s\n",
      "[CV] END clf__batch_size=32, clf__epochs=50, clf__model__hidden_layers=(128, 64, 32), clf__model__learning_rate=0.0001; total time=  29.0s\n",
      "[CV] END clf__batch_size=32, clf__epochs=100, clf__model__hidden_layers=(64, 32, 16), clf__model__learning_rate=0.0001; total time=  46.5s\n",
      "[CV] END clf__batch_size=32, clf__epochs=100, clf__model__hidden_layers=(64, 32, 16), clf__model__learning_rate=0.0001; total time=  50.8s\n",
      "[CV] END clf__batch_size=32, clf__epochs=100, clf__model__hidden_layers=(64, 32, 16), clf__model__learning_rate=0.0001; total time=  53.1s\n",
      "[CV] END clf__batch_size=32, clf__epochs=100, clf__model__hidden_layers=(64, 32, 16), clf__model__learning_rate=0.0001; total time=  50.9s\n",
      "[CV] END clf__batch_size=32, clf__epochs=100, clf__model__hidden_layers=(64, 32, 16), clf__model__learning_rate=0.0001; total time=  57.7s\n",
      "[CV] END clf__batch_size=32, clf__epochs=100, clf__model__hidden_layers=(128, 64, 32), clf__model__learning_rate=0.0001; total time= 1.1min\n",
      "[CV] END clf__batch_size=32, clf__epochs=100, clf__model__hidden_layers=(128, 64, 32), clf__model__learning_rate=0.0001; total time= 1.0min\n",
      "[CV] END clf__batch_size=32, clf__epochs=100, clf__model__hidden_layers=(128, 64, 32), clf__model__learning_rate=0.0001; total time=  55.3s\n",
      "[CV] END clf__batch_size=32, clf__epochs=100, clf__model__hidden_layers=(128, 64, 32), clf__model__learning_rate=0.0001; total time=  50.2s\n",
      "[CV] END clf__batch_size=32, clf__epochs=100, clf__model__hidden_layers=(128, 64, 32), clf__model__learning_rate=0.0001; total time=  54.3s\n",
      "[CV] END clf__batch_size=64, clf__epochs=50, clf__model__hidden_layers=(64, 32, 16), clf__model__learning_rate=0.0001; total time=  18.6s\n",
      "[CV] END clf__batch_size=64, clf__epochs=50, clf__model__hidden_layers=(64, 32, 16), clf__model__learning_rate=0.0001; total time=  17.3s\n",
      "[CV] END clf__batch_size=64, clf__epochs=50, clf__model__hidden_layers=(64, 32, 16), clf__model__learning_rate=0.0001; total time=  17.5s\n",
      "[CV] END clf__batch_size=64, clf__epochs=50, clf__model__hidden_layers=(64, 32, 16), clf__model__learning_rate=0.0001; total time=  19.7s\n",
      "[CV] END clf__batch_size=64, clf__epochs=50, clf__model__hidden_layers=(64, 32, 16), clf__model__learning_rate=0.0001; total time=  24.4s\n",
      "[CV] END clf__batch_size=64, clf__epochs=50, clf__model__hidden_layers=(128, 64, 32), clf__model__learning_rate=0.0001; total time=39.1min\n",
      "[CV] END clf__batch_size=64, clf__epochs=50, clf__model__hidden_layers=(128, 64, 32), clf__model__learning_rate=0.0001; total time=  16.1s\n",
      "[CV] END clf__batch_size=64, clf__epochs=50, clf__model__hidden_layers=(128, 64, 32), clf__model__learning_rate=0.0001; total time=  15.5s\n",
      "[CV] END clf__batch_size=64, clf__epochs=50, clf__model__hidden_layers=(128, 64, 32), clf__model__learning_rate=0.0001; total time=  14.8s\n",
      "[CV] END clf__batch_size=64, clf__epochs=50, clf__model__hidden_layers=(128, 64, 32), clf__model__learning_rate=0.0001; total time=  15.9s\n",
      "[CV] END clf__batch_size=64, clf__epochs=100, clf__model__hidden_layers=(64, 32, 16), clf__model__learning_rate=0.0001; total time=  28.2s\n",
      "[CV] END clf__batch_size=64, clf__epochs=100, clf__model__hidden_layers=(64, 32, 16), clf__model__learning_rate=0.0001; total time=  25.2s\n",
      "[CV] END clf__batch_size=64, clf__epochs=100, clf__model__hidden_layers=(64, 32, 16), clf__model__learning_rate=0.0001; total time=  25.1s\n",
      "[CV] END clf__batch_size=64, clf__epochs=100, clf__model__hidden_layers=(64, 32, 16), clf__model__learning_rate=0.0001; total time=  26.8s\n",
      "[CV] END clf__batch_size=64, clf__epochs=100, clf__model__hidden_layers=(64, 32, 16), clf__model__learning_rate=0.0001; total time=  27.7s\n",
      "[CV] END clf__batch_size=64, clf__epochs=100, clf__model__hidden_layers=(128, 64, 32), clf__model__learning_rate=0.0001; total time=  29.8s\n",
      "[CV] END clf__batch_size=64, clf__epochs=100, clf__model__hidden_layers=(128, 64, 32), clf__model__learning_rate=0.0001; total time=  27.3s\n",
      "[CV] END clf__batch_size=64, clf__epochs=100, clf__model__hidden_layers=(128, 64, 32), clf__model__learning_rate=0.0001; total time=  28.1s\n",
      "[CV] END clf__batch_size=64, clf__epochs=100, clf__model__hidden_layers=(128, 64, 32), clf__model__learning_rate=0.0001; total time=  27.2s\n",
      "[CV] END clf__batch_size=64, clf__epochs=100, clf__model__hidden_layers=(128, 64, 32), clf__model__learning_rate=0.0001; total time=  29.2s\n",
      "Best CV BA: 0.731, ± 0.025\n",
      "train score [0.81658692 0.85701754 0.86626794 0.91555024 0.80893142 0.82432217\n",
      " 0.83763955 0.88819777] vs. cv test score [0.77097289 0.78628389 0.78883573 0.80191388 0.77990431 0.77639553\n",
      " 0.78532695 0.79489633]\n",
      "Best params:\n",
      "  clf__batch_size: 64\n",
      "  clf__epochs: 100\n",
      "  clf__model__hidden_layers: (64, 32, 16)\n",
      "  clf__model__learning_rate: 0.0001\n",
      "Mean CV accuracy: 0.786, ± 0.004\n",
      "Mean CV BA: 0.718, ± 0.003\n",
      "Mean CV f1: 0.695, ± 0.004\n",
      "Test set accuracy: 0.751\n",
      "Classification report\n",
      "               precision    recall  f1-score   support\n",
      "\n",
      "         1.0       0.82      0.72      0.77       187\n",
      "         2.0       0.88      0.83      0.86       517\n",
      "         3.0       0.42      0.70      0.53        80\n",
      "\n",
      "    accuracy                           0.79       784\n",
      "   macro avg       0.71      0.75      0.72       784\n",
      "weighted avg       0.82      0.79      0.80       784\n",
      "\n",
      "Balanced accuracy score: 0.7512155345697273\n"
     ]
    },
    {
     "data": {
      "image/png": "[encoded data removed]",
      "text/plain": [
       "<Figure size 640x480 with 2 Axes>"
      ]
     },
     "metadata": {},
     "output_type": "display_data"
    }
   ],
   "source": [
    "clf = KerasClassifier(\n",
    "    model=build_mlp,\n",
    "    epochs=50,\n",
    "    batch_size=32,\n",
    "    verbose=0\n",
    ")\n",
    "\n",
    "mlp_cv = Pipeline([\n",
    "    (\"impute\", SimpleImputer()),\n",
    "    (\"scale\", StandardScaler()),\n",
    "    (\"bsmote\", BorderlineSMOTE(sampling_strategy='minority')),\n",
    "    (\"clf\", clf)\n",
    "])\n",
    "\n",
    "train_mlp(mlp_cv, X_train_lidar, X_test_lidar, y_train_lidar, y_test_lidar)"
   ]
  }
 ],
 "metadata": {
  "kernelspec": {
   "display_name": "Python 3",
   "language": "python",
   "name": "python3"
  },
  "language_info": {
   "codemirror_mode": {
    "name": "ipython",
    "version": 3
   },
   "file_extension": ".py",
   "mimetype": "text/x-python",
   "name": "python",
   "nbconvert_exporter": "python",
   "pygments_lexer": "ipython3",
   "version": "3.11.9"
  }
 },
 "nbformat": 4,
 "nbformat_minor": 5
}
